{
 "cells": [
  {
   "cell_type": "markdown",
   "metadata": {},
   "source": [
    "# Twitter Reference Notebook"
   ]
  },
  {
   "cell_type": "code",
   "execution_count": 7,
   "metadata": {},
   "outputs": [],
   "source": [
    "import pandas as pd\n",
    "from tqdm.auto import tqdm\n",
    "tqdm.pandas()\n",
    "import os\n",
    "from collections import Counter\n",
    "from collections import OrderedDict"
   ]
  },
  {
   "cell_type": "markdown",
   "metadata": {},
   "source": [
    "## Maximal Matching with LEXiTron"
   ]
  },
  {
   "cell_type": "code",
   "execution_count": 2,
   "metadata": {},
   "outputs": [
    {
     "data": {
      "text/plain": [
       "['จุด', 'ตรวจวัด', 'คุณภาพ', 'อากาศ']"
      ]
     },
     "execution_count": 2,
     "metadata": {},
     "output_type": "execute_result"
    }
   ],
   "source": [
    "import pythaiwordcut as ptw\n",
    "pt = ptw.wordcut()\n",
    "pt.segment('จุดตรวจวัดคุณภาพอากาศ')"
   ]
  },
  {
   "cell_type": "markdown",
   "metadata": {},
   "source": [
    "# Create Stopword List"
   ]
  },
  {
   "cell_type": "code",
   "execution_count": 8,
   "metadata": {},
   "outputs": [],
   "source": [
    "def stopwordDetection(date_list,date_count):\n",
    "    keyword = []\n",
    "    for i in tqdm(date_list):\n",
    "        word = set()\n",
    "        temp = pd.read_csv('../assets/SplitData/'+i+'.csv')\n",
    "        for j in temp['summary']:\n",
    "            seg = pt.segment(str(j))\n",
    "            seg = set(seg)\n",
    "            word.update(seg)\n",
    "        keyword.extend(word)\n",
    "    sw = dict(Counter(keyword))\n",
    "    result = {key:value for key,value in sw.items() if value >= date_count}\n",
    "    stopwords = result.keys()\n",
    "    # intersect = list(keyword[0].intersection(*keyword))\n",
    "    return stopwords"
   ]
  },
  {
   "cell_type": "code",
   "execution_count": 9,
   "metadata": {},
   "outputs": [
    {
     "name": "stderr",
     "output_type": "stream",
     "text": [
      "100%|██████████| 27/27 [00:51<00:00,  1.89s/it]\n"
     ]
    },
    {
     "data": {
      "text/plain": [
       "2247"
      ]
     },
     "execution_count": 9,
     "metadata": {},
     "output_type": "execute_result"
    }
   ],
   "source": [
    "a = os.listdir('../assets/SplitData')\n",
    "files = [os.path.splitext(filename)[0] for filename in a]\n",
    "l = [day for day in files if day.split('_')[1] == '10']\n",
    "stopwords = stopwordDetection(l,20)\n",
    "len(stopwords)"
   ]
  },
  {
   "cell_type": "markdown",
   "metadata": {},
   "source": [
    "# Dataframe"
   ]
  },
  {
   "cell_type": "code",
   "execution_count": 5,
   "metadata": {},
   "outputs": [
    {
     "data": {
      "text/html": [
       "<div>\n",
       "<style scoped>\n",
       "    .dataframe tbody tr th:only-of-type {\n",
       "        vertical-align: middle;\n",
       "    }\n",
       "\n",
       "    .dataframe tbody tr th {\n",
       "        vertical-align: top;\n",
       "    }\n",
       "\n",
       "    .dataframe thead th {\n",
       "        text-align: right;\n",
       "    }\n",
       "</style>\n",
       "<table border=\"1\" class=\"dataframe\">\n",
       "  <thead>\n",
       "    <tr style=\"text-align: right;\">\n",
       "      <th></th>\n",
       "      <th>title</th>\n",
       "      <th>summary</th>\n",
       "      <th>link</th>\n",
       "      <th>published</th>\n",
       "    </tr>\n",
       "  </thead>\n",
       "  <tbody>\n",
       "    <tr>\n",
       "      <th>0</th>\n",
       "      <td>มีผลวันนี้(1 ต.ค.) ผ่อนปรนกิจการ-ขยายเคอร์ฟิว ...</td>\n",
       "      <td>มีผลวันนี้(1 ต.ค.64) ผ่อนปรนกิจการ-กิจกรรม พื้...</td>\n",
       "      <td>https://www.prachachat.net/general/news-770699</td>\n",
       "      <td>01_10_2021</td>\n",
       "    </tr>\n",
       "    <tr>\n",
       "      <th>1</th>\n",
       "      <td>“ศุภศิษฏ์” นำทัพ “META” เข้าลงทุน “พิโก โซลูชั...</td>\n",
       "      <td>“ศุภศิษฏ์” นำทัพ “META” เข้าลงทุน “พิโก โซลูชั...</td>\n",
       "      <td>https://www.prachachat.net/public-relations/ne...</td>\n",
       "      <td>01_10_2021</td>\n",
       "    </tr>\n",
       "    <tr>\n",
       "      <th>2</th>\n",
       "      <td>ซัคเซสมอร์ ร่วมฝ่าวิกฤต COVID-19 มอบ 1 ล้านบาท...</td>\n",
       "      <td>บริษัท ซัคเซสมอร์ บีอิ้งค์ จำกัด (มหาชน) หรือ ...</td>\n",
       "      <td>https://www.prachachat.net/public-relations/ne...</td>\n",
       "      <td>01_10_2021</td>\n",
       "    </tr>\n",
       "    <tr>\n",
       "      <th>3</th>\n",
       "      <td>แพ็กเกจตรวจคัดกรองมะเร็งเต้านม ด้วยเครื่องดิจิ...</td>\n",
       "      <td>เนื่องในเดือนแห่งการรณรงค์ป้องกันโรคมะเร็งเต้า...</td>\n",
       "      <td>https://www.prachachat.net/public-relations/ne...</td>\n",
       "      <td>01_10_2021</td>\n",
       "    </tr>\n",
       "    <tr>\n",
       "      <th>4</th>\n",
       "      <td>เรดซันเสิร์ฟบุฟเฟต์รับเทรนด์ เกาหลีฟีเวอร์-ดัน...</td>\n",
       "      <td>“เรดซัน” เปิดเกมรุกตลาดร้านอาหารเกาหลีเต็มสูบ ...</td>\n",
       "      <td>https://www.prachachat.net/marketing/news-770893</td>\n",
       "      <td>01_10_2021</td>\n",
       "    </tr>\n",
       "    <tr>\n",
       "      <th>...</th>\n",
       "      <td>...</td>\n",
       "      <td>...</td>\n",
       "      <td>...</td>\n",
       "      <td>...</td>\n",
       "    </tr>\n",
       "    <tr>\n",
       "      <th>688</th>\n",
       "      <td>“นัท” บุกคอนโดเตือนสติ “เป้” แอบจุกเพื่อช่วยเห...</td>\n",
       "      <td>พีกแล้วพีกอีก กับ “Me Always You รักวุ่นวาย ยั...</td>\n",
       "      <td>https://www.thairath.co.th/novel/news/2207601</td>\n",
       "      <td>01_10_2021</td>\n",
       "    </tr>\n",
       "    <tr>\n",
       "      <th>689</th>\n",
       "      <td>1 ต.1 ทฤษฎีใหม่ปราจีนบุรี สร้างเด็กถิ่นเป็นพี่...</td>\n",
       "      <td>โครงการ 1 ตำบล 1 กลุ่มเกษตรทฤษฎีใหม่ เป็นอีกนโ...</td>\n",
       "      <td>https://www.thairath.co.th/news/local/east/220...</td>\n",
       "      <td>01_10_2021</td>\n",
       "    </tr>\n",
       "    <tr>\n",
       "      <th>690</th>\n",
       "      <td>“SKYLIZE” 6 หนุ่ม COMBAT DANCE เขย่าวงการ จากย...</td>\n",
       "      <td>เพราะความมุ่งมั่นจนมาถึงวันของพวกเค้า จนเป็นวง...</td>\n",
       "      <td>https://www.thairath.co.th/entertain/news/2207582</td>\n",
       "      <td>01_10_2021</td>\n",
       "    </tr>\n",
       "    <tr>\n",
       "      <th>691</th>\n",
       "      <td>ผังอำนาจใหม่จัดยาก</td>\n",
       "      <td>ห้วงที่หลายเรื่องเกี่ยวกัน ทั้งศึกวัดพลัง ประล...</td>\n",
       "      <td>https://www.thairath.co.th/news/politic/2207967</td>\n",
       "      <td>01_10_2021</td>\n",
       "    </tr>\n",
       "    <tr>\n",
       "      <th>692</th>\n",
       "      <td>คลายล็อก ซ้อมเปิดประเทศ สัญญาณบ่งชี้ ถึงเวลาต้...</td>\n",
       "      <td>ถึงเวลาหรือยัง ที่ไทยจะ \"เปิดประเทศ\" ต้อนรับนั...</td>\n",
       "      <td>https://www.thairath.co.th/news/local/2207409</td>\n",
       "      <td>01_10_2021</td>\n",
       "    </tr>\n",
       "  </tbody>\n",
       "</table>\n",
       "<p>693 rows × 4 columns</p>\n",
       "</div>"
      ],
      "text/plain": [
       "                                                 title  \\\n",
       "0    มีผลวันนี้(1 ต.ค.) ผ่อนปรนกิจการ-ขยายเคอร์ฟิว ...   \n",
       "1    “ศุภศิษฏ์” นำทัพ “META” เข้าลงทุน “พิโก โซลูชั...   \n",
       "2    ซัคเซสมอร์ ร่วมฝ่าวิกฤต COVID-19 มอบ 1 ล้านบาท...   \n",
       "3    แพ็กเกจตรวจคัดกรองมะเร็งเต้านม ด้วยเครื่องดิจิ...   \n",
       "4    เรดซันเสิร์ฟบุฟเฟต์รับเทรนด์ เกาหลีฟีเวอร์-ดัน...   \n",
       "..                                                 ...   \n",
       "688  “นัท” บุกคอนโดเตือนสติ “เป้” แอบจุกเพื่อช่วยเห...   \n",
       "689  1 ต.1 ทฤษฎีใหม่ปราจีนบุรี สร้างเด็กถิ่นเป็นพี่...   \n",
       "690  “SKYLIZE” 6 หนุ่ม COMBAT DANCE เขย่าวงการ จากย...   \n",
       "691                                 ผังอำนาจใหม่จัดยาก   \n",
       "692  คลายล็อก ซ้อมเปิดประเทศ สัญญาณบ่งชี้ ถึงเวลาต้...   \n",
       "\n",
       "                                               summary  \\\n",
       "0    มีผลวันนี้(1 ต.ค.64) ผ่อนปรนกิจการ-กิจกรรม พื้...   \n",
       "1    “ศุภศิษฏ์” นำทัพ “META” เข้าลงทุน “พิโก โซลูชั...   \n",
       "2    บริษัท ซัคเซสมอร์ บีอิ้งค์ จำกัด (มหาชน) หรือ ...   \n",
       "3    เนื่องในเดือนแห่งการรณรงค์ป้องกันโรคมะเร็งเต้า...   \n",
       "4    “เรดซัน” เปิดเกมรุกตลาดร้านอาหารเกาหลีเต็มสูบ ...   \n",
       "..                                                 ...   \n",
       "688  พีกแล้วพีกอีก กับ “Me Always You รักวุ่นวาย ยั...   \n",
       "689  โครงการ 1 ตำบล 1 กลุ่มเกษตรทฤษฎีใหม่ เป็นอีกนโ...   \n",
       "690  เพราะความมุ่งมั่นจนมาถึงวันของพวกเค้า จนเป็นวง...   \n",
       "691  ห้วงที่หลายเรื่องเกี่ยวกัน ทั้งศึกวัดพลัง ประล...   \n",
       "692  ถึงเวลาหรือยัง ที่ไทยจะ \"เปิดประเทศ\" ต้อนรับนั...   \n",
       "\n",
       "                                                  link   published  \n",
       "0       https://www.prachachat.net/general/news-770699  01_10_2021  \n",
       "1    https://www.prachachat.net/public-relations/ne...  01_10_2021  \n",
       "2    https://www.prachachat.net/public-relations/ne...  01_10_2021  \n",
       "3    https://www.prachachat.net/public-relations/ne...  01_10_2021  \n",
       "4     https://www.prachachat.net/marketing/news-770893  01_10_2021  \n",
       "..                                                 ...         ...  \n",
       "688      https://www.thairath.co.th/novel/news/2207601  01_10_2021  \n",
       "689  https://www.thairath.co.th/news/local/east/220...  01_10_2021  \n",
       "690  https://www.thairath.co.th/entertain/news/2207582  01_10_2021  \n",
       "691    https://www.thairath.co.th/news/politic/2207967  01_10_2021  \n",
       "692      https://www.thairath.co.th/news/local/2207409  01_10_2021  \n",
       "\n",
       "[693 rows x 4 columns]"
      ]
     },
     "execution_count": 5,
     "metadata": {},
     "output_type": "execute_result"
    }
   ],
   "source": [
    "df = pd.read_csv('../assets/SplitData/01_10_2021.csv')\n",
    "df"
   ]
  },
  {
   "cell_type": "code",
   "execution_count": 6,
   "metadata": {},
   "outputs": [
    {
     "data": {
      "text/plain": [
       "'มีผลวันนี้(1 ต.ค.64) ผ่อนปรนกิจการ-กิจกรรม พื้นที่สีแดง […] อ่านข่าวต้นฉบับ: มีผลวันนี้(1 ต.ค.) ผ่อนปรนกิจการ-ขยายเคอร์ฟิว พื้นที่แดงเข้ม 29 จังหวัด'"
      ]
     },
     "execution_count": 6,
     "metadata": {},
     "output_type": "execute_result"
    }
   ],
   "source": [
    "temp = df.iloc[0]['summary']\n",
    "temp"
   ]
  },
  {
   "cell_type": "code",
   "execution_count": 7,
   "metadata": {},
   "outputs": [
    {
     "name": "stdout",
     "output_type": "stream",
     "text": [
      "['มีผล', 'วันนี้', '(', '1', 'ต.ค.', '64', ')', 'ผ่อนปรน', 'กิจการ', '-', 'กิจกรรม', 'พื้นที่', 'สีแดง', '[', '…', ']', 'อ่าน', 'ข่าว', 'ต้นฉบับ', ':', 'มีผล', 'วันนี้', '(', '1', 'ต.ค.', ')', 'ผ่อนปรน', 'กิจการ', '-', 'ขยาย', 'เคอร์ฟิว', 'พื้นที่', 'แดงเข้ม', '29', 'จังหวัด']\n"
     ]
    }
   ],
   "source": [
    "temp = pt.segment(temp)\n",
    "print(temp)"
   ]
  },
  {
   "cell_type": "code",
   "execution_count": 8,
   "metadata": {},
   "outputs": [
    {
     "name": "stdout",
     "output_type": "stream",
     "text": [
      "['มีผล', '', '', '', '', '', '', 'ผ่อนปรน', '', '', '', '', '', '', '', '', '', '', 'ต้นฉบับ', '', 'มีผล', '', '', '', '', '', 'ผ่อนปรน', '', '', '', '', '', 'แดงเข้ม', '', '']\n"
     ]
    }
   ],
   "source": [
    "remove = []\n",
    "for i in temp:\n",
    "    if len(i) > 1 and i not in stopwords:\n",
    "        remove.append(i)\n",
    "    else:\n",
    "        remove.append('')\n",
    "print(remove)"
   ]
  },
  {
   "cell_type": "code",
   "execution_count": 9,
   "metadata": {},
   "outputs": [
    {
     "name": "stdout",
     "output_type": "stream",
     "text": [
      "[]\n"
     ]
    }
   ],
   "source": [
    "result = []\n",
    "word = ''\n",
    "count = 0\n",
    "for i in remove:\n",
    "    if i != '':\n",
    "        word += i\n",
    "        count += 1\n",
    "    else:\n",
    "        if word != '' and count > 2:\n",
    "            result.append(word)\n",
    "        word = ''\n",
    "        count = 0\n",
    "if word != '' and remove[-1] != '':\n",
    "    result.append(word)\n",
    "print(result)"
   ]
  },
  {
   "cell_type": "markdown",
   "metadata": {},
   "source": [
    "# Keyword Extraction"
   ]
  },
  {
   "cell_type": "code",
   "execution_count": 14,
   "metadata": {},
   "outputs": [],
   "source": [
    "from collections import Counter\n",
    "def keywordExtraction(df_news):\n",
    "    \n",
    "    ## Word Segmentation \n",
    "    segment = [pt.segment(str(data)) for data in df_news['summary']]\n",
    "\n",
    "    ## Remove StopWord\n",
    "    pre_result = []\n",
    "    for news in tqdm(segment):\n",
    "        remove = []\n",
    "        for word in news:\n",
    "            if len(word) > 1 and word not in stopwords and not word.isdecimal():\n",
    "                remove.append(word)\n",
    "            else:\n",
    "                remove.append('')\n",
    "        pre_result.append(remove)\n",
    "\n",
    "    ## Keyword Extraction\n",
    "    result = []\n",
    "    for key in pre_result:\n",
    "        temp = []\n",
    "        word = ''\n",
    "        count = 0\n",
    "        for i in key:\n",
    "            if i != '':\n",
    "                word += i\n",
    "                count += 1\n",
    "            else:\n",
    "                if word != '' and count > 2:\n",
    "                    temp.append(word)\n",
    "                word = ''\n",
    "                count = 0\n",
    "        if word != '' and key[-1] != '':\n",
    "            temp.append(word)\n",
    "        result.extend(temp)\n",
    "    \n",
    "    final = dict(Counter(result))\n",
    "    final = dict(sorted(final.items(),key=lambda item:item[1],reverse=True))\n",
    "    table = pd.DataFrame([],columns=['word','frequency'])\n",
    "    table['word'] = [data[0] for data in final.items()]\n",
    "    table['frequency'] = [data[1] for data in final.items()]\n",
    "\n",
    "    return table[table['frequency'] > 1]"
   ]
  },
  {
   "cell_type": "code",
   "execution_count": 16,
   "metadata": {},
   "outputs": [
    {
     "name": "stderr",
     "output_type": "stream",
     "text": [
      "100%|██████████| 963/963 [00:00<00:00, 31058.65it/s]\n"
     ]
    },
    {
     "data": {
      "text/html": [
       "<div>\n",
       "<style scoped>\n",
       "    .dataframe tbody tr th:only-of-type {\n",
       "        vertical-align: middle;\n",
       "    }\n",
       "\n",
       "    .dataframe tbody tr th {\n",
       "        vertical-align: top;\n",
       "    }\n",
       "\n",
       "    .dataframe thead th {\n",
       "        text-align: right;\n",
       "    }\n",
       "</style>\n",
       "<table border=\"1\" class=\"dataframe\">\n",
       "  <thead>\n",
       "    <tr style=\"text-align: right;\">\n",
       "      <th></th>\n",
       "      <th>word</th>\n",
       "      <th>frequency</th>\n",
       "    </tr>\n",
       "  </thead>\n",
       "  <tbody>\n",
       "    <tr>\n",
       "      <th>0</th>\n",
       "      <td>บิทคับแคปปิตอลกรุ๊ปโฮลดิ้ง</td>\n",
       "      <td>8</td>\n",
       "    </tr>\n",
       "    <tr>\n",
       "      <th>1</th>\n",
       "      <td>DigitalAssetExchange</td>\n",
       "      <td>7</td>\n",
       "    </tr>\n",
       "    <tr>\n",
       "      <th>2</th>\n",
       "      <td>ตลาดน้ำยามเย็นอัมพวา</td>\n",
       "      <td>6</td>\n",
       "    </tr>\n",
       "    <tr>\n",
       "      <th>3</th>\n",
       "      <td>BitkubOnlineCo</td>\n",
       "      <td>5</td>\n",
       "    </tr>\n",
       "    <tr>\n",
       "      <th>4</th>\n",
       "      <td>GamingNotebookMSIKatanaGF</td>\n",
       "      <td>4</td>\n",
       "    </tr>\n",
       "    <tr>\n",
       "      <th>...</th>\n",
       "      <td>...</td>\n",
       "      <td>...</td>\n",
       "    </tr>\n",
       "    <tr>\n",
       "      <th>98</th>\n",
       "      <td>บ่อนเซาะกระบวนการยุติธรรม</td>\n",
       "      <td>2</td>\n",
       "    </tr>\n",
       "    <tr>\n",
       "      <th>99</th>\n",
       "      <td>ร่างกฎหมายหมิ่นประมาทกษัตริย์</td>\n",
       "      <td>2</td>\n",
       "    </tr>\n",
       "    <tr>\n",
       "      <th>100</th>\n",
       "      <td>Coinmarketcap</td>\n",
       "      <td>2</td>\n",
       "    </tr>\n",
       "    <tr>\n",
       "      <th>101</th>\n",
       "      <td>SaudiBritishBank</td>\n",
       "      <td>2</td>\n",
       "    </tr>\n",
       "    <tr>\n",
       "      <th>102</th>\n",
       "      <td>ประกันตัว</td>\n",
       "      <td>2</td>\n",
       "    </tr>\n",
       "  </tbody>\n",
       "</table>\n",
       "<p>103 rows × 2 columns</p>\n",
       "</div>"
      ],
      "text/plain": [
       "                              word  frequency\n",
       "0       บิทคับแคปปิตอลกรุ๊ปโฮลดิ้ง          8\n",
       "1             DigitalAssetExchange          7\n",
       "2             ตลาดน้ำยามเย็นอัมพวา          6\n",
       "3                   BitkubOnlineCo          5\n",
       "4        GamingNotebookMSIKatanaGF          4\n",
       "..                             ...        ...\n",
       "98       บ่อนเซาะกระบวนการยุติธรรม          2\n",
       "99   ร่างกฎหมายหมิ่นประมาทกษัตริย์          2\n",
       "100                  Coinmarketcap          2\n",
       "101               SaudiBritishBank          2\n",
       "102                      ประกันตัว          2\n",
       "\n",
       "[103 rows x 2 columns]"
      ]
     },
     "execution_count": 16,
     "metadata": {},
     "output_type": "execute_result"
    }
   ],
   "source": [
    "df = pd.read_csv('../assets/SplitData/2021_11_02.csv')\n",
    "keywordExtraction(df)"
   ]
  }
 ],
 "metadata": {
  "interpreter": {
   "hash": "79e31fca8912b52a24e38fd1bb3098dbc875f72cd4b82e079863a26457044337"
  },
  "kernelspec": {
   "display_name": "Python 3.7.9 64-bit",
   "name": "python3"
  },
  "language_info": {
   "codemirror_mode": {
    "name": "ipython",
    "version": 3
   },
   "file_extension": ".py",
   "mimetype": "text/x-python",
   "name": "python",
   "nbconvert_exporter": "python",
   "pygments_lexer": "ipython3",
   "version": "3.7.9"
  },
  "orig_nbformat": 4
 },
 "nbformat": 4,
 "nbformat_minor": 2
}

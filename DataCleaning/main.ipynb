{
  "nbformat": 4,
  "nbformat_minor": 2,
  "metadata": {
    "colab": {
      "name": "CleanRss",
      "provenance": []
    },
    "kernelspec": {
      "name": "python3",
      "display_name": "Python 3.8.5 64-bit ('base': conda)"
    },
    "language_info": {
      "name": "python",
      "version": "3.8.5",
      "mimetype": "text/x-python",
      "codemirror_mode": {
        "name": "ipython",
        "version": 3
      },
      "pygments_lexer": "ipython3",
      "nbconvert_exporter": "python",
      "file_extension": ".py"
    },
    "interpreter": {
      "hash": "b825cfde57f4fe2b066dee46d870faf19522c56f6a6e540eacd30e52a1215036"
    }
  },
  "cells": [
    {
      "cell_type": "markdown",
      "source": [
        "# Data Cleaning & Split Date"
      ],
      "metadata": {}
    },
    {
      "cell_type": "code",
      "execution_count": 24,
      "source": [
        "import pandas as pd\r\n",
        "from bs4 import BeautifulSoup as bs\r\n",
        "from datetime import datetime,timedelta\r\n",
        "import os"
      ],
      "outputs": [],
      "metadata": {
        "id": "MqosM1DocQ6s"
      }
    },
    {
      "cell_type": "code",
      "execution_count": 25,
      "source": [
        "all_agent = [\r\n",
        "    'ThaiPublica',\r\n",
        "    'PracharChat',\r\n",
        "    'Sanook',\r\n",
        "    'KhaoSod',\r\n",
        "    'Manager',\r\n",
        "    'NaewNa',\r\n",
        "    'Matichon',\r\n",
        "    'VoaThai',\r\n",
        "    'BangkokToday',\r\n",
        "    'Mcot',\r\n",
        "    'Mono29',\r\n",
        "    'Infoquest',\r\n",
        "    'PrachaTai',\r\n",
        "    'Thaiware',\r\n",
        "    'Investing',\r\n",
        "    'Goethe',\r\n",
        "    'ThaiPBS',\r\n",
        "    'SiamBlockchain',\r\n",
        "    'PostToday',\r\n",
        "    'ThaiRath'\r\n",
        "]"
      ],
      "outputs": [],
      "metadata": {
        "id": "Or1_f9GsswUX"
      }
    },
    {
      "cell_type": "code",
      "execution_count": 61,
      "source": [
        "def html_parser(news):    \r\n",
        "    temp =  bs(str(news),'html.parser').get_text()\r\n",
        "    result = \" \".join(temp.split())\r\n",
        "    return result"
      ],
      "outputs": [],
      "metadata": {
        "id": "vw6fK1JBqr-a"
      }
    },
    {
      "cell_type": "code",
      "execution_count": 27,
      "source": [
        "def local_time(time):\r\n",
        "    to_local = timedelta(hours=7)\r\n",
        "    date = []\r\n",
        "    if time[-1] == 'T':\r\n",
        "        date = datetime.strptime(time,'%a, %d %b %Y %H:%M:%S %Z') + to_local\r\n",
        "    elif time[-3] == ':' and time[-6] == ' ':\r\n",
        "        date = datetime.strptime(time,'%B %d, %Y %H:%M') + to_local\r\n",
        "    elif time[-3] == ':':\r\n",
        "        date = datetime.strptime(time,'%Y-%m-%d %H:%M:%S') + to_local\r\n",
        "    else:\r\n",
        "        date = datetime.strptime(time,'%a, %d %b %Y %H:%M:%S %z') + to_local\r\n",
        "    return date.strftime('%d_%m_%Y')"
      ],
      "outputs": [],
      "metadata": {
        "id": "SogKIyhgmqrP"
      }
    },
    {
      "cell_type": "code",
      "execution_count": 28,
      "source": [
        "def clean_csv(df_news):\r\n",
        "  temp = df_news\r\n",
        "  temp['summary'] = temp['summary'].apply(html_parser)\r\n",
        "  temp['published'] = temp['published'].apply(local_time)\r\n",
        "  result = temp.drop_duplicates(subset=['summary'])\r\n",
        "  result = result.reset_index(drop=True)\r\n",
        "  return result"
      ],
      "outputs": [],
      "metadata": {
        "id": "8yLAqPc3no20"
      }
    },
    {
      "cell_type": "code",
      "execution_count": 29,
      "source": [
        "def createFolder(directory):\r\n",
        "    try:\r\n",
        "        if not os.path.exists(directory):\r\n",
        "            os.makedirs(directory)\r\n",
        "    except OSError:\r\n",
        "        print ('Error: Creating directory. ' +  directory)"
      ],
      "outputs": [],
      "metadata": {
        "id": "GJUSNcF3N1cN"
      }
    },
    {
      "cell_type": "code",
      "execution_count": 30,
      "source": [
        "def split_time(df_news,agent):\r\n",
        "  temp = df_news\r\n",
        "  time = df_news['published'].unique()\r\n",
        "  for i in time:\r\n",
        "    data = df_news[df_news['published'] == i]\r\n",
        "    data.reset_index(drop=True,inplace=True)\r\n",
        "    createFolder('../assets/CleanedData/'+agent)\r\n",
        "    data.to_csv('../assets/CleanedData/'+agent+'/'+i+'.csv',index=False)"
      ],
      "outputs": [],
      "metadata": {
        "id": "xilxL7CVqliU"
      }
    },
    {
      "cell_type": "code",
      "execution_count": 31,
      "source": [
        "def to_csv(agent):\r\n",
        "  for i in agent:\r\n",
        "    print('Process : '+i)\r\n",
        "    df_news = pd.read_csv('../assets/Data/'+i+'.csv')\r\n",
        "    temp = clean_csv(df_news)\r\n",
        "    split_time(temp,i)\r\n",
        "    print('==========')"
      ],
      "outputs": [],
      "metadata": {
        "id": "OOih_3frKqWl"
      }
    },
    {
      "cell_type": "code",
      "execution_count": 32,
      "source": [
        "to_csv(all_agent)"
      ],
      "outputs": [
        {
          "output_type": "stream",
          "name": "stdout",
          "text": [
            "Process : ThaiPublica\n",
            "==========\n",
            "Process : PracharChat\n",
            "==========\n",
            "Process : Sanook\n",
            "==========\n",
            "Process : KhaoSod\n",
            "==========\n",
            "Process : Manager\n",
            "==========\n",
            "Process : NaewNa\n",
            "==========\n",
            "Process : Matichon\n",
            "==========\n",
            "Process : VoaThai\n",
            "==========\n",
            "Process : BangkokToday\n",
            "==========\n",
            "Process : Mcot\n",
            "==========\n",
            "Process : Mono29\n",
            "==========\n",
            "Process : Infoquest\n",
            "==========\n",
            "Process : PrachaTai\n",
            "==========\n",
            "Process : Thaiware\n",
            "==========\n",
            "Process : Investing\n",
            "==========\n",
            "Process : Goethe\n",
            "==========\n",
            "Process : ThaiPBS\n",
            "==========\n",
            "Process : SiamBlockchain\n",
            "==========\n",
            "Process : PostToday\n",
            "==========\n",
            "Process : ThaiRath\n",
            "==========\n"
          ]
        }
      ],
      "metadata": {
        "colab": {
          "base_uri": "https://localhost:8080/"
        },
        "id": "f5EBc8qPFlqb",
        "outputId": "60df504a-3d3a-44de-af79-d7a5696f9f68"
      }
    },
    {
      "cell_type": "code",
      "execution_count": 49,
      "source": [
        "df = pd.read_csv('../assets/Data/BangkokToday.csv')\r\n",
        "df.drop_duplicates(inplace=True)\r\n",
        "df.reset_index(drop=True,inplace=True)\r\n",
        "df"
      ],
      "outputs": [
        {
          "output_type": "execute_result",
          "data": {
            "text/html": [
              "<div>\n",
              "<style scoped>\n",
              "    .dataframe tbody tr th:only-of-type {\n",
              "        vertical-align: middle;\n",
              "    }\n",
              "\n",
              "    .dataframe tbody tr th {\n",
              "        vertical-align: top;\n",
              "    }\n",
              "\n",
              "    .dataframe thead th {\n",
              "        text-align: right;\n",
              "    }\n",
              "</style>\n",
              "<table border=\"1\" class=\"dataframe\">\n",
              "  <thead>\n",
              "    <tr style=\"text-align: right;\">\n",
              "      <th></th>\n",
              "      <th>title</th>\n",
              "      <th>summary</th>\n",
              "      <th>link</th>\n",
              "      <th>published</th>\n",
              "    </tr>\n",
              "  </thead>\n",
              "  <tbody>\n",
              "    <tr>\n",
              "      <th>0</th>\n",
              "      <td>ศบค.-สธ.-ศูนย์ข้อมูล COVID-19 แถลงข่าวสถานการณ...</td>\n",
              "      <td>&lt;p&gt;ศูนย์บริหารสถานการณ์แพร่ระบาดของโรคติดเชื้อ...</td>\n",
              "      <td>https://bangkok-today.com/%e0%b8%a8%e0%b8%9a%e...</td>\n",
              "      <td>Sun, 26 Sep 2021 13:43:16 +0000</td>\n",
              "    </tr>\n",
              "    <tr>\n",
              "      <th>1</th>\n",
              "      <td>“อนุกูล ปีดแก้ว” รองปลัดกระทรวง พม. เยี่ยมให้ก...</td>\n",
              "      <td>&lt;p&gt;นายอนุกูล ปีดแก้ว รองปลัดกระทรวงการพัฒนาสัง...</td>\n",
              "      <td>https://bangkok-today.com/%e0%b8%ad%e0%b8%99%e...</td>\n",
              "      <td>Sun, 26 Sep 2021 12:29:23 +0000</td>\n",
              "    </tr>\n",
              "    <tr>\n",
              "      <th>2</th>\n",
              "      <td>ด่วน! น้ำป่าถล่ม “อุ้มผาง” ไม่ทันตั้งตัว กลายเ...</td>\n",
              "      <td>&lt;p&gt;ผู้สื่อข่าวพิเศษ รายงานว่า หลังจากที่ “แม่ส...</td>\n",
              "      <td>https://bangkok-today.com/%e0%b8%94%e0%b9%88%e...</td>\n",
              "      <td>Sun, 26 Sep 2021 06:28:40 +0000</td>\n",
              "    </tr>\n",
              "    <tr>\n",
              "      <th>3</th>\n",
              "      <td>ททท.ชวนเปิดประสบการณ์สุดพิเศษ “ช้อป ฟิน กิน เท...</td>\n",
              "      <td>&lt;p&gt;การท่องเที่ยวแห่งประเทศไทย ยังคงเดินหน้ากระ...</td>\n",
              "      <td>https://bangkok-today.com/%e0%b8%97%e0%b8%97%e...</td>\n",
              "      <td>Sun, 26 Sep 2021 04:53:23 +0000</td>\n",
              "    </tr>\n",
              "    <tr>\n",
              "      <th>4</th>\n",
              "      <td>นวัตกรรมใหม่ เปลี่ยนลิ้นหัวใจผ่านสายสวน (TAVI)...</td>\n",
              "      <td>&lt;p&gt;เปลี่ยนลิ้นหัวใจไม่ต้องผ่าตัด ด้วยนวัตกรรม ...</td>\n",
              "      <td>https://bangkok-today.com/%e0%b8%99%e0%b8%a7%e...</td>\n",
              "      <td>Sun, 26 Sep 2021 04:01:11 +0000</td>\n",
              "    </tr>\n",
              "    <tr>\n",
              "      <th>...</th>\n",
              "      <td>...</td>\n",
              "      <td>...</td>\n",
              "      <td>...</td>\n",
              "      <td>...</td>\n",
              "    </tr>\n",
              "    <tr>\n",
              "      <th>89</th>\n",
              "      <td>Texas Chicken แนะนำเมนูใหม่ แพลนต์เบสคิกคิก รส...</td>\n",
              "      <td>&lt;p&gt;ครั้งแรกของเท็กซัส ชิคเก้น (Texas Chicken) ...</td>\n",
              "      <td>https://bangkok-today.com/texas-chicken-%e0%b9...</td>\n",
              "      <td>Fri, 01 Oct 2021 01:49:11 +0000</td>\n",
              "    </tr>\n",
              "    <tr>\n",
              "      <th>90</th>\n",
              "      <td>บี.กริม ผนึกสตาร์ทอัพ “อัลโต้เทค” คว้ารางวัลชน...</td>\n",
              "      <td>&lt;p&gt;บี.กริม ร่วมกับอัลโต้เทค (AltoTech) บริษัทส...</td>\n",
              "      <td>https://bangkok-today.com/%e0%b8%9a%e0%b8%b5-%...</td>\n",
              "      <td>Fri, 01 Oct 2021 01:45:11 +0000</td>\n",
              "    </tr>\n",
              "    <tr>\n",
              "      <th>91</th>\n",
              "      <td>รำลึก 6 ตุลา</td>\n",
              "      <td>&lt;p&gt;การจัดงานรำลึก 6 ตุลา 2519 และงานรำลึก 14 ต...</td>\n",
              "      <td>https://bangkok-today.com/%e0%b8%a3%e0%b8%b3%e...</td>\n",
              "      <td>Thu, 30 Sep 2021 22:07:59 +0000</td>\n",
              "    </tr>\n",
              "    <tr>\n",
              "      <th>92</th>\n",
              "      <td>พฤกษาช่วยวิกฤติโควิดมอบที่ดิน 3 ไร่สร้างโรงพยา...</td>\n",
              "      <td>&lt;p&gt;พฤกษา มอบที่ดิน 3 ไร่ ตรงข้ามโรงพยาบาลเลิดส...</td>\n",
              "      <td>https://bangkok-today.com/%e0%b8%9e%e0%b8%a4%e...</td>\n",
              "      <td>Fri, 01 Oct 2021 07:24:49 +0000</td>\n",
              "    </tr>\n",
              "    <tr>\n",
              "      <th>93</th>\n",
              "      <td>เสนอทางออก ปฏิรูปอำนาจเชิงโครงสร้างในกระบวนการ...</td>\n",
              "      <td>&lt;p&gt;“ตำรวจญี่ปุ่นมีคณะกรรมการตำรวจแห่งชาติ และค...</td>\n",
              "      <td>https://bangkok-today.com/%e0%b9%80%e0%b8%aa%e...</td>\n",
              "      <td>Fri, 01 Oct 2021 07:29:44 +0000</td>\n",
              "    </tr>\n",
              "  </tbody>\n",
              "</table>\n",
              "<p>94 rows × 4 columns</p>\n",
              "</div>"
            ],
            "text/plain": [
              "                                                title  \\\n",
              "0   ศบค.-สธ.-ศูนย์ข้อมูล COVID-19 แถลงข่าวสถานการณ...   \n",
              "1   “อนุกูล ปีดแก้ว” รองปลัดกระทรวง พม. เยี่ยมให้ก...   \n",
              "2   ด่วน! น้ำป่าถล่ม “อุ้มผาง” ไม่ทันตั้งตัว กลายเ...   \n",
              "3   ททท.ชวนเปิดประสบการณ์สุดพิเศษ “ช้อป ฟิน กิน เท...   \n",
              "4   นวัตกรรมใหม่ เปลี่ยนลิ้นหัวใจผ่านสายสวน (TAVI)...   \n",
              "..                                                ...   \n",
              "89  Texas Chicken แนะนำเมนูใหม่ แพลนต์เบสคิกคิก รส...   \n",
              "90  บี.กริม ผนึกสตาร์ทอัพ “อัลโต้เทค” คว้ารางวัลชน...   \n",
              "91                                       รำลึก 6 ตุลา   \n",
              "92  พฤกษาช่วยวิกฤติโควิดมอบที่ดิน 3 ไร่สร้างโรงพยา...   \n",
              "93  เสนอทางออก ปฏิรูปอำนาจเชิงโครงสร้างในกระบวนการ...   \n",
              "\n",
              "                                              summary  \\\n",
              "0   <p>ศูนย์บริหารสถานการณ์แพร่ระบาดของโรคติดเชื้อ...   \n",
              "1   <p>นายอนุกูล ปีดแก้ว รองปลัดกระทรวงการพัฒนาสัง...   \n",
              "2   <p>ผู้สื่อข่าวพิเศษ รายงานว่า หลังจากที่ “แม่ส...   \n",
              "3   <p>การท่องเที่ยวแห่งประเทศไทย ยังคงเดินหน้ากระ...   \n",
              "4   <p>เปลี่ยนลิ้นหัวใจไม่ต้องผ่าตัด ด้วยนวัตกรรม ...   \n",
              "..                                                ...   \n",
              "89  <p>ครั้งแรกของเท็กซัส ชิคเก้น (Texas Chicken) ...   \n",
              "90  <p>บี.กริม ร่วมกับอัลโต้เทค (AltoTech) บริษัทส...   \n",
              "91  <p>การจัดงานรำลึก 6 ตุลา 2519 และงานรำลึก 14 ต...   \n",
              "92  <p>พฤกษา มอบที่ดิน 3 ไร่ ตรงข้ามโรงพยาบาลเลิดส...   \n",
              "93  <p>“ตำรวจญี่ปุ่นมีคณะกรรมการตำรวจแห่งชาติ และค...   \n",
              "\n",
              "                                                 link  \\\n",
              "0   https://bangkok-today.com/%e0%b8%a8%e0%b8%9a%e...   \n",
              "1   https://bangkok-today.com/%e0%b8%ad%e0%b8%99%e...   \n",
              "2   https://bangkok-today.com/%e0%b8%94%e0%b9%88%e...   \n",
              "3   https://bangkok-today.com/%e0%b8%97%e0%b8%97%e...   \n",
              "4   https://bangkok-today.com/%e0%b8%99%e0%b8%a7%e...   \n",
              "..                                                ...   \n",
              "89  https://bangkok-today.com/texas-chicken-%e0%b9...   \n",
              "90  https://bangkok-today.com/%e0%b8%9a%e0%b8%b5-%...   \n",
              "91  https://bangkok-today.com/%e0%b8%a3%e0%b8%b3%e...   \n",
              "92  https://bangkok-today.com/%e0%b8%9e%e0%b8%a4%e...   \n",
              "93  https://bangkok-today.com/%e0%b9%80%e0%b8%aa%e...   \n",
              "\n",
              "                          published  \n",
              "0   Sun, 26 Sep 2021 13:43:16 +0000  \n",
              "1   Sun, 26 Sep 2021 12:29:23 +0000  \n",
              "2   Sun, 26 Sep 2021 06:28:40 +0000  \n",
              "3   Sun, 26 Sep 2021 04:53:23 +0000  \n",
              "4   Sun, 26 Sep 2021 04:01:11 +0000  \n",
              "..                              ...  \n",
              "89  Fri, 01 Oct 2021 01:49:11 +0000  \n",
              "90  Fri, 01 Oct 2021 01:45:11 +0000  \n",
              "91  Thu, 30 Sep 2021 22:07:59 +0000  \n",
              "92  Fri, 01 Oct 2021 07:24:49 +0000  \n",
              "93  Fri, 01 Oct 2021 07:29:44 +0000  \n",
              "\n",
              "[94 rows x 4 columns]"
            ]
          },
          "metadata": {},
          "execution_count": 49
        }
      ],
      "metadata": {}
    },
    {
      "cell_type": "code",
      "execution_count": 62,
      "source": [
        "df[\"summary\"].iloc[1]"
      ],
      "outputs": [
        {
          "output_type": "execute_result",
          "data": {
            "text/plain": [
              "'<p>นายอนุกูล ปีดแก้ว\\xa0รองปลัดกระทรวงการพัฒนาสังคมและความมั่นคงของมนุษย์ (พม.) พร้อมด้วย\\xa0นายสุริชาติ จงจิตต์\\xa0ผู้อำนวยการกองกิจการอาสาสมัครและภาคประชาสังคม และคณะ ตรวจเยี่ยมหน่วยงาน ให้กำลังใจ และข้อเสนอแนะการดำเนินงาน ณ นิคมสร้างตนเองบางระกำ จังหวัดพิษณุโลก เพื่อรับทราบบริบทเชิงพื้นที่ ตลอดจนปัญหา อุปสรรคในการทำงาน ประกอบการวางแผนส่งเสริมสมาชิกนิคมสร้างตนเองทั่วประเทศขับเคลื่อน BCG Economy ตามนโยบายรัฐบาล โดยมี\\xa0นางสาวโสพิญฐ์ สุวรรณหงส์\\xa0ผู้ปกครองนิคมสร้างตนเองบางระกำ พร้อมด้วย\\xa0นางสาวศศิกมล เลี่ยมรักษ์\\xa0ผู้ปกครองนิคมสร้างตนเองทุ่งสาน จังหวัดพิษณุโลก ตลอดจนข้าราชการและเจ้าหน้าที่นิคมฯให้การต้อนรับและรับมอบนโยบายการขับเคลื่อนงานดังกล่าว นายอนุกูล กล่าวว่า นิคมสร้างตนเอง เป็นหน่วยงานที่ดูแลราษฎรที่ประสบปัญหาความทุกข์ยากเดือดร้อนเรื่องที่ดินทำกินเพื่อการเกษตร ดังนั้น การส่งเสริมให้สมาชิกนิคมสร้างตนเองทำการเกษตรโดยคำนึงถึง BCG เศรษฐกิจชีวภาพ เศรษฐกิจหมุนเวียน และเศรษฐกิจสีเขียว (Bio-Circular-Green Economy) ถือเป็น โมเดลเศรษฐกิจสู่การพัฒนาที่ยั่งยืน ที่มีความเหมาะสมกับสภาพแวดล้อมเชิงพื้นที่ ตลอดจนสามารถพัฒนาคุณภาพชีวิตของราษฎรซึ่งเป็นสมาชิกนิคมสร้างตนเองที่ประกอบอาชีพหลักทางการเกษตรให้มีความเป็นอยู่ที่ดีและมีความมั่นคง พร้อมมอบนโยบายให้นิคมสร้างตนเองดำเนินงานโดยคำนึงถึงการบูรณาการในการทำงานกับทุกภาคส่วนเป็นสำคัญ ปรับเปลี่ยนวิธีการทำงานให้สอดรับกับการเปลี่ยนแปลงในสถานการณ์ปัจจุบัน และการทำงานโดยให้ความสำคัญกับกลไกอาสาสมัครพัฒนาสังคมและความมั่นคงของมนุษย์ (อพม.) เป็นพลังในการเข้าถึงชุมชน มุ่งขับเคลื่อนงานตามหลักปรัชญาเศรษฐกิจพอเพียง นายอนุกูล ปีดแก้ว\\xa0รองปลัดกระทรวง พม. กล่าวด้วยว่า “ในฐานะที่นิคมสร้างตนเองเป็นหน่วยงานภายใต้สังกัด พม. ความทุกข์สุขของประชาชนถือเป็นภารกิจของ พม. [&#8230;]</p>\\n<p>The post <a href=\"https://bangkok-today.com/%e0%b8%ad%e0%b8%99%e0%b8%b8%e0%b8%81%e0%b8%b9%e0%b8%a5-%e0%b8%9b%e0%b8%b5%e0%b8%94%e0%b9%81%e0%b8%81%e0%b9%89%e0%b8%a7-%e0%b8%a3%e0%b8%ad%e0%b8%87%e0%b8%9b%e0%b8%a5%e0%b8%b1%e0%b8%94%e0%b8%81/\">“อนุกูล ปีดแก้ว” รองปลัดกระทรวง พม. เยี่ยมให้กำลังใจหน่วยงานส่งเสริมการขับเคลื่อน BCG ในพื้นที่นิคมสร้างตนเอง จ.พิษณุโลก</a> first appeared on <a href=\"https://bangkok-today.com\">สำนักข่าว บางกอก ทูเดย์</a>.</p>'"
            ]
          },
          "metadata": {},
          "execution_count": 62
        }
      ],
      "metadata": {}
    },
    {
      "cell_type": "code",
      "execution_count": 63,
      "source": [
        "html_parser(df[\"summary\"].iloc[1])"
      ],
      "outputs": [
        {
          "output_type": "execute_result",
          "data": {
            "text/plain": [
              "'นายอนุกูล ปีดแก้ว รองปลัดกระทรวงการพัฒนาสังคมและความมั่นคงของมนุษย์ (พม.) พร้อมด้วย นายสุริชาติ จงจิตต์ ผู้อำนวยการกองกิจการอาสาสมัครและภาคประชาสังคม และคณะ ตรวจเยี่ยมหน่วยงาน ให้กำลังใจ และข้อเสนอแนะการดำเนินงาน ณ นิคมสร้างตนเองบางระกำ จังหวัดพิษณุโลก เพื่อรับทราบบริบทเชิงพื้นที่ ตลอดจนปัญหา อุปสรรคในการทำงาน ประกอบการวางแผนส่งเสริมสมาชิกนิคมสร้างตนเองทั่วประเทศขับเคลื่อน BCG Economy ตามนโยบายรัฐบาล โดยมี นางสาวโสพิญฐ์ สุวรรณหงส์ ผู้ปกครองนิคมสร้างตนเองบางระกำ พร้อมด้วย นางสาวศศิกมล เลี่ยมรักษ์ ผู้ปกครองนิคมสร้างตนเองทุ่งสาน จังหวัดพิษณุโลก ตลอดจนข้าราชการและเจ้าหน้าที่นิคมฯให้การต้อนรับและรับมอบนโยบายการขับเคลื่อนงานดังกล่าว นายอนุกูล กล่าวว่า นิคมสร้างตนเอง เป็นหน่วยงานที่ดูแลราษฎรที่ประสบปัญหาความทุกข์ยากเดือดร้อนเรื่องที่ดินทำกินเพื่อการเกษตร ดังนั้น การส่งเสริมให้สมาชิกนิคมสร้างตนเองทำการเกษตรโดยคำนึงถึง BCG เศรษฐกิจชีวภาพ เศรษฐกิจหมุนเวียน และเศรษฐกิจสีเขียว (Bio-Circular-Green Economy) ถือเป็น โมเดลเศรษฐกิจสู่การพัฒนาที่ยั่งยืน ที่มีความเหมาะสมกับสภาพแวดล้อมเชิงพื้นที่ ตลอดจนสามารถพัฒนาคุณภาพชีวิตของราษฎรซึ่งเป็นสมาชิกนิคมสร้างตนเองที่ประกอบอาชีพหลักทางการเกษตรให้มีความเป็นอยู่ที่ดีและมีความมั่นคง พร้อมมอบนโยบายให้นิคมสร้างตนเองดำเนินงานโดยคำนึงถึงการบูรณาการในการทำงานกับทุกภาคส่วนเป็นสำคัญ ปรับเปลี่ยนวิธีการทำงานให้สอดรับกับการเปลี่ยนแปลงในสถานการณ์ปัจจุบัน และการทำงานโดยให้ความสำคัญกับกลไกอาสาสมัครพัฒนาสังคมและความมั่นคงของมนุษย์ (อพม.) เป็นพลังในการเข้าถึงชุมชน มุ่งขับเคลื่อนงานตามหลักปรัชญาเศรษฐกิจพอเพียง นายอนุกูล ปีดแก้ว รองปลัดกระทรวง พม. กล่าวด้วยว่า “ในฐานะที่นิคมสร้างตนเองเป็นหน่วยงานภายใต้สังกัด พม. ความทุกข์สุขของประชาชนถือเป็นภารกิจของ พม. […] The post “อนุกูล ปีดแก้ว” รองปลัดกระทรวง พม. เยี่ยมให้กำลังใจหน่วยงานส่งเสริมการขับเคลื่อน BCG ในพื้นที่นิคมสร้างตนเอง จ.พิษณุโลก first appeared on สำนักข่าว บางกอก ทูเดย์.'"
            ]
          },
          "metadata": {},
          "execution_count": 63
        }
      ],
      "metadata": {}
    }
  ]
}
{
  "cells": [
    {
      "cell_type": "markdown",
      "metadata": {},
      "source": [
        "# Data Cleaning & Split Date"
      ]
    },
    {
      "cell_type": "code",
      "execution_count": 1,
      "metadata": {
        "id": "MqosM1DocQ6s"
      },
      "outputs": [],
      "source": [
        "import pandas as pd\n",
        "from bs4 import BeautifulSoup as bs\n",
        "from datetime import datetime,timedelta\n",
        "import os"
      ]
    },
    {
      "cell_type": "code",
      "execution_count": 2,
      "metadata": {
        "id": "Or1_f9GsswUX"
      },
      "outputs": [],
      "source": [
        "all_agent = [\n",
        "    'ThaiPublica',\n",
        "    'PracharChat',\n",
        "    'Sanook',\n",
        "    'KhaoSod',\n",
        "    'Manager',\n",
        "    'NaewNa',\n",
        "    'Matichon',\n",
        "    'VoaThai',\n",
        "    'BangkokToday',\n",
        "    'Mcot',\n",
        "    'Mono29',\n",
        "    'Infoquest',\n",
        "    'PrachaTai',\n",
        "    'Thaiware',\n",
        "    'Investing',\n",
        "    'Goethe',\n",
        "    'ThaiPBS',\n",
        "    'SiamBlockchain',\n",
        "    'PostToday',\n",
        "    'ThaiRath'\n",
        "]"
      ]
    },
    {
      "cell_type": "code",
      "execution_count": 3,
      "metadata": {
        "id": "vw6fK1JBqr-a"
      },
      "outputs": [],
      "source": [
        "def html_parser(news):    \n",
        "    temp =  bs(str(news),'html.parser').get_text()\n",
        "    result = \" \".join(temp.split())\n",
        "    return result"
      ]
    },
    {
      "cell_type": "code",
      "execution_count": 4,
      "metadata": {
        "id": "SogKIyhgmqrP"
      },
      "outputs": [],
      "source": [
        "def local_time(time):\n",
        "    to_local = timedelta(hours=7)\n",
        "    date = []\n",
        "    if time[-1] == 'T':\n",
        "        date = datetime.strptime(time,'%a, %d %b %Y %H:%M:%S %Z') + to_local\n",
        "    elif time[-3] == ':' and time[-6] == ' ':\n",
        "        date = datetime.strptime(time,'%B %d, %Y %H:%M') + to_local\n",
        "    elif time[-3] == ':':\n",
        "        date = datetime.strptime(time,'%Y-%m-%d %H:%M:%S') + to_local\n",
        "    else:\n",
        "        date = datetime.strptime(time,'%a, %d %b %Y %H:%M:%S %z') + to_local\n",
        "    return date.strftime('%d_%m_%Y')"
      ]
    },
    {
      "cell_type": "code",
      "execution_count": 5,
      "metadata": {
        "id": "8yLAqPc3no20"
      },
      "outputs": [],
      "source": [
        "def clean_csv(df_news):\n",
        "  temp = df_news\n",
        "  temp['summary'] = temp['summary'].apply(html_parser)\n",
        "  temp['published'] = temp['published'].apply(local_time)\n",
        "  result = temp.drop_duplicates(subset=['summary'])\n",
        "  result = result.reset_index(drop=True)\n",
        "  return result"
      ]
    },
    {
      "cell_type": "code",
      "execution_count": 6,
      "metadata": {
        "id": "GJUSNcF3N1cN"
      },
      "outputs": [],
      "source": [
        "def createFolder(directory):\n",
        "    try:\n",
        "        if not os.path.exists(directory):\n",
        "            os.makedirs(directory)\n",
        "    except OSError:\n",
        "        print ('Error: Creating directory. ' +  directory)"
      ]
    },
    {
      "cell_type": "code",
      "execution_count": 7,
      "metadata": {
        "id": "xilxL7CVqliU"
      },
      "outputs": [],
      "source": [
        "def split_time(df_news,agent):\n",
        "  temp = df_news\n",
        "  time = df_news['published'].unique()\n",
        "  for i in time:\n",
        "    data = df_news[df_news['published'] == i]\n",
        "    data.reset_index(drop=True,inplace=True)\n",
        "    createFolder('../assets/CleanedData/'+agent)\n",
        "    data.to_csv('../assets/CleanedData/'+agent+'/'+i+'.csv',index=False)"
      ]
    },
    {
      "cell_type": "code",
      "execution_count": 8,
      "metadata": {
        "id": "OOih_3frKqWl"
      },
      "outputs": [],
      "source": [
        "def to_csv(agent):\n",
        "  for i in agent:\n",
        "    print('Process : '+i)\n",
        "    df_news = pd.read_csv('../assets/Data/'+i+'.csv')\n",
        "    temp = clean_csv(df_news)\n",
        "    split_time(temp,i)\n",
        "    print('==========')"
      ]
    },
    {
      "cell_type": "code",
      "execution_count": 9,
      "metadata": {
        "colab": {
          "base_uri": "https://localhost:8080/"
        },
        "id": "f5EBc8qPFlqb",
        "outputId": "60df504a-3d3a-44de-af79-d7a5696f9f68"
      },
      "outputs": [
        {
          "name": "stdout",
          "output_type": "stream",
          "text": [
            "Process : ThaiPublica\n",
            "==========\n",
            "Process : PracharChat\n",
            "==========\n",
            "Process : Sanook\n",
            "==========\n",
            "Process : KhaoSod\n",
            "==========\n",
            "Process : Manager\n",
            "==========\n",
            "Process : NaewNa\n",
            "==========\n",
            "Process : Matichon\n",
            "==========\n",
            "Process : VoaThai\n",
            "==========\n",
            "Process : BangkokToday\n",
            "==========\n",
            "Process : Mcot\n",
            "==========\n",
            "Process : Mono29\n",
            "==========\n",
            "Process : Infoquest\n",
            "==========\n",
            "Process : PrachaTai\n",
            "==========\n",
            "Process : Thaiware\n",
            "==========\n",
            "Process : Investing\n",
            "==========\n",
            "Process : Goethe\n",
            "==========\n",
            "Process : ThaiPBS\n",
            "==========\n",
            "Process : SiamBlockchain\n",
            "==========\n",
            "Process : PostToday\n",
            "==========\n",
            "Process : ThaiRath\n",
            "==========\n"
          ]
        }
      ],
      "source": [
        "to_csv(all_agent)"
      ]
    }
  ],
  "metadata": {
    "colab": {
      "name": "CleanRss",
      "provenance": []
    },
    "interpreter": {
      "hash": "b825cfde57f4fe2b066dee46d870faf19522c56f6a6e540eacd30e52a1215036"
    },
    "kernelspec": {
      "display_name": "Python 3.8.5 64-bit ('base': conda)",
      "name": "python3"
    },
    "language_info": {
      "codemirror_mode": {
        "name": "ipython",
        "version": 3
      },
      "file_extension": ".py",
      "mimetype": "text/x-python",
      "name": "python",
      "nbconvert_exporter": "python",
      "pygments_lexer": "ipython3",
      "version": "3.8.5"
    }
  },
  "nbformat": 4,
  "nbformat_minor": 2
}

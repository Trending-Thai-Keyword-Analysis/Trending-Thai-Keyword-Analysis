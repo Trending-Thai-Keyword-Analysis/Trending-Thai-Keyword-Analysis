{
 "cells": [
  {
   "cell_type": "code",
   "execution_count": 1,
   "metadata": {},
   "outputs": [
    {
     "name": "stderr",
     "output_type": "stream",
     "text": [
      "C:\\Users\\Alps\\anaconda3\\lib\\site-packages\\tqdm\\std.py:697: FutureWarning: The Panel class is removed from pandas. Accessing it from the top-level namespace will also be removed in the next version\n",
      "  from pandas import Panel\n"
     ]
    }
   ],
   "source": [
    "import pandas as pd\n",
    "from pythainlp import word_tokenize as tokenize\n",
    "from pythainlp.util import *\n",
    "from tqdm.auto import tqdm\n",
    "import os, glob\n",
    "from collections import Counter\n",
    "tqdm.pandas()"
   ]
  },
  {
   "cell_type": "code",
   "execution_count": 2,
   "metadata": {},
   "outputs": [
    {
     "name": "stdout",
     "output_type": "stream",
     "text": [
      "e:\\work\\Trending-Thai-Keyword-Analysis\\assets\\SplitData\n"
     ]
    }
   ],
   "source": [
    "abs_path = os.path.abspath(r'..\\assets\\SplitData')\n",
    "# print(abs_path)\n",
    "os.chdir(abs_path)"
   ]
  },
  {
   "cell_type": "code",
   "execution_count": 3,
   "metadata": {},
   "outputs": [],
   "source": [
    "NEWMM = \"newmm\"\n",
    "ATTACUT = \"attacut\"\n",
    "\n",
    "def word_break(news,engine):\n",
    "    segment = tokenize(news,keep_whitespace=False,engine=engine)\n",
    "    return segment"
   ]
  },
  {
   "cell_type": "code",
   "execution_count": 4,
   "metadata": {},
   "outputs": [],
   "source": [
    "def find_stopword_list(month, threshold):   \n",
    "    newmm_word_list = []\n",
    "    attacut_word_list = []\n",
    "\n",
    "    for file in tqdm(glob.glob(f\"2021_{month:02d}_*\")):\n",
    "        df = pd.read_csv(file)\n",
    "        list_column = df.columns.values.tolist()\n",
    "        column_name = list_column[1]\n",
    "\n",
    "        newmm_word = set()\n",
    "        attacut_word = set()\n",
    "\n",
    "        for news in df[column_name]:\n",
    "            newmm_word.update(word_break(str(news), NEWMM))\n",
    "            attacut_word.update(word_break(str(news), ATTACUT))\n",
    "        \n",
    "        newmm_word_list.extend(list(newmm_word))\n",
    "        attacut_word_list.extend(list(attacut_word))\n",
    "\n",
    "    newmm_counter = Counter(newmm_word_list)\n",
    "    attacut_counter = Counter(attacut_word_list)\n",
    "\n",
    "    result = {key:value for key,value in newmm_counter.items() if value >= threshold}\n",
    "    stopwords = list(result.keys())\n",
    "\n",
    "    textfile = open(f\"../StopWordList/newmm_stopword_m{month:02d}_th{threshold:02d}.txt\", \"w\", encoding='utf-8')\n",
    "    for element in stopwords:\n",
    "        textfile.write(element + \"\\n\")\n",
    "    textfile.close()\n",
    "\n",
    "    result = {key:value for key,value in attacut_counter.items() if value >= threshold}\n",
    "    stopwords = list(result.keys())\n",
    "\n",
    "    textfile = open(f\"../StopWordList/attacut_stopword_m{month:02d}_th{threshold:02d}.txt\", \"w\", encoding='utf-8')\n",
    "    for element in stopwords:\n",
    "        textfile.write(element + \"\\n\")\n",
    "    textfile.close()"
   ]
  },
  {
   "cell_type": "code",
   "execution_count": 5,
   "metadata": {},
   "outputs": [
    {
     "name": "stderr",
     "output_type": "stream",
     "text": [
      "100%|██████████| 27/27 [09:52<00:00, 21.93s/it]\n"
     ]
    }
   ],
   "source": [
    "find_stopword_list(10,20)"
   ]
  },
  {
   "cell_type": "markdown",
   "metadata": {},
   "source": [
    "# Read Stop-Word"
   ]
  },
  {
   "cell_type": "code",
   "execution_count": 6,
   "metadata": {},
   "outputs": [],
   "source": [
    "def read_stop_word(filename):\n",
    "    text_file = open(f\"../StopWordList/{filename}.txt\", \"r\", encoding='utf-8')\n",
    "    content = text_file.read()\n",
    "    dict_list = content.split(\"\\n\")\n",
    "    text_file.close()\n",
    "    return dict_list"
   ]
  },
  {
   "cell_type": "code",
   "execution_count": 7,
   "metadata": {},
   "outputs": [
    {
     "data": {
      "text/plain": [
       "2153"
      ]
     },
     "execution_count": 7,
     "metadata": {},
     "output_type": "execute_result"
    }
   ],
   "source": [
    "len(read_stop_word(\"newmm_stopword_m10_th20\"))"
   ]
  },
  {
   "cell_type": "code",
   "execution_count": 8,
   "metadata": {},
   "outputs": [
    {
     "data": {
      "text/plain": [
       "1569"
      ]
     },
     "execution_count": 8,
     "metadata": {},
     "output_type": "execute_result"
    }
   ],
   "source": [
    "len(read_stop_word(\"attacut_stopword_m10_th20\"))"
   ]
  }
 ],
 "metadata": {
  "interpreter": {
   "hash": "b825cfde57f4fe2b066dee46d870faf19522c56f6a6e540eacd30e52a1215036"
  },
  "kernelspec": {
   "display_name": "Python 3.8.5 64-bit ('base': conda)",
   "language": "python",
   "name": "python3"
  },
  "language_info": {
   "codemirror_mode": {
    "name": "ipython",
    "version": 3
   },
   "file_extension": ".py",
   "mimetype": "text/x-python",
   "name": "python",
   "nbconvert_exporter": "python",
   "pygments_lexer": "ipython3",
   "version": "3.8.5"
  },
  "orig_nbformat": 4
 },
 "nbformat": 4,
 "nbformat_minor": 2
}

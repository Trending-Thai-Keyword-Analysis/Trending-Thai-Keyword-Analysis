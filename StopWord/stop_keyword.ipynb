{
 "cells": [
  {
   "cell_type": "code",
   "execution_count": 1,
   "metadata": {},
   "outputs": [
    {
     "name": "stderr",
     "output_type": "stream",
     "text": [
      "C:\\Users\\Alps\\anaconda3\\lib\\site-packages\\tqdm\\std.py:697: FutureWarning: The Panel class is removed from pandas. Accessing it from the top-level namespace will also be removed in the next version\n",
      "  from pandas import Panel\n"
     ]
    }
   ],
   "source": [
    "import pandas as pd\n",
    "from pythainlp import word_tokenize as tokenize\n",
    "from pythainlp.util import *\n",
    "from tqdm.auto import tqdm\n",
    "import os, glob, sys\n",
    "from collections import Counter\n",
    "sys.path.append('../Cython')\n",
    "from Method import *\n",
    "tqdm.pandas()"
   ]
  },
  {
   "cell_type": "code",
   "execution_count": 2,
   "metadata": {},
   "outputs": [],
   "source": [
    "abs_path = os.path.abspath(r'..\\assets\\SplitData')\n",
    "# print(abs_path)\n",
    "os.chdir(abs_path)"
   ]
  },
  {
   "cell_type": "code",
   "execution_count": 3,
   "metadata": {},
   "outputs": [],
   "source": [
    "NEWMM = \"newmm\"\n",
    "ATTACUT = \"attacut\"\n",
    "\n",
    "def word_break(news,engine):\n",
    "    segment = tokenize(news,keep_whitespace=False,engine=engine)\n",
    "    return segment"
   ]
  },
  {
   "cell_type": "code",
   "execution_count": 4,
   "metadata": {},
   "outputs": [],
   "source": [
    "def LCS(atta_list, newmm_list):\n",
    "    l = len(atta_list)\n",
    "    lcs_atta = set()\n",
    "    lcs_newmm = set()\n",
    "    for i in range(l-1):\n",
    "        w1_atta = atta_list[i]\n",
    "        len_w1_atta = len(w1_atta)\n",
    "        w1_newmm = newmm_list[i]\n",
    "        len_w1_newmm = len(w1_newmm)\n",
    "        for j in range(i+1,l):\n",
    "            w2_atta = atta_list[j]\n",
    "            len_w2_atta = len(w2_atta)\n",
    "            w2_newmm = newmm_list[j]\n",
    "            len_w2_newmm = len(w2_newmm)\n",
    "            lcs_atta_list,maxl_atta = [],0\n",
    "            lcs_newmm_list,maxl_newmm = [],0\n",
    "            if i != j:\n",
    "                lcs_atta_list,maxl_atta = lcs(w1_atta,w2_atta,len_w1_atta,len_w2_atta)\n",
    "                lcs_newmm_list,maxl_newmm = lcs(w1_newmm,w2_newmm,len_w1_newmm,len_w2_newmm)\n",
    "                if lcs_atta_list != []:\n",
    "                    lcs_atta.update(lcs_atta_list)\n",
    "                if lcs_newmm_list != []:\n",
    "                    lcs_newmm.update(lcs_newmm_list)\n",
    "\n",
    "    return lcs_atta, lcs_newmm"
   ]
  },
  {
   "cell_type": "code",
   "execution_count": 5,
   "metadata": {},
   "outputs": [],
   "source": [
    "def find_stop_keyword_list(month, threshold):   \n",
    "    newmm_word_list = []\n",
    "    attacut_word_list = []\n",
    "\n",
    "    for file in tqdm(glob.glob(f\"2021_{month:02d}_*\")):\n",
    "        df = pd.read_csv(file)\n",
    "        list_column = df.columns.values.tolist()\n",
    "        column_name = list_column[1]\n",
    "\n",
    "        newmm_WB = []\n",
    "        attacut_WB = []\n",
    "\n",
    "        for news in df[column_name]:\n",
    "            newmm_WB.append(word_break(str(news), NEWMM))\n",
    "            attacut_WB.append(word_break(str(news), ATTACUT))\n",
    "        \n",
    "        attacut_word, newmm_word = LCS(attacut_WB, newmm_WB)\n",
    "        \n",
    "        newmm_word_list.extend(list(newmm_word))\n",
    "        attacut_word_list.extend(list(attacut_word))\n",
    "\n",
    "    newmm_counter = Counter(newmm_word_list)\n",
    "    attacut_counter = Counter(attacut_word_list)\n",
    "\n",
    "    result = {key:value for key,value in newmm_counter.items() if value >= threshold}\n",
    "    stopwords = list(result.keys())\n",
    "\n",
    "    textfile = open(f\"../StopKeywordList/newmm_stopkeyword_m{month:02d}_th{threshold:02d}.txt\", \"w\", encoding='utf-8')\n",
    "    for element in stopwords:\n",
    "        textfile.write(element + \"\\n\")\n",
    "    textfile.close()\n",
    "\n",
    "    result = {key:value for key,value in attacut_counter.items() if value >= threshold}\n",
    "    stopwords = list(result.keys())\n",
    "\n",
    "    textfile = open(f\"../StopKeywordList/attacut_stopkeyword_m{month:02d}_th{threshold:02d}.txt\", \"w\", encoding='utf-8')\n",
    "    for element in stopwords:\n",
    "        textfile.write(element + \"\\n\")\n",
    "    textfile.close()"
   ]
  },
  {
   "cell_type": "code",
   "execution_count": 6,
   "metadata": {},
   "outputs": [
    {
     "name": "stderr",
     "output_type": "stream",
     "text": [
      "100%|██████████| 27/27 [34:27<00:00, 76.59s/it]\n"
     ]
    }
   ],
   "source": [
    "find_stop_keyword_list(10,20)"
   ]
  }
 ],
 "metadata": {
  "interpreter": {
   "hash": "b825cfde57f4fe2b066dee46d870faf19522c56f6a6e540eacd30e52a1215036"
  },
  "kernelspec": {
   "display_name": "Python 3.8.5 64-bit ('base': conda)",
   "language": "python",
   "name": "python3"
  },
  "language_info": {
   "codemirror_mode": {
    "name": "ipython",
    "version": 3
   },
   "file_extension": ".py",
   "mimetype": "text/x-python",
   "name": "python",
   "nbconvert_exporter": "python",
   "pygments_lexer": "ipython3",
   "version": "3.8.5"
  },
  "orig_nbformat": 4
 },
 "nbformat": 4,
 "nbformat_minor": 2
}

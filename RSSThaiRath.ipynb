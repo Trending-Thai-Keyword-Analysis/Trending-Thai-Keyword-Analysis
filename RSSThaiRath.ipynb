{
  "nbformat": 4,
  "nbformat_minor": 0,
  "metadata": {
    "colab": {
      "name": "RSSThaiRath.ipynb",
      "provenance": [],
      "collapsed_sections": [],
      "include_colab_link": true
    },
    "kernelspec": {
      "name": "python3",
      "display_name": "Python 3"
    },
    "language_info": {
      "name": "python"
    },
    "widgets": {
      "application/vnd.jupyter.widget-state+json": {
        "9b00d452a70b44f69b95ac6f14942949": {
          "model_module": "@jupyter-widgets/controls",
          "model_name": "HBoxModel",
          "model_module_version": "1.5.0",
          "state": {
            "_view_name": "HBoxView",
            "_dom_classes": [],
            "_model_name": "HBoxModel",
            "_view_module": "@jupyter-widgets/controls",
            "_model_module_version": "1.5.0",
            "_view_count": null,
            "_view_module_version": "1.5.0",
            "box_style": "",
            "layout": "IPY_MODEL_eb3200eb4bb24eabbd9e97860239d961",
            "_model_module": "@jupyter-widgets/controls",
            "children": [
              "IPY_MODEL_45a4395149b243d0b82679e5677ecd22",
              "IPY_MODEL_5e83f991692d454b90cb3516cc751014",
              "IPY_MODEL_592f8798d596482386e1fe1718f24013"
            ]
          }
        },
        "eb3200eb4bb24eabbd9e97860239d961": {
          "model_module": "@jupyter-widgets/base",
          "model_name": "LayoutModel",
          "model_module_version": "1.2.0",
          "state": {
            "_view_name": "LayoutView",
            "grid_template_rows": null,
            "right": null,
            "justify_content": null,
            "_view_module": "@jupyter-widgets/base",
            "overflow": null,
            "_model_module_version": "1.2.0",
            "_view_count": null,
            "flex_flow": null,
            "width": null,
            "min_width": null,
            "border": null,
            "align_items": null,
            "bottom": null,
            "_model_module": "@jupyter-widgets/base",
            "top": null,
            "grid_column": null,
            "overflow_y": null,
            "overflow_x": null,
            "grid_auto_flow": null,
            "grid_area": null,
            "grid_template_columns": null,
            "flex": null,
            "_model_name": "LayoutModel",
            "justify_items": null,
            "grid_row": null,
            "max_height": null,
            "align_content": null,
            "visibility": null,
            "align_self": null,
            "height": null,
            "min_height": null,
            "padding": null,
            "grid_auto_rows": null,
            "grid_gap": null,
            "max_width": null,
            "order": null,
            "_view_module_version": "1.2.0",
            "grid_template_areas": null,
            "object_position": null,
            "object_fit": null,
            "grid_auto_columns": null,
            "margin": null,
            "display": null,
            "left": null
          }
        },
        "45a4395149b243d0b82679e5677ecd22": {
          "model_module": "@jupyter-widgets/controls",
          "model_name": "HTMLModel",
          "model_module_version": "1.5.0",
          "state": {
            "_view_name": "HTMLView",
            "style": "IPY_MODEL_6a7c7adc1a5740bba214feb610c3bee9",
            "_dom_classes": [],
            "description": "",
            "_model_name": "HTMLModel",
            "placeholder": "​",
            "_view_module": "@jupyter-widgets/controls",
            "_model_module_version": "1.5.0",
            "value": "100%",
            "_view_count": null,
            "_view_module_version": "1.5.0",
            "description_tooltip": null,
            "_model_module": "@jupyter-widgets/controls",
            "layout": "IPY_MODEL_714d6e892c64496daac63cce3683e295"
          }
        },
        "5e83f991692d454b90cb3516cc751014": {
          "model_module": "@jupyter-widgets/controls",
          "model_name": "FloatProgressModel",
          "model_module_version": "1.5.0",
          "state": {
            "_view_name": "ProgressView",
            "style": "IPY_MODEL_dfd1c4eb7dc84d65ade7e8298ad257cf",
            "_dom_classes": [],
            "description": "",
            "_model_name": "FloatProgressModel",
            "bar_style": "success",
            "max": 20,
            "_view_module": "@jupyter-widgets/controls",
            "_model_module_version": "1.5.0",
            "value": 20,
            "_view_count": null,
            "_view_module_version": "1.5.0",
            "orientation": "horizontal",
            "min": 0,
            "description_tooltip": null,
            "_model_module": "@jupyter-widgets/controls",
            "layout": "IPY_MODEL_a3598904cf8d47b3a3287d51d0291870"
          }
        },
        "592f8798d596482386e1fe1718f24013": {
          "model_module": "@jupyter-widgets/controls",
          "model_name": "HTMLModel",
          "model_module_version": "1.5.0",
          "state": {
            "_view_name": "HTMLView",
            "style": "IPY_MODEL_8a799fcefdb24102b8a8857e4f048a71",
            "_dom_classes": [],
            "description": "",
            "_model_name": "HTMLModel",
            "placeholder": "​",
            "_view_module": "@jupyter-widgets/controls",
            "_model_module_version": "1.5.0",
            "value": " 20/20 [00:00&lt;00:00, 403.32it/s]",
            "_view_count": null,
            "_view_module_version": "1.5.0",
            "description_tooltip": null,
            "_model_module": "@jupyter-widgets/controls",
            "layout": "IPY_MODEL_f9ca0eaca5f04dd6935207043bc66665"
          }
        },
        "6a7c7adc1a5740bba214feb610c3bee9": {
          "model_module": "@jupyter-widgets/controls",
          "model_name": "DescriptionStyleModel",
          "model_module_version": "1.5.0",
          "state": {
            "_view_name": "StyleView",
            "_model_name": "DescriptionStyleModel",
            "description_width": "",
            "_view_module": "@jupyter-widgets/base",
            "_model_module_version": "1.5.0",
            "_view_count": null,
            "_view_module_version": "1.2.0",
            "_model_module": "@jupyter-widgets/controls"
          }
        },
        "714d6e892c64496daac63cce3683e295": {
          "model_module": "@jupyter-widgets/base",
          "model_name": "LayoutModel",
          "model_module_version": "1.2.0",
          "state": {
            "_view_name": "LayoutView",
            "grid_template_rows": null,
            "right": null,
            "justify_content": null,
            "_view_module": "@jupyter-widgets/base",
            "overflow": null,
            "_model_module_version": "1.2.0",
            "_view_count": null,
            "flex_flow": null,
            "width": null,
            "min_width": null,
            "border": null,
            "align_items": null,
            "bottom": null,
            "_model_module": "@jupyter-widgets/base",
            "top": null,
            "grid_column": null,
            "overflow_y": null,
            "overflow_x": null,
            "grid_auto_flow": null,
            "grid_area": null,
            "grid_template_columns": null,
            "flex": null,
            "_model_name": "LayoutModel",
            "justify_items": null,
            "grid_row": null,
            "max_height": null,
            "align_content": null,
            "visibility": null,
            "align_self": null,
            "height": null,
            "min_height": null,
            "padding": null,
            "grid_auto_rows": null,
            "grid_gap": null,
            "max_width": null,
            "order": null,
            "_view_module_version": "1.2.0",
            "grid_template_areas": null,
            "object_position": null,
            "object_fit": null,
            "grid_auto_columns": null,
            "margin": null,
            "display": null,
            "left": null
          }
        },
        "dfd1c4eb7dc84d65ade7e8298ad257cf": {
          "model_module": "@jupyter-widgets/controls",
          "model_name": "ProgressStyleModel",
          "model_module_version": "1.5.0",
          "state": {
            "_view_name": "StyleView",
            "_model_name": "ProgressStyleModel",
            "description_width": "",
            "_view_module": "@jupyter-widgets/base",
            "_model_module_version": "1.5.0",
            "_view_count": null,
            "_view_module_version": "1.2.0",
            "bar_color": null,
            "_model_module": "@jupyter-widgets/controls"
          }
        },
        "a3598904cf8d47b3a3287d51d0291870": {
          "model_module": "@jupyter-widgets/base",
          "model_name": "LayoutModel",
          "model_module_version": "1.2.0",
          "state": {
            "_view_name": "LayoutView",
            "grid_template_rows": null,
            "right": null,
            "justify_content": null,
            "_view_module": "@jupyter-widgets/base",
            "overflow": null,
            "_model_module_version": "1.2.0",
            "_view_count": null,
            "flex_flow": null,
            "width": null,
            "min_width": null,
            "border": null,
            "align_items": null,
            "bottom": null,
            "_model_module": "@jupyter-widgets/base",
            "top": null,
            "grid_column": null,
            "overflow_y": null,
            "overflow_x": null,
            "grid_auto_flow": null,
            "grid_area": null,
            "grid_template_columns": null,
            "flex": null,
            "_model_name": "LayoutModel",
            "justify_items": null,
            "grid_row": null,
            "max_height": null,
            "align_content": null,
            "visibility": null,
            "align_self": null,
            "height": null,
            "min_height": null,
            "padding": null,
            "grid_auto_rows": null,
            "grid_gap": null,
            "max_width": null,
            "order": null,
            "_view_module_version": "1.2.0",
            "grid_template_areas": null,
            "object_position": null,
            "object_fit": null,
            "grid_auto_columns": null,
            "margin": null,
            "display": null,
            "left": null
          }
        },
        "8a799fcefdb24102b8a8857e4f048a71": {
          "model_module": "@jupyter-widgets/controls",
          "model_name": "DescriptionStyleModel",
          "model_module_version": "1.5.0",
          "state": {
            "_view_name": "StyleView",
            "_model_name": "DescriptionStyleModel",
            "description_width": "",
            "_view_module": "@jupyter-widgets/base",
            "_model_module_version": "1.5.0",
            "_view_count": null,
            "_view_module_version": "1.2.0",
            "_model_module": "@jupyter-widgets/controls"
          }
        },
        "f9ca0eaca5f04dd6935207043bc66665": {
          "model_module": "@jupyter-widgets/base",
          "model_name": "LayoutModel",
          "model_module_version": "1.2.0",
          "state": {
            "_view_name": "LayoutView",
            "grid_template_rows": null,
            "right": null,
            "justify_content": null,
            "_view_module": "@jupyter-widgets/base",
            "overflow": null,
            "_model_module_version": "1.2.0",
            "_view_count": null,
            "flex_flow": null,
            "width": null,
            "min_width": null,
            "border": null,
            "align_items": null,
            "bottom": null,
            "_model_module": "@jupyter-widgets/base",
            "top": null,
            "grid_column": null,
            "overflow_y": null,
            "overflow_x": null,
            "grid_auto_flow": null,
            "grid_area": null,
            "grid_template_columns": null,
            "flex": null,
            "_model_name": "LayoutModel",
            "justify_items": null,
            "grid_row": null,
            "max_height": null,
            "align_content": null,
            "visibility": null,
            "align_self": null,
            "height": null,
            "min_height": null,
            "padding": null,
            "grid_auto_rows": null,
            "grid_gap": null,
            "max_width": null,
            "order": null,
            "_view_module_version": "1.2.0",
            "grid_template_areas": null,
            "object_position": null,
            "object_fit": null,
            "grid_auto_columns": null,
            "margin": null,
            "display": null,
            "left": null
          }
        }
      }
    }
  },
  "cells": [
    {
      "cell_type": "markdown",
      "metadata": {
        "id": "view-in-github",
        "colab_type": "text"
      },
      "source": [
        "<a href=\"https://colab.research.google.com/github/Trending-Thai-Keyword-Analysis/Trending-Thai-Keyword-Analysis/blob/RSS/RSSThaiRath.ipynb\" target=\"_parent\"><img src=\"https://colab.research.google.com/assets/colab-badge.svg\" alt=\"Open In Colab\"/></a>"
      ]
    },
    {
      "cell_type": "code",
      "metadata": {
        "id": "pRYw4lBfDGSr",
        "colab": {
          "base_uri": "https://localhost:8080/"
        },
        "outputId": "a79bd900-dab7-4f48-fd27-6630b635a037"
      },
      "source": [
        "!pip install feedparser"
      ],
      "execution_count": 1,
      "outputs": [
        {
          "output_type": "stream",
          "name": "stdout",
          "text": [
            "Collecting feedparser\n",
            "  Downloading feedparser-6.0.8-py3-none-any.whl (81 kB)\n",
            "\u001b[?25l\r\u001b[K     |████                            | 10 kB 12.0 MB/s eta 0:00:01\r\u001b[K     |████████                        | 20 kB 13.9 MB/s eta 0:00:01\r\u001b[K     |████████████▏                   | 30 kB 9.3 MB/s eta 0:00:01\r\u001b[K     |████████████████▏               | 40 kB 8.1 MB/s eta 0:00:01\r\u001b[K     |████████████████████▏           | 51 kB 5.4 MB/s eta 0:00:01\r\u001b[K     |████████████████████████▎       | 61 kB 5.1 MB/s eta 0:00:01\r\u001b[K     |████████████████████████████▎   | 71 kB 5.3 MB/s eta 0:00:01\r\u001b[K     |████████████████████████████████| 81 kB 2.6 MB/s \n",
            "\u001b[?25hCollecting sgmllib3k\n",
            "  Downloading sgmllib3k-1.0.0.tar.gz (5.8 kB)\n",
            "Building wheels for collected packages: sgmllib3k\n",
            "  Building wheel for sgmllib3k (setup.py) ... \u001b[?25l\u001b[?25hdone\n",
            "  Created wheel for sgmllib3k: filename=sgmllib3k-1.0.0-py3-none-any.whl size=6065 sha256=317f791b8ec0a1193e91493fc98bd23481743cddb311a7c36f2530b7589fb326\n",
            "  Stored in directory: /root/.cache/pip/wheels/73/ad/a4/0dff4a6ef231fc0dfa12ffbac2a36cebfdddfe059f50e019aa\n",
            "Successfully built sgmllib3k\n",
            "Installing collected packages: sgmllib3k, feedparser\n",
            "Successfully installed feedparser-6.0.8 sgmllib3k-1.0.0\n"
          ]
        }
      ]
    },
    {
      "cell_type": "code",
      "metadata": {
        "id": "5OtfL3d1DOg6"
      },
      "source": [
        "import feedparser"
      ],
      "execution_count": null,
      "outputs": []
    },
    {
      "cell_type": "code",
      "metadata": {
        "id": "yuT8KauLDWf4"
      },
      "source": [
        "# feed = feedparser.parse('https://pantip.com/forum/feed')\n",
        "feed = feedparser.parse('https://www.thairath.co.th/rss/news.xml')"
      ],
      "execution_count": null,
      "outputs": []
    },
    {
      "cell_type": "code",
      "metadata": {
        "id": "Xekcik8UDo5v"
      },
      "source": [
        "all = []\n",
        "all = [feed.entries[i] for i in range(20)]\n",
        "all"
      ],
      "execution_count": null,
      "outputs": []
    },
    {
      "cell_type": "code",
      "metadata": {
        "id": "iPneBbSZJEG_"
      },
      "source": [
        "import pandas as pd\n",
        "import numpy as np"
      ],
      "execution_count": null,
      "outputs": []
    },
    {
      "cell_type": "code",
      "metadata": {
        "id": "Xm58vgByLYVe",
        "colab": {
          "base_uri": "https://localhost:8080/"
        },
        "outputId": "ecbb4e0c-7704-4424-bc71-dc0f9363975d"
      },
      "source": [
        "all[1].keys()"
      ],
      "execution_count": null,
      "outputs": [
        {
          "output_type": "execute_result",
          "data": {
            "text/plain": [
              "dict_keys(['title', 'title_detail', 'id', 'guidislink', 'link', 'links', 'summary', 'summary_detail', 'published', 'published_parsed'])"
            ]
          },
          "metadata": {},
          "execution_count": 6
        }
      ]
    },
    {
      "cell_type": "code",
      "metadata": {
        "id": "nD8sHl1JLbtu",
        "colab": {
          "base_uri": "https://localhost:8080/",
          "height": 35
        },
        "outputId": "c7e1d14f-e2d0-4e6e-fb07-b49825b53499"
      },
      "source": [
        "keys = ['author','authors', 'author_detail','title_detail', 'tags', 'summary_detail', 'links', 'link', 'published_parsed','newsid']\n",
        "for i in range(len(all)):\n",
        "  for j in keys:\n",
        "    if j in all[i]:\n",
        "      all[i].pop(j)\n",
        "all[0][\"summary\"]"
      ],
      "execution_count": null,
      "outputs": [
        {
          "output_type": "execute_result",
          "data": {
            "application/vnd.google.colaboratory.intrinsic+json": {
              "type": "string"
            },
            "text/plain": [
              "'&quot;ประภัตร&quot; ลงพื้นที่สุพรรณบุรี รับฟังความเห็นชาวบ้านหลังฝายยางคลองระบายน้ำจรเข้สามพันชำรุด เล็งสร้างประตูระบายน้ำแทน'"
            ]
          },
          "metadata": {},
          "execution_count": 7
        }
      ]
    },
    {
      "cell_type": "code",
      "metadata": {
        "id": "ipSgMjUPDw_W"
      },
      "source": [
        "df = pd.DataFrame(all)"
      ],
      "execution_count": null,
      "outputs": []
    },
    {
      "cell_type": "code",
      "metadata": {
        "id": "FEiO9zVRI5PH",
        "colab": {
          "base_uri": "https://localhost:8080/",
          "height": 669
        },
        "outputId": "b8a88edb-70a9-4946-a9f3-e87b6eeecada"
      },
      "source": [
        "df"
      ],
      "execution_count": null,
      "outputs": [
        {
          "output_type": "execute_result",
          "data": {
            "text/html": [
              "<div>\n",
              "<style scoped>\n",
              "    .dataframe tbody tr th:only-of-type {\n",
              "        vertical-align: middle;\n",
              "    }\n",
              "\n",
              "    .dataframe tbody tr th {\n",
              "        vertical-align: top;\n",
              "    }\n",
              "\n",
              "    .dataframe thead th {\n",
              "        text-align: right;\n",
              "    }\n",
              "</style>\n",
              "<table border=\"1\" class=\"dataframe\">\n",
              "  <thead>\n",
              "    <tr style=\"text-align: right;\">\n",
              "      <th></th>\n",
              "      <th>title</th>\n",
              "      <th>id</th>\n",
              "      <th>guidislink</th>\n",
              "      <th>summary</th>\n",
              "      <th>published</th>\n",
              "    </tr>\n",
              "  </thead>\n",
              "  <tbody>\n",
              "    <tr>\n",
              "      <th>0</th>\n",
              "      <td>&amp;quot;ประภัตร&amp;quot; รับฟังชาวบ้านแก้ฝายยางชำรุ...</td>\n",
              "      <td>https://www.thairath.co.th/news/local/central/...</td>\n",
              "      <td>True</td>\n",
              "      <td>&amp;quot;ประภัตร&amp;quot; ลงพื้นที่สุพรรณบุรี รับฟัง...</td>\n",
              "      <td>Mon, 20 Sep 2021 18:41:00 +0700</td>\n",
              "    </tr>\n",
              "    <tr>\n",
              "      <th>1</th>\n",
              "      <td>สื่อฝอยทองแฉ &amp;quot;โรนัลโด&amp;quot; เคยทำเรื่องผิ...</td>\n",
              "      <td>https://www.thairath.co.th/sport/eurofootball/...</td>\n",
              "      <td>True</td>\n",
              "      <td>สื่อในประเทศโปรตุเกส เล่า คริสเตียโน โรนัลโด ส...</td>\n",
              "      <td>Mon, 20 Sep 2021 18:34:00 +0700</td>\n",
              "    </tr>\n",
              "    <tr>\n",
              "      <th>2</th>\n",
              "      <td>แพท ณปภา ตอบชัดสัมพันธ์ ปอ อรรณพ เคลียร์โดนแซะ...</td>\n",
              "      <td>https://www.thairath.co.th/entertain/news/2198515</td>\n",
              "      <td>True</td>\n",
              "      <td>แพท ณปภา ไลฟ์สดเคลียร์ชัดความสัมพันธ์ปอ อรรณพ ...</td>\n",
              "      <td>Mon, 20 Sep 2021 18:28:55 +0700</td>\n",
              "    </tr>\n",
              "    <tr>\n",
              "      <th>3</th>\n",
              "      <td>การตรวจน้ำลายหาเชื้อโควิด-19 ให้ผลเชื่อถือได้แ...</td>\n",
              "      <td>https://www.thairath.co.th/business/market/219...</td>\n",
              "      <td>True</td>\n",
              "      <td>ปัจจุบันการตรวจหาเชื้อโควิดด้วยตนเองด้วยชุดตรว...</td>\n",
              "      <td>Mon, 20 Sep 2021 18:24:00 +0700</td>\n",
              "    </tr>\n",
              "    <tr>\n",
              "      <th>4</th>\n",
              "      <td>ฮอนด้า ประเดิมขายรถยนต์ออนไลน์ในญี่ปุ่น</td>\n",
              "      <td>https://www.thairath.co.th/business/market/219...</td>\n",
              "      <td>True</td>\n",
              "      <td>ฮอนด้า มอเตอร์ เตรียมเริ่มต้นจำหน่ายรถยนต์ออนไ...</td>\n",
              "      <td>Mon, 20 Sep 2021 18:23:07 +0700</td>\n",
              "    </tr>\n",
              "    <tr>\n",
              "      <th>5</th>\n",
              "      <td>ติ๊ก ชิโร่ รับข่าวอักษรย่อกระทบครอบครัว เสียดแ...</td>\n",
              "      <td>https://www.thairath.co.th/entertain/news/2198498</td>\n",
              "      <td>True</td>\n",
              "      <td>หลังจากที่ก่อนหน้านี้มีข่าวอักษรย่อออกมาว่านัก...</td>\n",
              "      <td>Mon, 20 Sep 2021 18:21:00 +0700</td>\n",
              "    </tr>\n",
              "    <tr>\n",
              "      <th>6</th>\n",
              "      <td>หุ้นไทยวันนี้ ปิดตลาดหุ้นบ่าย ปรับลด 22.59 ดัช...</td>\n",
              "      <td>https://www.thairath.co.th/business/investment...</td>\n",
              "      <td>True</td>\n",
              "      <td>หุ้นไทยวันนี้ ปิดตลาดหุ้นบ่าย ปรับลด 22.59 ดัช...</td>\n",
              "      <td>Mon, 20 Sep 2021 18:20:00 +0700</td>\n",
              "    </tr>\n",
              "    <tr>\n",
              "      <th>7</th>\n",
              "      <td>รวบคนร้ายบุกเดี่ยว จี้แบงก์ห้างดัง เพี้ยนจะเอา...</td>\n",
              "      <td>https://www.thairath.co.th/news/crime/2198493</td>\n",
              "      <td>True</td>\n",
              "      <td>คนร้ายบุกเดี่ยวจี้ชิงทรัพย์ธนาคาร ห้างบิ๊กซี ส...</td>\n",
              "      <td>Mon, 20 Sep 2021 18:13:00 +0700</td>\n",
              "    </tr>\n",
              "    <tr>\n",
              "      <th>8</th>\n",
              "      <td>นายกฯ ยึด 3 หลัก ขับเคลื่อนทำงาน มอบเหรียญหลวง...</td>\n",
              "      <td>https://www.thairath.co.th/news/politic/2198440</td>\n",
              "      <td>True</td>\n",
              "      <td>นายกฯ ย้ำ ส่วนราชการทุกกระทรวง ยึด 3 หลัก เร่ง...</td>\n",
              "      <td>Mon, 20 Sep 2021 18:05:00 +0700</td>\n",
              "    </tr>\n",
              "    <tr>\n",
              "      <th>9</th>\n",
              "      <td>เกษตรฯ ปรับเกณฑ์ช่วยผู้ประสบภัยพิบัติด้านการเก...</td>\n",
              "      <td>https://www.thairath.co.th/news/local/2198501</td>\n",
              "      <td>True</td>\n",
              "      <td>&amp;quot;เฉลิมชัย&amp;quot; กำชับกรมส่งเสริมการเกษตรเ...</td>\n",
              "      <td>Mon, 20 Sep 2021 18:01:00 +0700</td>\n",
              "    </tr>\n",
              "    <tr>\n",
              "      <th>10</th>\n",
              "      <td>อย. เร่งรัดบริษัทฯ ยื่นข้อมูลเพิ่ม เพื่อพิจารณ...</td>\n",
              "      <td>https://www.thairath.co.th/news/society/2198506</td>\n",
              "      <td>True</td>\n",
              "      <td>อย. เร่งรัดบริษัทฯ ยื่นข้อมูลเพิ่ม เพื่อพิจารณ...</td>\n",
              "      <td>Mon, 20 Sep 2021 18:00:00 +0700</td>\n",
              "    </tr>\n",
              "    <tr>\n",
              "      <th>11</th>\n",
              "      <td>แจงรถตู้ตำรวจโผล่ชะอำ ที่แท้ไปจับคนร้าย ปลอมเป...</td>\n",
              "      <td>https://www.thairath.co.th/news/local/2198488</td>\n",
              "      <td>True</td>\n",
              "      <td>โฆษกภาค 3 เผยผลการตรวจสอบเบื้องต้น รถตู้ตำรวจ ...</td>\n",
              "      <td>Mon, 20 Sep 2021 17:50:00 +0700</td>\n",
              "    </tr>\n",
              "    <tr>\n",
              "      <th>12</th>\n",
              "      <td>ภูเก็ต คุมเข้มม้าทรง เทศกาลถือศีลกินผัก 64 ลดข...</td>\n",
              "      <td>https://www.thairath.co.th/news/local/south/21...</td>\n",
              "      <td>True</td>\n",
              "      <td>พ่อเมืองภูเก็ต ออกคำสั่งป้องกันโควิด-19 ในช่วง...</td>\n",
              "      <td>Mon, 20 Sep 2021 17:42:00 +0700</td>\n",
              "    </tr>\n",
              "    <tr>\n",
              "      <th>13</th>\n",
              "      <td>LINE MAN ดึงพิมรี่พาย เป็นพรีเซ็นเตอร์ ชวนร้าน...</td>\n",
              "      <td>https://www.thairath.co.th/business/market/219...</td>\n",
              "      <td>True</td>\n",
              "      <td>LINE MAN รับนโยบายคนละครึ่ง พัฒนาระบบให้ใช้บนแ...</td>\n",
              "      <td>Mon, 20 Sep 2021 17:38:00 +0700</td>\n",
              "    </tr>\n",
              "    <tr>\n",
              "      <th>14</th>\n",
              "      <td>ผอ.โรงพยาบาลชะอำ แจงหนุ่มอัดคลิป อ้างลูกคนใหญ่...</td>\n",
              "      <td>https://www.thairath.co.th/news/society/2198483</td>\n",
              "      <td>True</td>\n",
              "      <td>ผอ. รพ.ชะอำ ออกมาแจงกรณีหนุ่มไลฟ์เฟซบุ๊ก ขอทำแ...</td>\n",
              "      <td>Mon, 20 Sep 2021 17:35:34 +0700</td>\n",
              "    </tr>\n",
              "    <tr>\n",
              "      <th>15</th>\n",
              "      <td>Apple เล็งเปิดตัว AirPods และ iPad Pro รุ่นใหม...</td>\n",
              "      <td>https://www.thairath.co.th/news/tech/gadget/21...</td>\n",
              "      <td>True</td>\n",
              "      <td>โอกาสที่จะได้เห็นผลิตภัณฑ์ในกลุ่มหูฟังอย่าง Ai...</td>\n",
              "      <td>Mon, 20 Sep 2021 17:32:04 +0700</td>\n",
              "    </tr>\n",
              "    <tr>\n",
              "      <th>16</th>\n",
              "      <td>ต๊อด-สิงห์อาสา จัดเมนูพิเศษ เติมพลังบุคลากรทาง...</td>\n",
              "      <td>https://www.thairath.co.th/business/market/219...</td>\n",
              "      <td>True</td>\n",
              "      <td>ปิติ ภิรมย์ภักดี กรรมการรองกรรมการผู้จัดการใหญ...</td>\n",
              "      <td>Mon, 20 Sep 2021 17:30:00 +0700</td>\n",
              "    </tr>\n",
              "    <tr>\n",
              "      <th>17</th>\n",
              "      <td>มาสเตอร์การ์ด ส่ง Tap &amp; Go สนับสนุนการใช้จ่ายแ...</td>\n",
              "      <td>https://www.thairath.co.th/business/finance/21...</td>\n",
              "      <td>True</td>\n",
              "      <td>มาสเตอร์การ์ด เปิดตัวแคมเปญ Tap &amp; Go สนับสนุนก...</td>\n",
              "      <td>Mon, 20 Sep 2021 17:22:00 +0700</td>\n",
              "    </tr>\n",
              "    <tr>\n",
              "      <th>18</th>\n",
              "      <td>ดีเจเพชรจ้า น้ำตาซึม น้องไทก้า บอกพ่อไม่ต้องทำ...</td>\n",
              "      <td>https://www.thairath.co.th/entertain/news/2198450</td>\n",
              "      <td>True</td>\n",
              "      <td>ดีเจเพชรจ้า วิเชียร เผยเรื่องราวที่ทำให้คนเป็น...</td>\n",
              "      <td>Mon, 20 Sep 2021 17:20:36 +0700</td>\n",
              "    </tr>\n",
              "    <tr>\n",
              "      <th>19</th>\n",
              "      <td>ลูกชาย &amp;quot;เบคแฮม&amp;quot; ลงเล่นฟุตบอลอาชีพครั...</td>\n",
              "      <td>https://www.thairath.co.th/sport/eurofootball/...</td>\n",
              "      <td>True</td>\n",
              "      <td>ลูกชายหัวแก้วหัวแหวนของ เดวิด เบคแฮม ประเดิมสน...</td>\n",
              "      <td>Mon, 20 Sep 2021 17:18:00 +0700</td>\n",
              "    </tr>\n",
              "  </tbody>\n",
              "</table>\n",
              "</div>"
            ],
            "text/plain": [
              "                                                title  ...                        published\n",
              "0   &quot;ประภัตร&quot; รับฟังชาวบ้านแก้ฝายยางชำรุ...  ...  Mon, 20 Sep 2021 18:41:00 +0700\n",
              "1   สื่อฝอยทองแฉ &quot;โรนัลโด&quot; เคยทำเรื่องผิ...  ...  Mon, 20 Sep 2021 18:34:00 +0700\n",
              "2   แพท ณปภา ตอบชัดสัมพันธ์ ปอ อรรณพ เคลียร์โดนแซะ...  ...  Mon, 20 Sep 2021 18:28:55 +0700\n",
              "3   การตรวจน้ำลายหาเชื้อโควิด-19 ให้ผลเชื่อถือได้แ...  ...  Mon, 20 Sep 2021 18:24:00 +0700\n",
              "4             ฮอนด้า ประเดิมขายรถยนต์ออนไลน์ในญี่ปุ่น  ...  Mon, 20 Sep 2021 18:23:07 +0700\n",
              "5   ติ๊ก ชิโร่ รับข่าวอักษรย่อกระทบครอบครัว เสียดแ...  ...  Mon, 20 Sep 2021 18:21:00 +0700\n",
              "6   หุ้นไทยวันนี้ ปิดตลาดหุ้นบ่าย ปรับลด 22.59 ดัช...  ...  Mon, 20 Sep 2021 18:20:00 +0700\n",
              "7   รวบคนร้ายบุกเดี่ยว จี้แบงก์ห้างดัง เพี้ยนจะเอา...  ...  Mon, 20 Sep 2021 18:13:00 +0700\n",
              "8   นายกฯ ยึด 3 หลัก ขับเคลื่อนทำงาน มอบเหรียญหลวง...  ...  Mon, 20 Sep 2021 18:05:00 +0700\n",
              "9   เกษตรฯ ปรับเกณฑ์ช่วยผู้ประสบภัยพิบัติด้านการเก...  ...  Mon, 20 Sep 2021 18:01:00 +0700\n",
              "10  อย. เร่งรัดบริษัทฯ ยื่นข้อมูลเพิ่ม เพื่อพิจารณ...  ...  Mon, 20 Sep 2021 18:00:00 +0700\n",
              "11  แจงรถตู้ตำรวจโผล่ชะอำ ที่แท้ไปจับคนร้าย ปลอมเป...  ...  Mon, 20 Sep 2021 17:50:00 +0700\n",
              "12  ภูเก็ต คุมเข้มม้าทรง เทศกาลถือศีลกินผัก 64 ลดข...  ...  Mon, 20 Sep 2021 17:42:00 +0700\n",
              "13  LINE MAN ดึงพิมรี่พาย เป็นพรีเซ็นเตอร์ ชวนร้าน...  ...  Mon, 20 Sep 2021 17:38:00 +0700\n",
              "14  ผอ.โรงพยาบาลชะอำ แจงหนุ่มอัดคลิป อ้างลูกคนใหญ่...  ...  Mon, 20 Sep 2021 17:35:34 +0700\n",
              "15  Apple เล็งเปิดตัว AirPods และ iPad Pro รุ่นใหม...  ...  Mon, 20 Sep 2021 17:32:04 +0700\n",
              "16  ต๊อด-สิงห์อาสา จัดเมนูพิเศษ เติมพลังบุคลากรทาง...  ...  Mon, 20 Sep 2021 17:30:00 +0700\n",
              "17  มาสเตอร์การ์ด ส่ง Tap & Go สนับสนุนการใช้จ่ายแ...  ...  Mon, 20 Sep 2021 17:22:00 +0700\n",
              "18  ดีเจเพชรจ้า น้ำตาซึม น้องไทก้า บอกพ่อไม่ต้องทำ...  ...  Mon, 20 Sep 2021 17:20:36 +0700\n",
              "19  ลูกชาย &quot;เบคแฮม&quot; ลงเล่นฟุตบอลอาชีพครั...  ...  Mon, 20 Sep 2021 17:18:00 +0700\n",
              "\n",
              "[20 rows x 5 columns]"
            ]
          },
          "metadata": {},
          "execution_count": 9
        }
      ]
    },
    {
      "cell_type": "code",
      "metadata": {
        "id": "mzJiQSL7dRUI"
      },
      "source": [
        "from tqdm.auto import tqdm\n",
        "tqdm.pandas()\n",
        "data = []\n",
        "temp = pd.DataFrame(data, columns= ['title', 'summary','link','published'])\n",
        "temp.to_csv('/content/drive/MyDrive/ProjectNLP/Internship/Data/ThaiRath_21_9_2021.csv',index=False)"
      ],
      "execution_count": null,
      "outputs": []
    },
    {
      "cell_type": "code",
      "metadata": {
        "colab": {
          "base_uri": "https://localhost:8080/"
        },
        "id": "9T4An_F3aCqY",
        "outputId": "c3c68bde-1fc6-4923-863e-ed43a004a026"
      },
      "source": [
        "from google.colab import drive\n",
        "drive.mount('/content/drive')"
      ],
      "execution_count": 2,
      "outputs": [
        {
          "output_type": "stream",
          "name": "stdout",
          "text": [
            "Mounted at /content/drive\n"
          ]
        }
      ]
    },
    {
      "cell_type": "code",
      "metadata": {
        "id": "a4UmQG_bKMKG",
        "colab": {
          "base_uri": "https://localhost:8080/",
          "height": 66,
          "referenced_widgets": [
            "9b00d452a70b44f69b95ac6f14942949",
            "eb3200eb4bb24eabbd9e97860239d961",
            "45a4395149b243d0b82679e5677ecd22",
            "5e83f991692d454b90cb3516cc751014",
            "592f8798d596482386e1fe1718f24013",
            "6a7c7adc1a5740bba214feb610c3bee9",
            "714d6e892c64496daac63cce3683e295",
            "dfd1c4eb7dc84d65ade7e8298ad257cf",
            "a3598904cf8d47b3a3287d51d0291870",
            "8a799fcefdb24102b8a8857e4f048a71",
            "f9ca0eaca5f04dd6935207043bc66665"
          ]
        },
        "outputId": "0464d81a-3665-46fb-e65f-e92c778e82c4"
      },
      "source": [
        "from time import time, sleep\n",
        "import pandas as pd\n",
        "import numpy as np\n",
        "import re\n",
        "import feedparser\n",
        "from tqdm.auto import tqdm\n",
        "tqdm.pandas()\n",
        "keys = ['author','authors', 'author_detail','title_detail', 'tags', 'summary_detail', 'links', 'published_parsed']\n",
        "while True:\n",
        "  all = []\n",
        "  df_news = pd.read_csv('/content/drive/MyDrive/ProjectNLP/Internship/Data/ThaiRath_21_9_2021.csv')\n",
        "  feed = feedparser.parse('https://www.thairath.co.th/rss/news.xml')\n",
        "  all = [feed.entries[i] for i in range(20)]\n",
        "  print(all[0]['title'])\n",
        "  ## clear unusual keys\n",
        "  for i in tqdm(range(len(all))):\n",
        "    for j in keys:\n",
        "      if j in all[i]:\n",
        "        all[i].pop(j)\n",
        "  \n",
        "  ## filter not multiple\n",
        "  temp = []\n",
        "  for i in all:\n",
        "    ## print(i['title'])\n",
        "    if not df_news['link'].str.contains(i['link']).any():\n",
        "      ## print(\"yes\")\n",
        "      temp.append(i)\n",
        "  \n",
        "  ## concate to dataframe\n",
        "  new = pd.DataFrame(temp, columns= ['title', 'summary','link','published'])\n",
        "  csv = pd.concat([df_news,new],ignore_index=True)\n",
        "  csv.to_csv('/content/drive/MyDrive/ProjectNLP/Internship/Data/ThaiRath_21_9_2021.csv',index=False)\n",
        "  sleep(600)"
      ],
      "execution_count": null,
      "outputs": [
        {
          "output_type": "stream",
          "name": "stdout",
          "text": [
            "“แกรมมี่” ส่งวงดนตรีหัวใจไทย “ASIA7” ร่วมโชว์ “Seoul Friendship Festival 2021”\n"
          ]
        },
        {
          "output_type": "display_data",
          "data": {
            "application/vnd.jupyter.widget-view+json": {
              "model_id": "9b00d452a70b44f69b95ac6f14942949",
              "version_minor": 0,
              "version_major": 2
            },
            "text/plain": [
              "  0%|          | 0/20 [00:00<?, ?it/s]"
            ]
          },
          "metadata": {}
        }
      ]
    },
    {
      "cell_type": "code",
      "metadata": {
        "colab": {
          "base_uri": "https://localhost:8080/"
        },
        "id": "FVAKPxfq9jqY",
        "outputId": "2d3d8bb1-58a0-487c-92a1-e58a7303516c"
      },
      "source": [
        "df_news = pd.read_csv('/content/drive/MyDrive/ProjectNLP/Internship/Data/ThaiRath_21_9_2021.csv')"
      ],
      "execution_count": 8,
      "outputs": [
        {
          "output_type": "execute_result",
          "data": {
            "text/plain": [
              "แอปพลิเคชัน CHIVID พัฒนาขึ้นโดยสำนักวิชาวิทยาศาสตร์และเทคโนโลยีสารสนเทศ สถาบันวิทยสิริเมธี (VISTEC) ที่ได้จับมือกับบริษัทพัฒนานวัตกรรมและซอฟต์แวร์ทางการแพทย์ ‘บริษัท เมดเอนไซ จำกัด’                                 1\n",
              "ปัจจุบันการตรวจหาเชื้อโควิดด้วยตนเองด้วยชุดตรวจ Antigen Test Kit (ATK) เป็นวิธีที่เริ่มมีการใช้กันอย่างแพร่หลาย ซึ่งมีทั้งการตรวจโดยใช้การเก็บตัวอย่างจากสารคัดหลั่งจากทางเดินหายใจ                                   1\n",
              "ผบ.กองเรือยุทธการ มอบรางวัลเรือพร้อมรบสูงสุด และรางวัลบุคคลดีเด่นของกองเรือยุทธการ ประจำปี 2564 ซึ่งการแข่งขันเพื่อเกิดการแข่งขัน และเตรียมความพร้อมในการปฏิบัติภารกิจ                                                1\n",
              "ติอาโก อัลคันทารา ต้องพลาดลงเล่นให้ ลิเวอร์พูล อย่างน้อย 2 นัดจากอาการบาดเจ็บนัดล่าสุด พร้อมเช็กชื่อทั้ง 5 คนในบัญชีเดี้ยง                                                                                            1\n",
              "&quot;พอล รูเซซาบากินา&quot;อดีตผจก.โรงแรมรวันดา วีรบุรุษช่วยชีวิตผู้คนมากกว่า1,200คนจากการฆ่าล้างเผ่าพันธุ์ และเรื่องราวถูกนำมาสร้างเป็นภาพยนตร์เรื่อง &quot;Hotel Rwanda&quot; ได้ถูกศาลตัดสินจำคุกฐานก่อการร้าย    1\n",
              "                                                                                                                                                                                                                     ..\n",
              "หมอมีน อาจารย์ อรรถพล ดูดวงวิเคราะห์โลโก้ Smartphone                                                                                                                                                                  1\n",
              "ศูนย์วิจัยข้าวฉะเชิงเทรา ค้นคว้าทดลองและปรับปรุงพันธุ์ข้าวตามหลักวิชาการ พร้อมสนับสนุนเมล็ดพันธุ์คุณภาพแก่เกษตรกรเพื่อนำไปขยายพันธุ์ต่อ ส่งผลลืมตาอ้าปากถ้วนหน้า                                                      1\n",
              "การสร้างความมั่นคงด้านน้ำ เป็นสิ่งสำคัญและจำเป็นที่สุดสำหรับประเทศไทยจริงอยู่ แม้ว่าระยะนี้จะมีฝนตกหนัก ทำให้มีปริมาณน้ำฝนมากไปจนถึงเดือน พ.ย.นี้                                                                     1\n",
              "ดาวเตะปิศาจแดงออกมาตอกกลับอดีตแข้งดังรุ่นพี่ หลังโดนติงเรื่องไม่กล้าแสดงอาการดีใจ ในเกมกับพลพรรคขุนค้อนเมื่อวันอาทิตย์                                                                                                1\n",
              "มือปืนบุกก่อเหตุกราดยิงสะเทือนขวัญ ที่มหาวิทยาลัยในเมืองเปียร์ม ของรัสเซีย ตายอย่างน้อย 8 ศพ บาดเจ็บเกือบ 30 ราย                                                                                                      1\n",
              "Name: summary, Length: 88, dtype: int64"
            ]
          },
          "metadata": {},
          "execution_count": 8
        }
      ]
    }
  ]
}
{
 "cells": [
  {
   "cell_type": "markdown",
   "source": [
    "# Word Break Notebook"
   ],
   "metadata": {}
  },
  {
   "cell_type": "code",
   "execution_count": 1,
   "source": [
    "## PyThaiNLP\r\n",
    "import pandas as pd\r\n",
    "from pythainlp import word_tokenize as tokenize\r\n",
    "from pythainlp.util import *\r\n",
    "from tqdm.auto import tqdm\r\n",
    "tqdm.pandas()"
   ],
   "outputs": [],
   "metadata": {}
  },
  {
   "cell_type": "code",
   "execution_count": 2,
   "source": [
    "df = pd.read_csv(\"../Data/ThaiRath.csv\")\r\n",
    "df"
   ],
   "outputs": [
    {
     "output_type": "execute_result",
     "data": {
      "text/plain": [
       "                                                 title  \\\n",
       "0    โรนัลโดเงิบ &quot;ชากา&quot; ซดโค้กก่อน สวิตเซ...   \n",
       "1    สันนิษฐานดาวศุกร์ยังคงขับเคลื่อนกิจกรรมในทางธร...   \n",
       "2    ฟอร์จูนเนอร์ โคโรลล่า ครอส ตัวดันยอดพี่โต! สรุ...   \n",
       "3    ราคาทองวันนี้ 29/6/64 ล่าสุด เปิดตลาดเช้าวันอั...   \n",
       "4    เผยภาพล่าสุด &quot;คิม จอง อึน&quot; ผ่ายผอมลง...   \n",
       "..                                                 ...   \n",
       "418  สตม. แจงข่าวข้อมูลนักท่องเที่ยว 106 ล้านคนเคยม...   \n",
       "419  ระวังหลอกลงทุนออนไลน์ ภัยร้ายโลกไซเบอร์ ตร.เตื...   \n",
       "420  เปิดคลิปบิ๊กขรก.ควงอัยการ ฉกตัวน้องเมีย ถูกจับ...   \n",
       "421  บช.สอท.เปิดช่องทางให้ผู้เสียหายถูก Nas App หลอ...   \n",
       "422  เจอก้อนปริศนาบนหาดไม้ขาว ภูเก็ต เชื่อ อำพันทะเ...   \n",
       "\n",
       "                                               summary  \\\n",
       "0    กัปตันทีมชาติสวิตเซอร์แลนด์ ทำเอากัปตันทีมชาติ...   \n",
       "1    นักวิทยาศาสตร์สันนิษฐานว่าดาวศุกร์มีเปลือกนอกแ...   \n",
       "2    ยอดขายรถยนต์ในประเทศไทย ประจำเดือนพฤษภาคม 64 ย...   \n",
       "3    &quot;ราคาทองวันนี้&quot; เปิดตลาดเช้าวันอังคา...   \n",
       "4    ทีวีเกาหลีเหนือเผยภาพล่าสุด &quot;คิม จอง อึน&...   \n",
       "..                                                 ...   \n",
       "418  สตม. แจงกระแสข่าวข้อมูลนักท่องเที่ยวต่างชาติรา...   \n",
       "419  ตร.เตือน แอปพลิเคชันหลอกลงทุนออนไลน์ กำลังเป็น...   \n",
       "420  กระหึ่มโซเชียล บิ๊กข้าราชการประจวบฯ สวมโม่งดำค...   \n",
       "421  โฆษก ตร. เผย เปิดช่องทางรับแจ้งความออนไลน์ สำห...   \n",
       "422  หนุ่มใหญ่ชาวภูเก็ต วิ่งออกกำลังกายยามเช้าบริเว...   \n",
       "\n",
       "                                                  link  \\\n",
       "0    https://www.thairath.co.th/sport/eurofootball/...   \n",
       "1    https://www.thairath.co.th/lifestyle/life/2126940   \n",
       "2    https://www.thairath.co.th/news/auto/news/2127156   \n",
       "3    https://www.thairath.co.th/business/investment...   \n",
       "4      https://www.thairath.co.th/news/foreign/2127271   \n",
       "..                                                 ...   \n",
       "418      https://www.thairath.co.th/news/local/2201275   \n",
       "419      https://www.thairath.co.th/news/crime/2201303   \n",
       "420      https://www.thairath.co.th/news/crime/2201270   \n",
       "421      https://www.thairath.co.th/news/crime/2201293   \n",
       "422  https://www.thairath.co.th/news/local/south/22...   \n",
       "\n",
       "                           published  \n",
       "0    Tue, 29 Jun 2021 10:05:00 +0700  \n",
       "1    Tue, 29 Jun 2021 10:01:00 +0700  \n",
       "2    Tue, 29 Jun 2021 10:00:00 +0700  \n",
       "3    Tue, 29 Jun 2021 09:35:00 +0700  \n",
       "4    Tue, 29 Jun 2021 09:32:47 +0700  \n",
       "..                               ...  \n",
       "418  Thu, 23 Sep 2021 17:55:00 +0700  \n",
       "419  Thu, 23 Sep 2021 17:49:57 +0700  \n",
       "420  Thu, 23 Sep 2021 17:49:27 +0700  \n",
       "421  Thu, 23 Sep 2021 17:37:49 +0700  \n",
       "422  Thu, 23 Sep 2021 17:33:00 +0700  \n",
       "\n",
       "[423 rows x 4 columns]"
      ],
      "text/html": "<div>\n<style scoped>\n    .dataframe tbody tr th:only-of-type {\n        vertical-align: middle;\n    }\n\n    .dataframe tbody tr th {\n        vertical-align: top;\n    }\n\n    .dataframe thead th {\n        text-align: right;\n    }\n</style>\n<table border=\"1\" class=\"dataframe\">\n  <thead>\n    <tr style=\"text-align: right;\">\n      <th></th>\n      <th>title</th>\n      <th>summary</th>\n      <th>link</th>\n      <th>published</th>\n    </tr>\n  </thead>\n  <tbody>\n    <tr>\n      <th>0</th>\n      <td>โรนัลโดเงิบ &amp;quot;ชากา&amp;quot; ซดโค้กก่อน สวิตเซ...</td>\n      <td>กัปตันทีมชาติสวิตเซอร์แลนด์ ทำเอากัปตันทีมชาติ...</td>\n      <td>https://www.thairath.co.th/sport/eurofootball/...</td>\n      <td>Tue, 29 Jun 2021 10:05:00 +0700</td>\n    </tr>\n    <tr>\n      <th>1</th>\n      <td>สันนิษฐานดาวศุกร์ยังคงขับเคลื่อนกิจกรรมในทางธร...</td>\n      <td>นักวิทยาศาสตร์สันนิษฐานว่าดาวศุกร์มีเปลือกนอกแ...</td>\n      <td>https://www.thairath.co.th/lifestyle/life/2126940</td>\n      <td>Tue, 29 Jun 2021 10:01:00 +0700</td>\n    </tr>\n    <tr>\n      <th>2</th>\n      <td>ฟอร์จูนเนอร์ โคโรลล่า ครอส ตัวดันยอดพี่โต! สรุ...</td>\n      <td>ยอดขายรถยนต์ในประเทศไทย ประจำเดือนพฤษภาคม 64 ย...</td>\n      <td>https://www.thairath.co.th/news/auto/news/2127156</td>\n      <td>Tue, 29 Jun 2021 10:00:00 +0700</td>\n    </tr>\n    <tr>\n      <th>3</th>\n      <td>ราคาทองวันนี้ 29/6/64 ล่าสุด เปิดตลาดเช้าวันอั...</td>\n      <td>&amp;quot;ราคาทองวันนี้&amp;quot; เปิดตลาดเช้าวันอังคา...</td>\n      <td>https://www.thairath.co.th/business/investment...</td>\n      <td>Tue, 29 Jun 2021 09:35:00 +0700</td>\n    </tr>\n    <tr>\n      <th>4</th>\n      <td>เผยภาพล่าสุด &amp;quot;คิม จอง อึน&amp;quot; ผ่ายผอมลง...</td>\n      <td>ทีวีเกาหลีเหนือเผยภาพล่าสุด &amp;quot;คิม จอง อึน&amp;...</td>\n      <td>https://www.thairath.co.th/news/foreign/2127271</td>\n      <td>Tue, 29 Jun 2021 09:32:47 +0700</td>\n    </tr>\n    <tr>\n      <th>...</th>\n      <td>...</td>\n      <td>...</td>\n      <td>...</td>\n      <td>...</td>\n    </tr>\n    <tr>\n      <th>418</th>\n      <td>สตม. แจงข่าวข้อมูลนักท่องเที่ยว 106 ล้านคนเคยม...</td>\n      <td>สตม. แจงกระแสข่าวข้อมูลนักท่องเที่ยวต่างชาติรา...</td>\n      <td>https://www.thairath.co.th/news/local/2201275</td>\n      <td>Thu, 23 Sep 2021 17:55:00 +0700</td>\n    </tr>\n    <tr>\n      <th>419</th>\n      <td>ระวังหลอกลงทุนออนไลน์ ภัยร้ายโลกไซเบอร์ ตร.เตื...</td>\n      <td>ตร.เตือน แอปพลิเคชันหลอกลงทุนออนไลน์ กำลังเป็น...</td>\n      <td>https://www.thairath.co.th/news/crime/2201303</td>\n      <td>Thu, 23 Sep 2021 17:49:57 +0700</td>\n    </tr>\n    <tr>\n      <th>420</th>\n      <td>เปิดคลิปบิ๊กขรก.ควงอัยการ ฉกตัวน้องเมีย ถูกจับ...</td>\n      <td>กระหึ่มโซเชียล บิ๊กข้าราชการประจวบฯ สวมโม่งดำค...</td>\n      <td>https://www.thairath.co.th/news/crime/2201270</td>\n      <td>Thu, 23 Sep 2021 17:49:27 +0700</td>\n    </tr>\n    <tr>\n      <th>421</th>\n      <td>บช.สอท.เปิดช่องทางให้ผู้เสียหายถูก Nas App หลอ...</td>\n      <td>โฆษก ตร. เผย เปิดช่องทางรับแจ้งความออนไลน์ สำห...</td>\n      <td>https://www.thairath.co.th/news/crime/2201293</td>\n      <td>Thu, 23 Sep 2021 17:37:49 +0700</td>\n    </tr>\n    <tr>\n      <th>422</th>\n      <td>เจอก้อนปริศนาบนหาดไม้ขาว ภูเก็ต เชื่อ อำพันทะเ...</td>\n      <td>หนุ่มใหญ่ชาวภูเก็ต วิ่งออกกำลังกายยามเช้าบริเว...</td>\n      <td>https://www.thairath.co.th/news/local/south/22...</td>\n      <td>Thu, 23 Sep 2021 17:33:00 +0700</td>\n    </tr>\n  </tbody>\n</table>\n<p>423 rows × 4 columns</p>\n</div>"
     },
     "metadata": {},
     "execution_count": 2
    }
   ],
   "metadata": {}
  },
  {
   "cell_type": "code",
   "execution_count": 3,
   "source": [
    "df.drop_duplicates(inplace=True)\r\n",
    "df"
   ],
   "outputs": [
    {
     "output_type": "execute_result",
     "data": {
      "text/plain": [
       "                                                 title  \\\n",
       "0    โรนัลโดเงิบ &quot;ชากา&quot; ซดโค้กก่อน สวิตเซ...   \n",
       "1    สันนิษฐานดาวศุกร์ยังคงขับเคลื่อนกิจกรรมในทางธร...   \n",
       "2    ฟอร์จูนเนอร์ โคโรลล่า ครอส ตัวดันยอดพี่โต! สรุ...   \n",
       "3    ราคาทองวันนี้ 29/6/64 ล่าสุด เปิดตลาดเช้าวันอั...   \n",
       "4    เผยภาพล่าสุด &quot;คิม จอง อึน&quot; ผ่ายผอมลง...   \n",
       "..                                                 ...   \n",
       "418  สตม. แจงข่าวข้อมูลนักท่องเที่ยว 106 ล้านคนเคยม...   \n",
       "419  ระวังหลอกลงทุนออนไลน์ ภัยร้ายโลกไซเบอร์ ตร.เตื...   \n",
       "420  เปิดคลิปบิ๊กขรก.ควงอัยการ ฉกตัวน้องเมีย ถูกจับ...   \n",
       "421  บช.สอท.เปิดช่องทางให้ผู้เสียหายถูก Nas App หลอ...   \n",
       "422  เจอก้อนปริศนาบนหาดไม้ขาว ภูเก็ต เชื่อ อำพันทะเ...   \n",
       "\n",
       "                                               summary  \\\n",
       "0    กัปตันทีมชาติสวิตเซอร์แลนด์ ทำเอากัปตันทีมชาติ...   \n",
       "1    นักวิทยาศาสตร์สันนิษฐานว่าดาวศุกร์มีเปลือกนอกแ...   \n",
       "2    ยอดขายรถยนต์ในประเทศไทย ประจำเดือนพฤษภาคม 64 ย...   \n",
       "3    &quot;ราคาทองวันนี้&quot; เปิดตลาดเช้าวันอังคา...   \n",
       "4    ทีวีเกาหลีเหนือเผยภาพล่าสุด &quot;คิม จอง อึน&...   \n",
       "..                                                 ...   \n",
       "418  สตม. แจงกระแสข่าวข้อมูลนักท่องเที่ยวต่างชาติรา...   \n",
       "419  ตร.เตือน แอปพลิเคชันหลอกลงทุนออนไลน์ กำลังเป็น...   \n",
       "420  กระหึ่มโซเชียล บิ๊กข้าราชการประจวบฯ สวมโม่งดำค...   \n",
       "421  โฆษก ตร. เผย เปิดช่องทางรับแจ้งความออนไลน์ สำห...   \n",
       "422  หนุ่มใหญ่ชาวภูเก็ต วิ่งออกกำลังกายยามเช้าบริเว...   \n",
       "\n",
       "                                                  link  \\\n",
       "0    https://www.thairath.co.th/sport/eurofootball/...   \n",
       "1    https://www.thairath.co.th/lifestyle/life/2126940   \n",
       "2    https://www.thairath.co.th/news/auto/news/2127156   \n",
       "3    https://www.thairath.co.th/business/investment...   \n",
       "4      https://www.thairath.co.th/news/foreign/2127271   \n",
       "..                                                 ...   \n",
       "418      https://www.thairath.co.th/news/local/2201275   \n",
       "419      https://www.thairath.co.th/news/crime/2201303   \n",
       "420      https://www.thairath.co.th/news/crime/2201270   \n",
       "421      https://www.thairath.co.th/news/crime/2201293   \n",
       "422  https://www.thairath.co.th/news/local/south/22...   \n",
       "\n",
       "                           published  \n",
       "0    Tue, 29 Jun 2021 10:05:00 +0700  \n",
       "1    Tue, 29 Jun 2021 10:01:00 +0700  \n",
       "2    Tue, 29 Jun 2021 10:00:00 +0700  \n",
       "3    Tue, 29 Jun 2021 09:35:00 +0700  \n",
       "4    Tue, 29 Jun 2021 09:32:47 +0700  \n",
       "..                               ...  \n",
       "418  Thu, 23 Sep 2021 17:55:00 +0700  \n",
       "419  Thu, 23 Sep 2021 17:49:57 +0700  \n",
       "420  Thu, 23 Sep 2021 17:49:27 +0700  \n",
       "421  Thu, 23 Sep 2021 17:37:49 +0700  \n",
       "422  Thu, 23 Sep 2021 17:33:00 +0700  \n",
       "\n",
       "[423 rows x 4 columns]"
      ],
      "text/html": "<div>\n<style scoped>\n    .dataframe tbody tr th:only-of-type {\n        vertical-align: middle;\n    }\n\n    .dataframe tbody tr th {\n        vertical-align: top;\n    }\n\n    .dataframe thead th {\n        text-align: right;\n    }\n</style>\n<table border=\"1\" class=\"dataframe\">\n  <thead>\n    <tr style=\"text-align: right;\">\n      <th></th>\n      <th>title</th>\n      <th>summary</th>\n      <th>link</th>\n      <th>published</th>\n    </tr>\n  </thead>\n  <tbody>\n    <tr>\n      <th>0</th>\n      <td>โรนัลโดเงิบ &amp;quot;ชากา&amp;quot; ซดโค้กก่อน สวิตเซ...</td>\n      <td>กัปตันทีมชาติสวิตเซอร์แลนด์ ทำเอากัปตันทีมชาติ...</td>\n      <td>https://www.thairath.co.th/sport/eurofootball/...</td>\n      <td>Tue, 29 Jun 2021 10:05:00 +0700</td>\n    </tr>\n    <tr>\n      <th>1</th>\n      <td>สันนิษฐานดาวศุกร์ยังคงขับเคลื่อนกิจกรรมในทางธร...</td>\n      <td>นักวิทยาศาสตร์สันนิษฐานว่าดาวศุกร์มีเปลือกนอกแ...</td>\n      <td>https://www.thairath.co.th/lifestyle/life/2126940</td>\n      <td>Tue, 29 Jun 2021 10:01:00 +0700</td>\n    </tr>\n    <tr>\n      <th>2</th>\n      <td>ฟอร์จูนเนอร์ โคโรลล่า ครอส ตัวดันยอดพี่โต! สรุ...</td>\n      <td>ยอดขายรถยนต์ในประเทศไทย ประจำเดือนพฤษภาคม 64 ย...</td>\n      <td>https://www.thairath.co.th/news/auto/news/2127156</td>\n      <td>Tue, 29 Jun 2021 10:00:00 +0700</td>\n    </tr>\n    <tr>\n      <th>3</th>\n      <td>ราคาทองวันนี้ 29/6/64 ล่าสุด เปิดตลาดเช้าวันอั...</td>\n      <td>&amp;quot;ราคาทองวันนี้&amp;quot; เปิดตลาดเช้าวันอังคา...</td>\n      <td>https://www.thairath.co.th/business/investment...</td>\n      <td>Tue, 29 Jun 2021 09:35:00 +0700</td>\n    </tr>\n    <tr>\n      <th>4</th>\n      <td>เผยภาพล่าสุด &amp;quot;คิม จอง อึน&amp;quot; ผ่ายผอมลง...</td>\n      <td>ทีวีเกาหลีเหนือเผยภาพล่าสุด &amp;quot;คิม จอง อึน&amp;...</td>\n      <td>https://www.thairath.co.th/news/foreign/2127271</td>\n      <td>Tue, 29 Jun 2021 09:32:47 +0700</td>\n    </tr>\n    <tr>\n      <th>...</th>\n      <td>...</td>\n      <td>...</td>\n      <td>...</td>\n      <td>...</td>\n    </tr>\n    <tr>\n      <th>418</th>\n      <td>สตม. แจงข่าวข้อมูลนักท่องเที่ยว 106 ล้านคนเคยม...</td>\n      <td>สตม. แจงกระแสข่าวข้อมูลนักท่องเที่ยวต่างชาติรา...</td>\n      <td>https://www.thairath.co.th/news/local/2201275</td>\n      <td>Thu, 23 Sep 2021 17:55:00 +0700</td>\n    </tr>\n    <tr>\n      <th>419</th>\n      <td>ระวังหลอกลงทุนออนไลน์ ภัยร้ายโลกไซเบอร์ ตร.เตื...</td>\n      <td>ตร.เตือน แอปพลิเคชันหลอกลงทุนออนไลน์ กำลังเป็น...</td>\n      <td>https://www.thairath.co.th/news/crime/2201303</td>\n      <td>Thu, 23 Sep 2021 17:49:57 +0700</td>\n    </tr>\n    <tr>\n      <th>420</th>\n      <td>เปิดคลิปบิ๊กขรก.ควงอัยการ ฉกตัวน้องเมีย ถูกจับ...</td>\n      <td>กระหึ่มโซเชียล บิ๊กข้าราชการประจวบฯ สวมโม่งดำค...</td>\n      <td>https://www.thairath.co.th/news/crime/2201270</td>\n      <td>Thu, 23 Sep 2021 17:49:27 +0700</td>\n    </tr>\n    <tr>\n      <th>421</th>\n      <td>บช.สอท.เปิดช่องทางให้ผู้เสียหายถูก Nas App หลอ...</td>\n      <td>โฆษก ตร. เผย เปิดช่องทางรับแจ้งความออนไลน์ สำห...</td>\n      <td>https://www.thairath.co.th/news/crime/2201293</td>\n      <td>Thu, 23 Sep 2021 17:37:49 +0700</td>\n    </tr>\n    <tr>\n      <th>422</th>\n      <td>เจอก้อนปริศนาบนหาดไม้ขาว ภูเก็ต เชื่อ อำพันทะเ...</td>\n      <td>หนุ่มใหญ่ชาวภูเก็ต วิ่งออกกำลังกายยามเช้าบริเว...</td>\n      <td>https://www.thairath.co.th/news/local/south/22...</td>\n      <td>Thu, 23 Sep 2021 17:33:00 +0700</td>\n    </tr>\n  </tbody>\n</table>\n<p>423 rows × 4 columns</p>\n</div>"
     },
     "metadata": {},
     "execution_count": 3
    }
   ],
   "metadata": {}
  },
  {
   "cell_type": "code",
   "execution_count": 4,
   "source": [
    "NEWMM = \"newmm\"\r\n",
    "ATTACUT = \"attacut\"\r\n",
    "list_column = df.columns.values.tolist()\r\n",
    "columnName = list_column[1]\r\n",
    "\r\n",
    "def word_break(news,engine):\r\n",
    "    segment = tokenize(news,keep_whitespace=False,engine=engine)\r\n",
    "    return segment"
   ],
   "outputs": [],
   "metadata": {}
  },
  {
   "cell_type": "markdown",
   "source": [
    "## Word Break Example"
   ],
   "metadata": {}
  },
  {
   "cell_type": "code",
   "execution_count": 5,
   "source": [
    "text = df[\"summary\"].iloc[2]\r\n",
    "print(text)\r\n",
    "print(\"ATTACUT : \" + \" | \".join(word_break(text,ATTACUT)))\r\n",
    "print(\"NEWMM : \" + \" | \".join(word_break(text,NEWMM)))"
   ],
   "outputs": [
    {
     "output_type": "stream",
     "name": "stdout",
     "text": [
      "ยอดขายรถยนต์ในประเทศไทย ประจำเดือนพฤษภาคม 64 ยอดขายรวม 55,948 คัน เพิ่มขึ้น 38.4%\n",
      "ATTACUT : ยอด | ขาย | รถ | ยนต์ | ใน | ประเทศไทย | ประจำ | เดือน | พฤษภาคม | 64 | ยอด | ขาย | รวม | 55 | , | 948 | คัน | เพิ่ม | ขึ้น | 38 | . | 4 | %\n",
      "NEWMM : ยอดขาย | รถยนต์ | ในประเทศ | ไทย | ประจำเดือน | พฤษภาคม | 64 | ยอดขาย | รวม | 55,948 | คัน | เพิ่มขึ้น | 38.4 | %\n"
     ]
    }
   ],
   "metadata": {}
  },
  {
   "cell_type": "code",
   "execution_count": 12,
   "source": [
    "text_file = open(\"../Dict/lexitron.txt\", \"r\")\r\n",
    "content = text_file.read()\r\n",
    "dict_lexitron = content.split(\"\\n\")\r\n",
    "text_file.close()\r\n",
    "len(dict_lexitron)"
   ],
   "outputs": [
    {
     "output_type": "execute_result",
     "data": {
      "text/plain": [
       "42221"
      ]
     },
     "metadata": {},
     "execution_count": 12
    }
   ],
   "metadata": {}
  },
  {
   "cell_type": "code",
   "execution_count": 14,
   "source": [
    "text_file = open(\"../Dict/remove_alien_3.txt\", \"r\")\r\n",
    "content = text_file.read()\r\n",
    "dict_thai2vec = content.split(\"\\n\")\r\n",
    "text_file.close()\r\n",
    "len(dict_thai2vec)"
   ],
   "outputs": [
    {
     "output_type": "execute_result",
     "data": {
      "text/plain": [
       "33333"
      ]
     },
     "metadata": {},
     "execution_count": 14
    }
   ],
   "metadata": {}
  },
  {
   "cell_type": "code",
   "execution_count": 15,
   "source": [
    "newmmWB = []\r\n",
    "attacutWB = []"
   ],
   "outputs": [],
   "metadata": {}
  },
  {
   "cell_type": "code",
   "execution_count": 16,
   "source": [
    "def cumulate_wb(df_news,engine):\r\n",
    "  all = set()\r\n",
    "  for i in tqdm(range(len(df_news))):\r\n",
    "    all = all.union(set(word_break(df_news.iloc[i][columnName],engine)))\r\n",
    "  mylist = list(all)\r\n",
    "  mylist = [word for word in mylist if isthai(word,ignore_chars='.()-')]\r\n",
    "  return mylist"
   ],
   "outputs": [],
   "metadata": {}
  },
  {
   "cell_type": "code",
   "execution_count": 17,
   "source": [
    "def accuracy(df_news,engine,dict_list):\r\n",
    "  result = cumulate_wb(df_news,engine)\r\n",
    "  amount = len(result)\r\n",
    "  inDict = [word for word in result if word in dict_list]\r\n",
    "  isThai = len(inDict)\r\n",
    "  print('\\n')\r\n",
    "  print(str(engine) + ' accuracy : ' + str(round((isThai / amount)*100,3)))\r\n",
    "  return result"
   ],
   "outputs": [],
   "metadata": {}
  },
  {
   "cell_type": "code",
   "execution_count": 18,
   "source": [
    "newmmWB = accuracy(df,\"newmm\",dict_lexitron)"
   ],
   "outputs": [
    {
     "output_type": "stream",
     "name": "stderr",
     "text": [
      "100%|██████████| 423/423 [00:00<00:00, 730.40it/s]\n",
      "\n",
      "\n",
      "newmm accuracy : 89.495\n"
     ]
    }
   ],
   "metadata": {}
  },
  {
   "cell_type": "code",
   "execution_count": 19,
   "source": [
    "len(newmmWB)"
   ],
   "outputs": [
    {
     "output_type": "execute_result",
     "data": {
      "text/plain": [
       "3703"
      ]
     },
     "metadata": {},
     "execution_count": 19
    }
   ],
   "metadata": {}
  },
  {
   "cell_type": "code",
   "execution_count": 20,
   "source": [
    "attacutWB = accuracy(df,\"attacut\",dict_lexitron)"
   ],
   "outputs": [
    {
     "output_type": "stream",
     "name": "stderr",
     "text": [
      "100%|██████████| 423/423 [00:10<00:00, 41.21it/s]\n",
      "\n",
      "\n",
      "attacut accuracy : 75.114\n"
     ]
    }
   ],
   "metadata": {}
  },
  {
   "cell_type": "code",
   "execution_count": 21,
   "source": [
    "len(attacutWB)"
   ],
   "outputs": [
    {
     "output_type": "execute_result",
     "data": {
      "text/plain": [
       "2849"
      ]
     },
     "metadata": {},
     "execution_count": 21
    }
   ],
   "metadata": {}
  },
  {
   "cell_type": "code",
   "execution_count": null,
   "metadata": {},
   "outputs": [],
   "source": []
  }
 ],
 "metadata": {
  "orig_nbformat": 4,
  "language_info": {
   "name": "python",
   "version": "3.8.7",
   "mimetype": "text/x-python",
   "codemirror_mode": {
    "name": "ipython",
    "version": 3
   },
   "pygments_lexer": "ipython3",
   "nbconvert_exporter": "python",
   "file_extension": ".py"
  },
  "kernelspec": {
   "name": "python3",
   "display_name": "Python 3.8.7 64-bit"
  },
  "interpreter": {
   "hash": "aee8b7b246df8f9039afb4144a1f6fd8d2ca17a180786b69acc140d282b71a49"
  }
 },
 "nbformat": 4,
 "nbformat_minor": 2
}
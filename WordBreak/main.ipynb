{
 "cells": [
  {
   "cell_type": "markdown",
   "source": [
    "# Word Break Notebook"
   ],
   "metadata": {}
  },
  {
   "cell_type": "code",
   "execution_count": 1,
   "source": [
    "## PyThaiNLP\r\n",
    "import pandas as pd\r\n",
    "from pythainlp import word_tokenize as tokenize\r\n",
    "from pythainlp.util import *\r\n",
    "from tqdm.auto import tqdm\r\n",
    "tqdm.pandas()"
   ],
   "outputs": [],
   "metadata": {}
  },
  {
   "cell_type": "code",
   "execution_count": 2,
   "source": [
    "df = pd.read_csv(\"../asset/Data/ThaiRath.csv\")\r\n",
    "df"
   ],
   "outputs": [
    {
     "output_type": "execute_result",
     "data": {
      "text/html": [
       "<div>\n",
       "<style scoped>\n",
       "    .dataframe tbody tr th:only-of-type {\n",
       "        vertical-align: middle;\n",
       "    }\n",
       "\n",
       "    .dataframe tbody tr th {\n",
       "        vertical-align: top;\n",
       "    }\n",
       "\n",
       "    .dataframe thead th {\n",
       "        text-align: right;\n",
       "    }\n",
       "</style>\n",
       "<table border=\"1\" class=\"dataframe\">\n",
       "  <thead>\n",
       "    <tr style=\"text-align: right;\">\n",
       "      <th></th>\n",
       "      <th>title</th>\n",
       "      <th>summary</th>\n",
       "      <th>link</th>\n",
       "      <th>published</th>\n",
       "    </tr>\n",
       "  </thead>\n",
       "  <tbody>\n",
       "    <tr>\n",
       "      <th>0</th>\n",
       "      <td>เซียนพนันไก่ชนกระเจิง โดนล้อมจับ พบเปิดเล่นเย้...</td>\n",
       "      <td>เซียนไก่ชนกระเจิง สืบภาค 8 พร้อมสืบ ภ.จว.สุราษ...</td>\n",
       "      <td>https://www.thairath.co.th/news/local/south/22...</td>\n",
       "      <td>Sun, 26 Sep 2021 20:36:00 +0700</td>\n",
       "    </tr>\n",
       "    <tr>\n",
       "      <th>1</th>\n",
       "      <td>&amp;quot;ปิยบุตร&amp;quot; มาแล้ว อ้าง “ทะลุแก๊ซ” แยก...</td>\n",
       "      <td>ปิยบุตร แสงกนกกุล แกนนำคณะก้าวหน้า บอก จับตา “...</td>\n",
       "      <td>https://www.thairath.co.th/news/politic/2203708</td>\n",
       "      <td>Sun, 26 Sep 2021 20:15:00 +0700</td>\n",
       "    </tr>\n",
       "    <tr>\n",
       "      <th>2</th>\n",
       "      <td>ชวดขึ้นจ่าฝูง สมุทรปราการจบไม่คม ได้แค่เจ๊าโปล...</td>\n",
       "      <td>&amp;quot;เขี้ยวสมุทร&amp;quot; พลาดโอกาสแซงฉลามชลขึ้น...</td>\n",
       "      <td>https://www.thairath.co.th/sport/thaifootball/...</td>\n",
       "      <td>Sun, 26 Sep 2021 20:10:00 +0700</td>\n",
       "    </tr>\n",
       "    <tr>\n",
       "      <th>3</th>\n",
       "      <td>ผู้ชุมนุมกระจายตัวแยกดินแดง &amp;quot;ยิงพลุ-ปาประ...</td>\n",
       "      <td>ผู้ชุมนุมยังกระจายตัวแยกดินแดง ยิงพลุ-ปาประทัด...</td>\n",
       "      <td>https://www.thairath.co.th/news/politic/2203705</td>\n",
       "      <td>Sun, 26 Sep 2021 20:01:00 +0700</td>\n",
       "    </tr>\n",
       "    <tr>\n",
       "      <th>4</th>\n",
       "      <td>ศูนย์พันธุ์ข้าวอุดรฯ แนะเกษตรกรใช้เทคโนโลยีช่ว...</td>\n",
       "      <td>ศูนย์เมล็ดพันธุ์ข้าวอุดรธานี ส่งเสริมเกษตรกรแป...</td>\n",
       "      <td>https://www.thairath.co.th/news/local/northeas...</td>\n",
       "      <td>Sun, 26 Sep 2021 20:00:00 +0700</td>\n",
       "    </tr>\n",
       "    <tr>\n",
       "      <th>...</th>\n",
       "      <td>...</td>\n",
       "      <td>...</td>\n",
       "      <td>...</td>\n",
       "      <td>...</td>\n",
       "    </tr>\n",
       "    <tr>\n",
       "      <th>500</th>\n",
       "      <td>ศธ.ขอบคุณกลุ่มปฏิวัติการศึกษา พร้อมฟังเสียงเยาวชน</td>\n",
       "      <td>น.ส.ตรีนุช เทียนทอง รมว.ศึกษาธิการ กล่าวถึงข้อ...</td>\n",
       "      <td>https://www.thairath.co.th/news/local/2211061</td>\n",
       "      <td>Tue, 05 Oct 2021 07:15:00 +0700</td>\n",
       "    </tr>\n",
       "    <tr>\n",
       "      <th>501</th>\n",
       "      <td>การศึกษาไทยเรียนแบบผสมผสานได้ผลสูงสุด</td>\n",
       "      <td>การสอนระบบออนไลน์ส่งผลกระทบต่อนักเรียน ผู้ปกคร...</td>\n",
       "      <td>https://www.thairath.co.th/news/local/2211052</td>\n",
       "      <td>Tue, 05 Oct 2021 07:10:00 +0700</td>\n",
       "    </tr>\n",
       "    <tr>\n",
       "      <th>502</th>\n",
       "      <td>โยกย้ายผู้อำนวยการเขต ผู้ว่าฯอัศวินลงนามอีก 18...</td>\n",
       "      <td>พล.ต.อ.อัศวิน ขวัญเมือง ผู้ว่าฯ กทม. ได้ลงนามใ...</td>\n",
       "      <td>https://www.thairath.co.th/news/local/bangkok/...</td>\n",
       "      <td>Tue, 05 Oct 2021 07:05:00 +0700</td>\n",
       "    </tr>\n",
       "    <tr>\n",
       "      <th>503</th>\n",
       "      <td>วธ.ประกาศ 11 หนังไทยมรดกภาพยนตร์ชาติ จัดฉายเดื...</td>\n",
       "      <td>นายอิทธิพล คุณปลื้ม รมว.วัฒนธรรม แถลงข่าว ประก...</td>\n",
       "      <td>https://www.thairath.co.th/news/local/2211042</td>\n",
       "      <td>Tue, 05 Oct 2021 07:05:00 +0700</td>\n",
       "    </tr>\n",
       "    <tr>\n",
       "      <th>504</th>\n",
       "      <td>ครั้งแรกในชีวิต “เจี๊ยบ พิจิตตรา” เล่าโมเมนต์ร...</td>\n",
       "      <td>เข้าอกเข้าใจความเดือดร้อนของ “ชาวบ้าน” จากสถาน...</td>\n",
       "      <td>https://www.thairath.co.th/entertain/news/2210656</td>\n",
       "      <td>Tue, 05 Oct 2021 07:01:00 +0700</td>\n",
       "    </tr>\n",
       "  </tbody>\n",
       "</table>\n",
       "<p>505 rows × 4 columns</p>\n",
       "</div>"
      ],
      "text/plain": [
       "                                                 title  \\\n",
       "0    เซียนพนันไก่ชนกระเจิง โดนล้อมจับ พบเปิดเล่นเย้...   \n",
       "1    &quot;ปิยบุตร&quot; มาแล้ว อ้าง “ทะลุแก๊ซ” แยก...   \n",
       "2    ชวดขึ้นจ่าฝูง สมุทรปราการจบไม่คม ได้แค่เจ๊าโปล...   \n",
       "3    ผู้ชุมนุมกระจายตัวแยกดินแดง &quot;ยิงพลุ-ปาประ...   \n",
       "4    ศูนย์พันธุ์ข้าวอุดรฯ แนะเกษตรกรใช้เทคโนโลยีช่ว...   \n",
       "..                                                 ...   \n",
       "500  ศธ.ขอบคุณกลุ่มปฏิวัติการศึกษา พร้อมฟังเสียงเยาวชน   \n",
       "501              การศึกษาไทยเรียนแบบผสมผสานได้ผลสูงสุด   \n",
       "502  โยกย้ายผู้อำนวยการเขต ผู้ว่าฯอัศวินลงนามอีก 18...   \n",
       "503  วธ.ประกาศ 11 หนังไทยมรดกภาพยนตร์ชาติ จัดฉายเดื...   \n",
       "504  ครั้งแรกในชีวิต “เจี๊ยบ พิจิตตรา” เล่าโมเมนต์ร...   \n",
       "\n",
       "                                               summary  \\\n",
       "0    เซียนไก่ชนกระเจิง สืบภาค 8 พร้อมสืบ ภ.จว.สุราษ...   \n",
       "1    ปิยบุตร แสงกนกกุล แกนนำคณะก้าวหน้า บอก จับตา “...   \n",
       "2    &quot;เขี้ยวสมุทร&quot; พลาดโอกาสแซงฉลามชลขึ้น...   \n",
       "3    ผู้ชุมนุมยังกระจายตัวแยกดินแดง ยิงพลุ-ปาประทัด...   \n",
       "4    ศูนย์เมล็ดพันธุ์ข้าวอุดรธานี ส่งเสริมเกษตรกรแป...   \n",
       "..                                                 ...   \n",
       "500  น.ส.ตรีนุช เทียนทอง รมว.ศึกษาธิการ กล่าวถึงข้อ...   \n",
       "501  การสอนระบบออนไลน์ส่งผลกระทบต่อนักเรียน ผู้ปกคร...   \n",
       "502  พล.ต.อ.อัศวิน ขวัญเมือง ผู้ว่าฯ กทม. ได้ลงนามใ...   \n",
       "503  นายอิทธิพล คุณปลื้ม รมว.วัฒนธรรม แถลงข่าว ประก...   \n",
       "504  เข้าอกเข้าใจความเดือดร้อนของ “ชาวบ้าน” จากสถาน...   \n",
       "\n",
       "                                                  link  \\\n",
       "0    https://www.thairath.co.th/news/local/south/22...   \n",
       "1      https://www.thairath.co.th/news/politic/2203708   \n",
       "2    https://www.thairath.co.th/sport/thaifootball/...   \n",
       "3      https://www.thairath.co.th/news/politic/2203705   \n",
       "4    https://www.thairath.co.th/news/local/northeas...   \n",
       "..                                                 ...   \n",
       "500      https://www.thairath.co.th/news/local/2211061   \n",
       "501      https://www.thairath.co.th/news/local/2211052   \n",
       "502  https://www.thairath.co.th/news/local/bangkok/...   \n",
       "503      https://www.thairath.co.th/news/local/2211042   \n",
       "504  https://www.thairath.co.th/entertain/news/2210656   \n",
       "\n",
       "                           published  \n",
       "0    Sun, 26 Sep 2021 20:36:00 +0700  \n",
       "1    Sun, 26 Sep 2021 20:15:00 +0700  \n",
       "2    Sun, 26 Sep 2021 20:10:00 +0700  \n",
       "3    Sun, 26 Sep 2021 20:01:00 +0700  \n",
       "4    Sun, 26 Sep 2021 20:00:00 +0700  \n",
       "..                               ...  \n",
       "500  Tue, 05 Oct 2021 07:15:00 +0700  \n",
       "501  Tue, 05 Oct 2021 07:10:00 +0700  \n",
       "502  Tue, 05 Oct 2021 07:05:00 +0700  \n",
       "503  Tue, 05 Oct 2021 07:05:00 +0700  \n",
       "504  Tue, 05 Oct 2021 07:01:00 +0700  \n",
       "\n",
       "[505 rows x 4 columns]"
      ]
     },
     "metadata": {},
     "execution_count": 2
    }
   ],
   "metadata": {}
  },
  {
   "cell_type": "code",
   "execution_count": 3,
   "source": [
    "df.drop_duplicates(inplace=True)\r\n",
    "df"
   ],
   "outputs": [
    {
     "output_type": "execute_result",
     "data": {
      "text/html": [
       "<div>\n",
       "<style scoped>\n",
       "    .dataframe tbody tr th:only-of-type {\n",
       "        vertical-align: middle;\n",
       "    }\n",
       "\n",
       "    .dataframe tbody tr th {\n",
       "        vertical-align: top;\n",
       "    }\n",
       "\n",
       "    .dataframe thead th {\n",
       "        text-align: right;\n",
       "    }\n",
       "</style>\n",
       "<table border=\"1\" class=\"dataframe\">\n",
       "  <thead>\n",
       "    <tr style=\"text-align: right;\">\n",
       "      <th></th>\n",
       "      <th>title</th>\n",
       "      <th>summary</th>\n",
       "      <th>link</th>\n",
       "      <th>published</th>\n",
       "    </tr>\n",
       "  </thead>\n",
       "  <tbody>\n",
       "    <tr>\n",
       "      <th>0</th>\n",
       "      <td>เซียนพนันไก่ชนกระเจิง โดนล้อมจับ พบเปิดเล่นเย้...</td>\n",
       "      <td>เซียนไก่ชนกระเจิง สืบภาค 8 พร้อมสืบ ภ.จว.สุราษ...</td>\n",
       "      <td>https://www.thairath.co.th/news/local/south/22...</td>\n",
       "      <td>Sun, 26 Sep 2021 20:36:00 +0700</td>\n",
       "    </tr>\n",
       "    <tr>\n",
       "      <th>1</th>\n",
       "      <td>&amp;quot;ปิยบุตร&amp;quot; มาแล้ว อ้าง “ทะลุแก๊ซ” แยก...</td>\n",
       "      <td>ปิยบุตร แสงกนกกุล แกนนำคณะก้าวหน้า บอก จับตา “...</td>\n",
       "      <td>https://www.thairath.co.th/news/politic/2203708</td>\n",
       "      <td>Sun, 26 Sep 2021 20:15:00 +0700</td>\n",
       "    </tr>\n",
       "    <tr>\n",
       "      <th>2</th>\n",
       "      <td>ชวดขึ้นจ่าฝูง สมุทรปราการจบไม่คม ได้แค่เจ๊าโปล...</td>\n",
       "      <td>&amp;quot;เขี้ยวสมุทร&amp;quot; พลาดโอกาสแซงฉลามชลขึ้น...</td>\n",
       "      <td>https://www.thairath.co.th/sport/thaifootball/...</td>\n",
       "      <td>Sun, 26 Sep 2021 20:10:00 +0700</td>\n",
       "    </tr>\n",
       "    <tr>\n",
       "      <th>3</th>\n",
       "      <td>ผู้ชุมนุมกระจายตัวแยกดินแดง &amp;quot;ยิงพลุ-ปาประ...</td>\n",
       "      <td>ผู้ชุมนุมยังกระจายตัวแยกดินแดง ยิงพลุ-ปาประทัด...</td>\n",
       "      <td>https://www.thairath.co.th/news/politic/2203705</td>\n",
       "      <td>Sun, 26 Sep 2021 20:01:00 +0700</td>\n",
       "    </tr>\n",
       "    <tr>\n",
       "      <th>4</th>\n",
       "      <td>ศูนย์พันธุ์ข้าวอุดรฯ แนะเกษตรกรใช้เทคโนโลยีช่ว...</td>\n",
       "      <td>ศูนย์เมล็ดพันธุ์ข้าวอุดรธานี ส่งเสริมเกษตรกรแป...</td>\n",
       "      <td>https://www.thairath.co.th/news/local/northeas...</td>\n",
       "      <td>Sun, 26 Sep 2021 20:00:00 +0700</td>\n",
       "    </tr>\n",
       "    <tr>\n",
       "      <th>...</th>\n",
       "      <td>...</td>\n",
       "      <td>...</td>\n",
       "      <td>...</td>\n",
       "      <td>...</td>\n",
       "    </tr>\n",
       "    <tr>\n",
       "      <th>500</th>\n",
       "      <td>ศธ.ขอบคุณกลุ่มปฏิวัติการศึกษา พร้อมฟังเสียงเยาวชน</td>\n",
       "      <td>น.ส.ตรีนุช เทียนทอง รมว.ศึกษาธิการ กล่าวถึงข้อ...</td>\n",
       "      <td>https://www.thairath.co.th/news/local/2211061</td>\n",
       "      <td>Tue, 05 Oct 2021 07:15:00 +0700</td>\n",
       "    </tr>\n",
       "    <tr>\n",
       "      <th>501</th>\n",
       "      <td>การศึกษาไทยเรียนแบบผสมผสานได้ผลสูงสุด</td>\n",
       "      <td>การสอนระบบออนไลน์ส่งผลกระทบต่อนักเรียน ผู้ปกคร...</td>\n",
       "      <td>https://www.thairath.co.th/news/local/2211052</td>\n",
       "      <td>Tue, 05 Oct 2021 07:10:00 +0700</td>\n",
       "    </tr>\n",
       "    <tr>\n",
       "      <th>502</th>\n",
       "      <td>โยกย้ายผู้อำนวยการเขต ผู้ว่าฯอัศวินลงนามอีก 18...</td>\n",
       "      <td>พล.ต.อ.อัศวิน ขวัญเมือง ผู้ว่าฯ กทม. ได้ลงนามใ...</td>\n",
       "      <td>https://www.thairath.co.th/news/local/bangkok/...</td>\n",
       "      <td>Tue, 05 Oct 2021 07:05:00 +0700</td>\n",
       "    </tr>\n",
       "    <tr>\n",
       "      <th>503</th>\n",
       "      <td>วธ.ประกาศ 11 หนังไทยมรดกภาพยนตร์ชาติ จัดฉายเดื...</td>\n",
       "      <td>นายอิทธิพล คุณปลื้ม รมว.วัฒนธรรม แถลงข่าว ประก...</td>\n",
       "      <td>https://www.thairath.co.th/news/local/2211042</td>\n",
       "      <td>Tue, 05 Oct 2021 07:05:00 +0700</td>\n",
       "    </tr>\n",
       "    <tr>\n",
       "      <th>504</th>\n",
       "      <td>ครั้งแรกในชีวิต “เจี๊ยบ พิจิตตรา” เล่าโมเมนต์ร...</td>\n",
       "      <td>เข้าอกเข้าใจความเดือดร้อนของ “ชาวบ้าน” จากสถาน...</td>\n",
       "      <td>https://www.thairath.co.th/entertain/news/2210656</td>\n",
       "      <td>Tue, 05 Oct 2021 07:01:00 +0700</td>\n",
       "    </tr>\n",
       "  </tbody>\n",
       "</table>\n",
       "<p>357 rows × 4 columns</p>\n",
       "</div>"
      ],
      "text/plain": [
       "                                                 title  \\\n",
       "0    เซียนพนันไก่ชนกระเจิง โดนล้อมจับ พบเปิดเล่นเย้...   \n",
       "1    &quot;ปิยบุตร&quot; มาแล้ว อ้าง “ทะลุแก๊ซ” แยก...   \n",
       "2    ชวดขึ้นจ่าฝูง สมุทรปราการจบไม่คม ได้แค่เจ๊าโปล...   \n",
       "3    ผู้ชุมนุมกระจายตัวแยกดินแดง &quot;ยิงพลุ-ปาประ...   \n",
       "4    ศูนย์พันธุ์ข้าวอุดรฯ แนะเกษตรกรใช้เทคโนโลยีช่ว...   \n",
       "..                                                 ...   \n",
       "500  ศธ.ขอบคุณกลุ่มปฏิวัติการศึกษา พร้อมฟังเสียงเยาวชน   \n",
       "501              การศึกษาไทยเรียนแบบผสมผสานได้ผลสูงสุด   \n",
       "502  โยกย้ายผู้อำนวยการเขต ผู้ว่าฯอัศวินลงนามอีก 18...   \n",
       "503  วธ.ประกาศ 11 หนังไทยมรดกภาพยนตร์ชาติ จัดฉายเดื...   \n",
       "504  ครั้งแรกในชีวิต “เจี๊ยบ พิจิตตรา” เล่าโมเมนต์ร...   \n",
       "\n",
       "                                               summary  \\\n",
       "0    เซียนไก่ชนกระเจิง สืบภาค 8 พร้อมสืบ ภ.จว.สุราษ...   \n",
       "1    ปิยบุตร แสงกนกกุล แกนนำคณะก้าวหน้า บอก จับตา “...   \n",
       "2    &quot;เขี้ยวสมุทร&quot; พลาดโอกาสแซงฉลามชลขึ้น...   \n",
       "3    ผู้ชุมนุมยังกระจายตัวแยกดินแดง ยิงพลุ-ปาประทัด...   \n",
       "4    ศูนย์เมล็ดพันธุ์ข้าวอุดรธานี ส่งเสริมเกษตรกรแป...   \n",
       "..                                                 ...   \n",
       "500  น.ส.ตรีนุช เทียนทอง รมว.ศึกษาธิการ กล่าวถึงข้อ...   \n",
       "501  การสอนระบบออนไลน์ส่งผลกระทบต่อนักเรียน ผู้ปกคร...   \n",
       "502  พล.ต.อ.อัศวิน ขวัญเมือง ผู้ว่าฯ กทม. ได้ลงนามใ...   \n",
       "503  นายอิทธิพล คุณปลื้ม รมว.วัฒนธรรม แถลงข่าว ประก...   \n",
       "504  เข้าอกเข้าใจความเดือดร้อนของ “ชาวบ้าน” จากสถาน...   \n",
       "\n",
       "                                                  link  \\\n",
       "0    https://www.thairath.co.th/news/local/south/22...   \n",
       "1      https://www.thairath.co.th/news/politic/2203708   \n",
       "2    https://www.thairath.co.th/sport/thaifootball/...   \n",
       "3      https://www.thairath.co.th/news/politic/2203705   \n",
       "4    https://www.thairath.co.th/news/local/northeas...   \n",
       "..                                                 ...   \n",
       "500      https://www.thairath.co.th/news/local/2211061   \n",
       "501      https://www.thairath.co.th/news/local/2211052   \n",
       "502  https://www.thairath.co.th/news/local/bangkok/...   \n",
       "503      https://www.thairath.co.th/news/local/2211042   \n",
       "504  https://www.thairath.co.th/entertain/news/2210656   \n",
       "\n",
       "                           published  \n",
       "0    Sun, 26 Sep 2021 20:36:00 +0700  \n",
       "1    Sun, 26 Sep 2021 20:15:00 +0700  \n",
       "2    Sun, 26 Sep 2021 20:10:00 +0700  \n",
       "3    Sun, 26 Sep 2021 20:01:00 +0700  \n",
       "4    Sun, 26 Sep 2021 20:00:00 +0700  \n",
       "..                               ...  \n",
       "500  Tue, 05 Oct 2021 07:15:00 +0700  \n",
       "501  Tue, 05 Oct 2021 07:10:00 +0700  \n",
       "502  Tue, 05 Oct 2021 07:05:00 +0700  \n",
       "503  Tue, 05 Oct 2021 07:05:00 +0700  \n",
       "504  Tue, 05 Oct 2021 07:01:00 +0700  \n",
       "\n",
       "[357 rows x 4 columns]"
      ]
     },
     "metadata": {},
     "execution_count": 3
    }
   ],
   "metadata": {}
  },
  {
   "cell_type": "code",
   "execution_count": 4,
   "source": [
    "NEWMM = \"newmm\"\r\n",
    "ATTACUT = \"attacut\"\r\n",
    "list_column = df.columns.values.tolist()\r\n",
    "columnName = list_column[1]\r\n",
    "\r\n",
    "def word_break(news,engine):\r\n",
    "    segment = tokenize(news,keep_whitespace=False,engine=engine)\r\n",
    "    return segment"
   ],
   "outputs": [],
   "metadata": {}
  },
  {
   "cell_type": "markdown",
   "source": [
    "## Word Break Example"
   ],
   "metadata": {}
  },
  {
   "cell_type": "code",
   "execution_count": 5,
   "source": [
    "text = df[\"summary\"].iloc[2]\r\n",
    "print(text)\r\n",
    "print(\"ATTACUT : \" + \" | \".join(word_break(text,ATTACUT)))\r\n",
    "print(\"NEWMM : \" + \" | \".join(word_break(text,NEWMM)))"
   ],
   "outputs": [
    {
     "output_type": "stream",
     "name": "stdout",
     "text": [
      "&quot;เขี้ยวสมุทร&quot; พลาดโอกาสแซงฉลามชลขึ้นไปยึดจ่าฝูงไทยลีก หลังทำได้เพียงแค่บุกไปแชร์แต้มจากมังกรโล่เงินเท่านั้น ในเกมนัดล่าสุด\n",
      "ATTACUT : & | quot | ; | เขี้ยวสมุทร&quot | ; | พลาด | โอกาส | แซง | ฉลามชล | ขึ้น | ไป | ยึด | จ่า | ฝูง | ไทย | ลีก | หลัง | ทำ | ได้ | เพียง | แค่ | บุก | ไป | แชร์ | แต้ม | จาก | มังกรโล่ | เงิน | เท่า | นั้น | ใน | เกม | นัด | ล่าสุด\n",
      "NEWMM : & | quot | ; | เขี้ยว | สมุทร | & | quot | ; | พลาดโอกาส | แซง | ฉลาม | ชล | ขึ้นไป | ยึด | จ่าฝูง | ไทย | ลีก | หลัง | ทำได้ | เพียงแค่ | บุก | ไป | แชร์ | แต้ม | จาก | มังกร | โล่ | เงิน | เท่านั้น | ใน | เกม | นัด | ล่าสุด\n"
     ]
    }
   ],
   "metadata": {}
  },
  {
   "cell_type": "code",
   "execution_count": 7,
   "source": [
    "text_file = open(\"../asset/Dict/lexitron.txt\", \"r\",encoding=\"utf-8\")\r\n",
    "content = text_file.read()\r\n",
    "dict_lexitron = content.split(\"\\n\")\r\n",
    "text_file.close()\r\n",
    "len(dict_lexitron)"
   ],
   "outputs": [
    {
     "output_type": "execute_result",
     "data": {
      "text/plain": [
       "42221"
      ]
     },
     "metadata": {},
     "execution_count": 7
    }
   ],
   "metadata": {}
  },
  {
   "cell_type": "code",
   "execution_count": 9,
   "source": [
    "text_file = open(\"../asset/Dict/remove_alien_3.txt\", \"r\",encoding=\"utf-8\")\r\n",
    "content = text_file.read()\r\n",
    "dict_thai2vec = content.split(\"\\n\")\r\n",
    "text_file.close()\r\n",
    "len(dict_thai2vec)"
   ],
   "outputs": [
    {
     "output_type": "execute_result",
     "data": {
      "text/plain": [
       "33333"
      ]
     },
     "metadata": {},
     "execution_count": 9
    }
   ],
   "metadata": {}
  },
  {
   "cell_type": "code",
   "execution_count": 10,
   "source": [
    "newmmWB = []\r\n",
    "attacutWB = []"
   ],
   "outputs": [],
   "metadata": {}
  },
  {
   "cell_type": "code",
   "execution_count": 11,
   "source": [
    "def cumulate_wb(df_news,engine):\r\n",
    "  all = set()\r\n",
    "  for i in tqdm(range(len(df_news))):\r\n",
    "    all = all.union(set(word_break(df_news.iloc[i][columnName],engine)))\r\n",
    "  mylist = list(all)\r\n",
    "  mylist = [word for word in mylist if isthai(word,ignore_chars='.()-')]\r\n",
    "  return mylist"
   ],
   "outputs": [],
   "metadata": {}
  },
  {
   "cell_type": "code",
   "execution_count": 12,
   "source": [
    "def accuracy(df_news,engine,dict_list):\r\n",
    "  result = cumulate_wb(df_news,engine)\r\n",
    "  amount = len(result)\r\n",
    "  inDict = [word for word in result if word in dict_list]\r\n",
    "  isThai = len(inDict)\r\n",
    "  print('\\n')\r\n",
    "  print(str(engine) + ' accuracy : ' + str(round((isThai / amount)*100,3)))\r\n",
    "  return result"
   ],
   "outputs": [],
   "metadata": {}
  },
  {
   "cell_type": "code",
   "execution_count": 13,
   "source": [
    "newmmWB = accuracy(df,\"newmm\",dict_lexitron)"
   ],
   "outputs": [
    {
     "output_type": "stream",
     "name": "stderr",
     "text": [
      "100%|██████████| 357/357 [00:00<00:00, 1598.87it/s]\n"
     ]
    },
    {
     "output_type": "stream",
     "name": "stdout",
     "text": [
      "\n",
      "\n",
      "newmm accuracy : 90.138\n"
     ]
    }
   ],
   "metadata": {}
  },
  {
   "cell_type": "code",
   "execution_count": 14,
   "source": [
    "len(newmmWB)"
   ],
   "outputs": [
    {
     "output_type": "execute_result",
     "data": {
      "text/plain": [
       "3336"
      ]
     },
     "metadata": {},
     "execution_count": 14
    }
   ],
   "metadata": {}
  },
  {
   "cell_type": "code",
   "execution_count": 15,
   "source": [
    "attacutWB = accuracy(df,\"attacut\",dict_lexitron)"
   ],
   "outputs": [
    {
     "output_type": "stream",
     "name": "stderr",
     "text": [
      "100%|██████████| 357/357 [00:05<00:00, 62.29it/s]\n"
     ]
    },
    {
     "output_type": "stream",
     "name": "stdout",
     "text": [
      "\n",
      "\n",
      "attacut accuracy : 77.31\n"
     ]
    }
   ],
   "metadata": {}
  },
  {
   "cell_type": "code",
   "execution_count": 16,
   "source": [
    "len(attacutWB)"
   ],
   "outputs": [
    {
     "output_type": "execute_result",
     "data": {
      "text/plain": [
       "2565"
      ]
     },
     "metadata": {},
     "execution_count": 16
    }
   ],
   "metadata": {}
  },
  {
   "cell_type": "code",
   "execution_count": null,
   "source": [],
   "outputs": [],
   "metadata": {}
  }
 ],
 "metadata": {
  "orig_nbformat": 4,
  "language_info": {
   "name": "python",
   "version": "3.7.9",
   "mimetype": "text/x-python",
   "codemirror_mode": {
    "name": "ipython",
    "version": 3
   },
   "pygments_lexer": "ipython3",
   "nbconvert_exporter": "python",
   "file_extension": ".py"
  },
  "kernelspec": {
   "name": "python3",
   "display_name": "Python 3.7.9 64-bit"
  },
  "interpreter": {
   "hash": "79e31fca8912b52a24e38fd1bb3098dbc875f72cd4b82e079863a26457044337"
  }
 },
 "nbformat": 4,
 "nbformat_minor": 2
}
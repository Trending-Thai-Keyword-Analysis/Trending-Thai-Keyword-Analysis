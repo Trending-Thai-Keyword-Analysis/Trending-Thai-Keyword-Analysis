{
 "cells": [
  {
   "cell_type": "markdown",
   "source": [
    "# Word Break Notebook"
   ],
   "metadata": {}
  },
  {
   "cell_type": "code",
   "execution_count": 14,
   "source": [
    "## PyThaiNLP\r\n",
    "import pandas as pd\r\n",
    "from pythainlp import word_tokenize as tokenize\r\n",
    "from pythainlp.util import *\r\n",
    "from tqdm.auto import tqdm\r\n",
    "tqdm.pandas()"
   ],
   "outputs": [
    {
     "output_type": "stream",
     "name": "stderr",
     "text": [
      "C:\\Users\\Alps\\anaconda3\\lib\\site-packages\\tqdm\\std.py:697: FutureWarning: The Panel class is removed from pandas. Accessing it from the top-level namespace will also be removed in the next version\n",
      "  from pandas import Panel\n"
     ]
    }
   ],
   "metadata": {}
  },
  {
   "cell_type": "markdown",
   "source": [
    "## Read DataFrame"
   ],
   "metadata": {}
  },
  {
   "cell_type": "code",
   "execution_count": 15,
   "source": [
    "df = pd.read_csv(\"../Data/ThaiRath.csv\")\r\n",
    "df"
   ],
   "outputs": [
    {
     "output_type": "execute_result",
     "data": {
      "text/html": [
       "<div>\n",
       "<style scoped>\n",
       "    .dataframe tbody tr th:only-of-type {\n",
       "        vertical-align: middle;\n",
       "    }\n",
       "\n",
       "    .dataframe tbody tr th {\n",
       "        vertical-align: top;\n",
       "    }\n",
       "\n",
       "    .dataframe thead th {\n",
       "        text-align: right;\n",
       "    }\n",
       "</style>\n",
       "<table border=\"1\" class=\"dataframe\">\n",
       "  <thead>\n",
       "    <tr style=\"text-align: right;\">\n",
       "      <th></th>\n",
       "      <th>title</th>\n",
       "      <th>summary</th>\n",
       "      <th>link</th>\n",
       "      <th>published</th>\n",
       "    </tr>\n",
       "  </thead>\n",
       "  <tbody>\n",
       "    <tr>\n",
       "      <th>0</th>\n",
       "      <td>โรนัลโดเงิบ &amp;quot;ชากา&amp;quot; ซดโค้กก่อน สวิตเซ...</td>\n",
       "      <td>กัปตันทีมชาติสวิตเซอร์แลนด์ ทำเอากัปตันทีมชาติ...</td>\n",
       "      <td>https://www.thairath.co.th/sport/eurofootball/...</td>\n",
       "      <td>Tue, 29 Jun 2021 10:05:00 +0700</td>\n",
       "    </tr>\n",
       "    <tr>\n",
       "      <th>1</th>\n",
       "      <td>สันนิษฐานดาวศุกร์ยังคงขับเคลื่อนกิจกรรมในทางธร...</td>\n",
       "      <td>นักวิทยาศาสตร์สันนิษฐานว่าดาวศุกร์มีเปลือกนอกแ...</td>\n",
       "      <td>https://www.thairath.co.th/lifestyle/life/2126940</td>\n",
       "      <td>Tue, 29 Jun 2021 10:01:00 +0700</td>\n",
       "    </tr>\n",
       "    <tr>\n",
       "      <th>2</th>\n",
       "      <td>ฟอร์จูนเนอร์ โคโรลล่า ครอส ตัวดันยอดพี่โต! สรุ...</td>\n",
       "      <td>ยอดขายรถยนต์ในประเทศไทย ประจำเดือนพฤษภาคม 64 ย...</td>\n",
       "      <td>https://www.thairath.co.th/news/auto/news/2127156</td>\n",
       "      <td>Tue, 29 Jun 2021 10:00:00 +0700</td>\n",
       "    </tr>\n",
       "    <tr>\n",
       "      <th>3</th>\n",
       "      <td>ราคาทองวันนี้ 29/6/64 ล่าสุด เปิดตลาดเช้าวันอั...</td>\n",
       "      <td>&amp;quot;ราคาทองวันนี้&amp;quot; เปิดตลาดเช้าวันอังคา...</td>\n",
       "      <td>https://www.thairath.co.th/business/investment...</td>\n",
       "      <td>Tue, 29 Jun 2021 09:35:00 +0700</td>\n",
       "    </tr>\n",
       "    <tr>\n",
       "      <th>4</th>\n",
       "      <td>เผยภาพล่าสุด &amp;quot;คิม จอง อึน&amp;quot; ผ่ายผอมลง...</td>\n",
       "      <td>ทีวีเกาหลีเหนือเผยภาพล่าสุด &amp;quot;คิม จอง อึน&amp;...</td>\n",
       "      <td>https://www.thairath.co.th/news/foreign/2127271</td>\n",
       "      <td>Tue, 29 Jun 2021 09:32:47 +0700</td>\n",
       "    </tr>\n",
       "    <tr>\n",
       "      <th>...</th>\n",
       "      <td>...</td>\n",
       "      <td>...</td>\n",
       "      <td>...</td>\n",
       "      <td>...</td>\n",
       "    </tr>\n",
       "    <tr>\n",
       "      <th>384</th>\n",
       "      <td>FORD เปิดตัวกระบะรุ่นพิเศษ RANGER XL STREET SP...</td>\n",
       "      <td>Ford Ranger XL Street Special Edition กระบะรุ่...</td>\n",
       "      <td>https://www.thairath.co.th/news/auto/news/2132445</td>\n",
       "      <td>Mon, 05 Jul 2021 14:00:00 +0700</td>\n",
       "    </tr>\n",
       "    <tr>\n",
       "      <th>385</th>\n",
       "      <td>จัดการกับ ‘ความรู้สึกผิดต่อลูก’ ในแต่ละวัน ปมท...</td>\n",
       "      <td>มนุษย์แม่คงเคยมีความรู้สึกผิดต่อลูก เมื่อรู้สึ...</td>\n",
       "      <td>https://www.thairath.co.th/lifestyle/mom-and-k...</td>\n",
       "      <td>Mon, 05 Jul 2021 13:52:38 +0700</td>\n",
       "    </tr>\n",
       "    <tr>\n",
       "      <th>386</th>\n",
       "      <td>อธิบดีกรมควบคุมโรค แจงปมเอกสารประชุมค้านไฟเซอร...</td>\n",
       "      <td>อธิบดีกรมควบคุมโรค เผยปมเอกสารประชุมวิชาการ 3 ...</td>\n",
       "      <td>https://www.thairath.co.th/news/local/2132817</td>\n",
       "      <td>Mon, 05 Jul 2021 14:16:00 +0700</td>\n",
       "    </tr>\n",
       "    <tr>\n",
       "      <th>387</th>\n",
       "      <td>ปะทะเดือดสายบุรี โจรใต้เหิมสู้ ทหารล้อมจับแกนน...</td>\n",
       "      <td>โจรใต้เหิมปะทะเดือดทหาร ตำรวจ หลัง จนท.เข้าทำก...</td>\n",
       "      <td>https://www.thairath.co.th/news/local/south/21...</td>\n",
       "      <td>Mon, 05 Jul 2021 14:06:00 +0700</td>\n",
       "    </tr>\n",
       "    <tr>\n",
       "      <th>388</th>\n",
       "      <td>ณวัฒน์ ซัดแรงไม่ชอบคนหน้าไหว้หลังหลอก ยังรอแทค...</td>\n",
       "      <td>ณวัฒน์ ซัดแรงไม่ชอบคนหน้าไหว้หลังหลอก ยังรอแทค...</td>\n",
       "      <td>https://www.thairath.co.th/entertain/news/2132725</td>\n",
       "      <td>Mon, 05 Jul 2021 13:30:00 +0700</td>\n",
       "    </tr>\n",
       "  </tbody>\n",
       "</table>\n",
       "<p>389 rows × 4 columns</p>\n",
       "</div>"
      ],
      "text/plain": [
       "                                                 title  \\\n",
       "0    โรนัลโดเงิบ &quot;ชากา&quot; ซดโค้กก่อน สวิตเซ...   \n",
       "1    สันนิษฐานดาวศุกร์ยังคงขับเคลื่อนกิจกรรมในทางธร...   \n",
       "2    ฟอร์จูนเนอร์ โคโรลล่า ครอส ตัวดันยอดพี่โต! สรุ...   \n",
       "3    ราคาทองวันนี้ 29/6/64 ล่าสุด เปิดตลาดเช้าวันอั...   \n",
       "4    เผยภาพล่าสุด &quot;คิม จอง อึน&quot; ผ่ายผอมลง...   \n",
       "..                                                 ...   \n",
       "384  FORD เปิดตัวกระบะรุ่นพิเศษ RANGER XL STREET SP...   \n",
       "385  จัดการกับ ‘ความรู้สึกผิดต่อลูก’ ในแต่ละวัน ปมท...   \n",
       "386  อธิบดีกรมควบคุมโรค แจงปมเอกสารประชุมค้านไฟเซอร...   \n",
       "387  ปะทะเดือดสายบุรี โจรใต้เหิมสู้ ทหารล้อมจับแกนน...   \n",
       "388  ณวัฒน์ ซัดแรงไม่ชอบคนหน้าไหว้หลังหลอก ยังรอแทค...   \n",
       "\n",
       "                                               summary  \\\n",
       "0    กัปตันทีมชาติสวิตเซอร์แลนด์ ทำเอากัปตันทีมชาติ...   \n",
       "1    นักวิทยาศาสตร์สันนิษฐานว่าดาวศุกร์มีเปลือกนอกแ...   \n",
       "2    ยอดขายรถยนต์ในประเทศไทย ประจำเดือนพฤษภาคม 64 ย...   \n",
       "3    &quot;ราคาทองวันนี้&quot; เปิดตลาดเช้าวันอังคา...   \n",
       "4    ทีวีเกาหลีเหนือเผยภาพล่าสุด &quot;คิม จอง อึน&...   \n",
       "..                                                 ...   \n",
       "384  Ford Ranger XL Street Special Edition กระบะรุ่...   \n",
       "385  มนุษย์แม่คงเคยมีความรู้สึกผิดต่อลูก เมื่อรู้สึ...   \n",
       "386  อธิบดีกรมควบคุมโรค เผยปมเอกสารประชุมวิชาการ 3 ...   \n",
       "387  โจรใต้เหิมปะทะเดือดทหาร ตำรวจ หลัง จนท.เข้าทำก...   \n",
       "388  ณวัฒน์ ซัดแรงไม่ชอบคนหน้าไหว้หลังหลอก ยังรอแทค...   \n",
       "\n",
       "                                                  link  \\\n",
       "0    https://www.thairath.co.th/sport/eurofootball/...   \n",
       "1    https://www.thairath.co.th/lifestyle/life/2126940   \n",
       "2    https://www.thairath.co.th/news/auto/news/2127156   \n",
       "3    https://www.thairath.co.th/business/investment...   \n",
       "4      https://www.thairath.co.th/news/foreign/2127271   \n",
       "..                                                 ...   \n",
       "384  https://www.thairath.co.th/news/auto/news/2132445   \n",
       "385  https://www.thairath.co.th/lifestyle/mom-and-k...   \n",
       "386      https://www.thairath.co.th/news/local/2132817   \n",
       "387  https://www.thairath.co.th/news/local/south/21...   \n",
       "388  https://www.thairath.co.th/entertain/news/2132725   \n",
       "\n",
       "                           published  \n",
       "0    Tue, 29 Jun 2021 10:05:00 +0700  \n",
       "1    Tue, 29 Jun 2021 10:01:00 +0700  \n",
       "2    Tue, 29 Jun 2021 10:00:00 +0700  \n",
       "3    Tue, 29 Jun 2021 09:35:00 +0700  \n",
       "4    Tue, 29 Jun 2021 09:32:47 +0700  \n",
       "..                               ...  \n",
       "384  Mon, 05 Jul 2021 14:00:00 +0700  \n",
       "385  Mon, 05 Jul 2021 13:52:38 +0700  \n",
       "386  Mon, 05 Jul 2021 14:16:00 +0700  \n",
       "387  Mon, 05 Jul 2021 14:06:00 +0700  \n",
       "388  Mon, 05 Jul 2021 13:30:00 +0700  \n",
       "\n",
       "[389 rows x 4 columns]"
      ]
     },
     "metadata": {},
     "execution_count": 15
    }
   ],
   "metadata": {}
  },
  {
   "cell_type": "code",
   "execution_count": 16,
   "source": [
    "df.drop_duplicates(inplace=True)\r\n",
    "df"
   ],
   "outputs": [
    {
     "output_type": "execute_result",
     "data": {
      "text/html": [
       "<div>\n",
       "<style scoped>\n",
       "    .dataframe tbody tr th:only-of-type {\n",
       "        vertical-align: middle;\n",
       "    }\n",
       "\n",
       "    .dataframe tbody tr th {\n",
       "        vertical-align: top;\n",
       "    }\n",
       "\n",
       "    .dataframe thead th {\n",
       "        text-align: right;\n",
       "    }\n",
       "</style>\n",
       "<table border=\"1\" class=\"dataframe\">\n",
       "  <thead>\n",
       "    <tr style=\"text-align: right;\">\n",
       "      <th></th>\n",
       "      <th>title</th>\n",
       "      <th>summary</th>\n",
       "      <th>link</th>\n",
       "      <th>published</th>\n",
       "    </tr>\n",
       "  </thead>\n",
       "  <tbody>\n",
       "    <tr>\n",
       "      <th>0</th>\n",
       "      <td>โรนัลโดเงิบ &amp;quot;ชากา&amp;quot; ซดโค้กก่อน สวิตเซ...</td>\n",
       "      <td>กัปตันทีมชาติสวิตเซอร์แลนด์ ทำเอากัปตันทีมชาติ...</td>\n",
       "      <td>https://www.thairath.co.th/sport/eurofootball/...</td>\n",
       "      <td>Tue, 29 Jun 2021 10:05:00 +0700</td>\n",
       "    </tr>\n",
       "    <tr>\n",
       "      <th>1</th>\n",
       "      <td>สันนิษฐานดาวศุกร์ยังคงขับเคลื่อนกิจกรรมในทางธร...</td>\n",
       "      <td>นักวิทยาศาสตร์สันนิษฐานว่าดาวศุกร์มีเปลือกนอกแ...</td>\n",
       "      <td>https://www.thairath.co.th/lifestyle/life/2126940</td>\n",
       "      <td>Tue, 29 Jun 2021 10:01:00 +0700</td>\n",
       "    </tr>\n",
       "    <tr>\n",
       "      <th>2</th>\n",
       "      <td>ฟอร์จูนเนอร์ โคโรลล่า ครอส ตัวดันยอดพี่โต! สรุ...</td>\n",
       "      <td>ยอดขายรถยนต์ในประเทศไทย ประจำเดือนพฤษภาคม 64 ย...</td>\n",
       "      <td>https://www.thairath.co.th/news/auto/news/2127156</td>\n",
       "      <td>Tue, 29 Jun 2021 10:00:00 +0700</td>\n",
       "    </tr>\n",
       "    <tr>\n",
       "      <th>3</th>\n",
       "      <td>ราคาทองวันนี้ 29/6/64 ล่าสุด เปิดตลาดเช้าวันอั...</td>\n",
       "      <td>&amp;quot;ราคาทองวันนี้&amp;quot; เปิดตลาดเช้าวันอังคา...</td>\n",
       "      <td>https://www.thairath.co.th/business/investment...</td>\n",
       "      <td>Tue, 29 Jun 2021 09:35:00 +0700</td>\n",
       "    </tr>\n",
       "    <tr>\n",
       "      <th>4</th>\n",
       "      <td>เผยภาพล่าสุด &amp;quot;คิม จอง อึน&amp;quot; ผ่ายผอมลง...</td>\n",
       "      <td>ทีวีเกาหลีเหนือเผยภาพล่าสุด &amp;quot;คิม จอง อึน&amp;...</td>\n",
       "      <td>https://www.thairath.co.th/news/foreign/2127271</td>\n",
       "      <td>Tue, 29 Jun 2021 09:32:47 +0700</td>\n",
       "    </tr>\n",
       "    <tr>\n",
       "      <th>...</th>\n",
       "      <td>...</td>\n",
       "      <td>...</td>\n",
       "      <td>...</td>\n",
       "      <td>...</td>\n",
       "    </tr>\n",
       "    <tr>\n",
       "      <th>384</th>\n",
       "      <td>FORD เปิดตัวกระบะรุ่นพิเศษ RANGER XL STREET SP...</td>\n",
       "      <td>Ford Ranger XL Street Special Edition กระบะรุ่...</td>\n",
       "      <td>https://www.thairath.co.th/news/auto/news/2132445</td>\n",
       "      <td>Mon, 05 Jul 2021 14:00:00 +0700</td>\n",
       "    </tr>\n",
       "    <tr>\n",
       "      <th>385</th>\n",
       "      <td>จัดการกับ ‘ความรู้สึกผิดต่อลูก’ ในแต่ละวัน ปมท...</td>\n",
       "      <td>มนุษย์แม่คงเคยมีความรู้สึกผิดต่อลูก เมื่อรู้สึ...</td>\n",
       "      <td>https://www.thairath.co.th/lifestyle/mom-and-k...</td>\n",
       "      <td>Mon, 05 Jul 2021 13:52:38 +0700</td>\n",
       "    </tr>\n",
       "    <tr>\n",
       "      <th>386</th>\n",
       "      <td>อธิบดีกรมควบคุมโรค แจงปมเอกสารประชุมค้านไฟเซอร...</td>\n",
       "      <td>อธิบดีกรมควบคุมโรค เผยปมเอกสารประชุมวิชาการ 3 ...</td>\n",
       "      <td>https://www.thairath.co.th/news/local/2132817</td>\n",
       "      <td>Mon, 05 Jul 2021 14:16:00 +0700</td>\n",
       "    </tr>\n",
       "    <tr>\n",
       "      <th>387</th>\n",
       "      <td>ปะทะเดือดสายบุรี โจรใต้เหิมสู้ ทหารล้อมจับแกนน...</td>\n",
       "      <td>โจรใต้เหิมปะทะเดือดทหาร ตำรวจ หลัง จนท.เข้าทำก...</td>\n",
       "      <td>https://www.thairath.co.th/news/local/south/21...</td>\n",
       "      <td>Mon, 05 Jul 2021 14:06:00 +0700</td>\n",
       "    </tr>\n",
       "    <tr>\n",
       "      <th>388</th>\n",
       "      <td>ณวัฒน์ ซัดแรงไม่ชอบคนหน้าไหว้หลังหลอก ยังรอแทค...</td>\n",
       "      <td>ณวัฒน์ ซัดแรงไม่ชอบคนหน้าไหว้หลังหลอก ยังรอแทค...</td>\n",
       "      <td>https://www.thairath.co.th/entertain/news/2132725</td>\n",
       "      <td>Mon, 05 Jul 2021 13:30:00 +0700</td>\n",
       "    </tr>\n",
       "  </tbody>\n",
       "</table>\n",
       "<p>389 rows × 4 columns</p>\n",
       "</div>"
      ],
      "text/plain": [
       "                                                 title  \\\n",
       "0    โรนัลโดเงิบ &quot;ชากา&quot; ซดโค้กก่อน สวิตเซ...   \n",
       "1    สันนิษฐานดาวศุกร์ยังคงขับเคลื่อนกิจกรรมในทางธร...   \n",
       "2    ฟอร์จูนเนอร์ โคโรลล่า ครอส ตัวดันยอดพี่โต! สรุ...   \n",
       "3    ราคาทองวันนี้ 29/6/64 ล่าสุด เปิดตลาดเช้าวันอั...   \n",
       "4    เผยภาพล่าสุด &quot;คิม จอง อึน&quot; ผ่ายผอมลง...   \n",
       "..                                                 ...   \n",
       "384  FORD เปิดตัวกระบะรุ่นพิเศษ RANGER XL STREET SP...   \n",
       "385  จัดการกับ ‘ความรู้สึกผิดต่อลูก’ ในแต่ละวัน ปมท...   \n",
       "386  อธิบดีกรมควบคุมโรค แจงปมเอกสารประชุมค้านไฟเซอร...   \n",
       "387  ปะทะเดือดสายบุรี โจรใต้เหิมสู้ ทหารล้อมจับแกนน...   \n",
       "388  ณวัฒน์ ซัดแรงไม่ชอบคนหน้าไหว้หลังหลอก ยังรอแทค...   \n",
       "\n",
       "                                               summary  \\\n",
       "0    กัปตันทีมชาติสวิตเซอร์แลนด์ ทำเอากัปตันทีมชาติ...   \n",
       "1    นักวิทยาศาสตร์สันนิษฐานว่าดาวศุกร์มีเปลือกนอกแ...   \n",
       "2    ยอดขายรถยนต์ในประเทศไทย ประจำเดือนพฤษภาคม 64 ย...   \n",
       "3    &quot;ราคาทองวันนี้&quot; เปิดตลาดเช้าวันอังคา...   \n",
       "4    ทีวีเกาหลีเหนือเผยภาพล่าสุด &quot;คิม จอง อึน&...   \n",
       "..                                                 ...   \n",
       "384  Ford Ranger XL Street Special Edition กระบะรุ่...   \n",
       "385  มนุษย์แม่คงเคยมีความรู้สึกผิดต่อลูก เมื่อรู้สึ...   \n",
       "386  อธิบดีกรมควบคุมโรค เผยปมเอกสารประชุมวิชาการ 3 ...   \n",
       "387  โจรใต้เหิมปะทะเดือดทหาร ตำรวจ หลัง จนท.เข้าทำก...   \n",
       "388  ณวัฒน์ ซัดแรงไม่ชอบคนหน้าไหว้หลังหลอก ยังรอแทค...   \n",
       "\n",
       "                                                  link  \\\n",
       "0    https://www.thairath.co.th/sport/eurofootball/...   \n",
       "1    https://www.thairath.co.th/lifestyle/life/2126940   \n",
       "2    https://www.thairath.co.th/news/auto/news/2127156   \n",
       "3    https://www.thairath.co.th/business/investment...   \n",
       "4      https://www.thairath.co.th/news/foreign/2127271   \n",
       "..                                                 ...   \n",
       "384  https://www.thairath.co.th/news/auto/news/2132445   \n",
       "385  https://www.thairath.co.th/lifestyle/mom-and-k...   \n",
       "386      https://www.thairath.co.th/news/local/2132817   \n",
       "387  https://www.thairath.co.th/news/local/south/21...   \n",
       "388  https://www.thairath.co.th/entertain/news/2132725   \n",
       "\n",
       "                           published  \n",
       "0    Tue, 29 Jun 2021 10:05:00 +0700  \n",
       "1    Tue, 29 Jun 2021 10:01:00 +0700  \n",
       "2    Tue, 29 Jun 2021 10:00:00 +0700  \n",
       "3    Tue, 29 Jun 2021 09:35:00 +0700  \n",
       "4    Tue, 29 Jun 2021 09:32:47 +0700  \n",
       "..                               ...  \n",
       "384  Mon, 05 Jul 2021 14:00:00 +0700  \n",
       "385  Mon, 05 Jul 2021 13:52:38 +0700  \n",
       "386  Mon, 05 Jul 2021 14:16:00 +0700  \n",
       "387  Mon, 05 Jul 2021 14:06:00 +0700  \n",
       "388  Mon, 05 Jul 2021 13:30:00 +0700  \n",
       "\n",
       "[389 rows x 4 columns]"
      ]
     },
     "metadata": {},
     "execution_count": 16
    }
   ],
   "metadata": {}
  },
  {
   "cell_type": "code",
   "execution_count": 17,
   "source": [
    "NEWMM = \"newmm\"\r\n",
    "ATTACUT = \"attacut\"\r\n",
    "list_column = df.columns.values.tolist()\r\n",
    "columnName = list_column[1]\r\n",
    "\r\n",
    "def word_break(news,engine):\r\n",
    "    segment = tokenize(news,keep_whitespace=False,engine=engine)\r\n",
    "    return segment"
   ],
   "outputs": [],
   "metadata": {}
  },
  {
   "cell_type": "markdown",
   "source": [
    "## Word Break Example"
   ],
   "metadata": {}
  },
  {
   "cell_type": "code",
   "execution_count": 18,
   "source": [
    "text = df[\"summary\"].iloc[2]\r\n",
    "print(text)\r\n",
    "print(\"ATTACUT : \" + \" | \".join(word_break(text,ATTACUT)))\r\n",
    "print(\"NEWMM : \" + \" | \".join(word_break(text,NEWMM)))"
   ],
   "outputs": [
    {
     "output_type": "stream",
     "name": "stdout",
     "text": [
      "ยอดขายรถยนต์ในประเทศไทย ประจำเดือนพฤษภาคม 64 ยอดขายรวม 55,948 คัน เพิ่มขึ้น 38.4%\n",
      "ATTACUT : ยอด | ขาย | รถ | ยนต์ | ใน | ประเทศไทย | ประจำ | เดือน | พฤษภาคม | 64 | ยอด | ขาย | รวม | 55 | , | 948 | คัน | เพิ่ม | ขึ้น | 38 | . | 4 | %\n",
      "NEWMM : ยอดขาย | รถยนต์ | ในประเทศ | ไทย | ประจำเดือน | พฤษภาคม | 64 | ยอดขาย | รวม | 55,948 | คัน | เพิ่มขึ้น | 38.4 | %\n"
     ]
    }
   ],
   "metadata": {}
  },
  {
   "cell_type": "code",
   "execution_count": 19,
   "source": [
    "text_file = open(\"../Dict/lexitron.txt\", \"r\")\r\n",
    "content = text_file.read()\r\n",
    "dict_lexitron = content.split(\"\\n\")\r\n",
    "text_file.close()\r\n",
    "len(dict_lexitron)"
   ],
   "outputs": [
    {
     "output_type": "execute_result",
     "data": {
      "text/plain": [
       "42221"
      ]
     },
     "metadata": {},
     "execution_count": 19
    }
   ],
   "metadata": {}
  },
  {
   "cell_type": "code",
   "execution_count": 20,
   "source": [
    "text_file = open(\"../Dict/remove_alien_3.txt\", \"r\",encoding=\"utf-8\")\r\n",
    "content = text_file.read()\r\n",
    "dict_thai2vec = content.split(\"\\n\")\r\n",
    "text_file.close()\r\n",
    "len(dict_thai2vec)"
   ],
   "outputs": [
    {
     "output_type": "execute_result",
     "data": {
      "text/plain": [
       "33333"
      ]
     },
     "metadata": {},
     "execution_count": 20
    }
   ],
   "metadata": {}
  },
  {
   "cell_type": "code",
   "execution_count": 41,
   "source": [
    "newmmWB = []\r\n",
    "attacutWB = []"
   ],
   "outputs": [],
   "metadata": {}
  },
  {
   "cell_type": "code",
   "execution_count": 46,
   "source": [
    "def cumulate_wb(df_news,engine):\r\n",
    "  all = set()\r\n",
    "  for i in tqdm(range(len(df_news))):\r\n",
    "    all = all.union(set(word_break(df_news.iloc[i][columnName],engine)))\r\n",
    "  mylist = list(all)\r\n",
    "  mylist = [word for word in mylist if isthai(word,ignore_chars='.()-')]\r\n",
    "  return mylist"
   ],
   "outputs": [],
   "metadata": {}
  },
  {
   "cell_type": "code",
   "execution_count": 47,
   "source": [
    "def accuracy(df_news,engine,dict_list):\r\n",
    "  result = cumulate_wb(df_news,engine)\r\n",
    "  amount = len(result)\r\n",
    "  inDict = [word for word in result if word in dict_list]\r\n",
    "  isThai = len(inDict)\r\n",
    "  print('\\n')\r\n",
    "  print(str(engine) + ' accuracy : ' + str(round((isThai / amount)*100,3)))\r\n",
    "  return result"
   ],
   "outputs": [],
   "metadata": {}
  },
  {
   "cell_type": "code",
   "execution_count": 49,
   "source": [
    "newmmWB = accuracy(df,\"newmm\",dict_lexitron)"
   ],
   "outputs": [
    {
     "output_type": "stream",
     "name": "stderr",
     "text": [
      "100%|██████████| 389/389 [00:00<00:00, 1149.39it/s]\n"
     ]
    },
    {
     "output_type": "stream",
     "name": "stdout",
     "text": [
      "\n",
      "\n",
      "newmm accuracy : 89.785\n"
     ]
    }
   ],
   "metadata": {}
  },
  {
   "cell_type": "code",
   "execution_count": 54,
   "source": [
    "len(newmmWB)"
   ],
   "outputs": [
    {
     "output_type": "execute_result",
     "data": {
      "text/plain": [
       "3485"
      ]
     },
     "metadata": {},
     "execution_count": 54
    }
   ],
   "metadata": {}
  },
  {
   "cell_type": "code",
   "execution_count": 52,
   "source": [
    "attacutWB = accuracy(df,\"attacut\",dict_lexitron)"
   ],
   "outputs": [
    {
     "output_type": "stream",
     "name": "stderr",
     "text": [
      "100%|██████████| 389/389 [00:08<00:00, 47.94it/s]\n"
     ]
    },
    {
     "output_type": "stream",
     "name": "stdout",
     "text": [
      "\n",
      "\n",
      "attacut accuracy : 76.039\n"
     ]
    }
   ],
   "metadata": {}
  },
  {
   "cell_type": "code",
   "execution_count": 53,
   "source": [
    "len(attacutWB)"
   ],
   "outputs": [
    {
     "output_type": "execute_result",
     "data": {
      "text/plain": [
       "2671"
      ]
     },
     "metadata": {},
     "execution_count": 53
    }
   ],
   "metadata": {}
  },
  {
   "cell_type": "code",
   "execution_count": 1,
   "source": [
    "print(\"dev puwadol branch\")"
   ],
   "outputs": [
    {
     "output_type": "stream",
     "name": "stdout",
     "text": [
      "dev puwadol branch\n"
     ]
    }
   ],
   "metadata": {}
  }
 ],
 "metadata": {
  "orig_nbformat": 4,
  "language_info": {
   "name": "python",
   "version": "3.8.5",
   "mimetype": "text/x-python",
   "codemirror_mode": {
    "name": "ipython",
    "version": 3
   },
   "pygments_lexer": "ipython3",
   "nbconvert_exporter": "python",
   "file_extension": ".py"
  },
  "kernelspec": {
   "name": "python3",
   "display_name": "Python 3.8.5 64-bit ('base': conda)"
  },
  "interpreter": {
   "hash": "b825cfde57f4fe2b066dee46d870faf19522c56f6a6e540eacd30e52a1215036"
  }
 },
 "nbformat": 4,
 "nbformat_minor": 2
}
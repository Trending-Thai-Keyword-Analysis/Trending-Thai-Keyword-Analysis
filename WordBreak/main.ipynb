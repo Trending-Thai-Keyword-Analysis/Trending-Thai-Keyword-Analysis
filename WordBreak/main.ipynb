{
 "cells": [
  {
   "cell_type": "markdown",
   "metadata": {},
   "source": [
    "# Word Break Notebook"
   ]
  },
  {
   "cell_type": "code",
   "execution_count": 1,
   "metadata": {},
   "outputs": [
    {
     "name": "stderr",
     "output_type": "stream",
     "text": [
      "C:\\Users\\Alps\\anaconda3\\lib\\site-packages\\tqdm\\std.py:697: FutureWarning: The Panel class is removed from pandas. Accessing it from the top-level namespace will also be removed in the next version\n",
      "  from pandas import Panel\n"
     ]
    }
   ],
   "source": [
    "## PyThaiNLP\n",
    "import pandas as pd\n",
    "from pythainlp import word_tokenize as tokenize\n",
    "from pythainlp.util import *\n",
    "from tqdm.auto import tqdm\n",
    "tqdm.pandas()"
   ]
  },
  {
   "cell_type": "markdown",
   "metadata": {},
   "source": [
    "## Read DataFrame"
   ]
  },
  {
   "cell_type": "code",
   "execution_count": 9,
   "metadata": {},
   "outputs": [
    {
     "data": {
      "text/html": [
       "<div>\n",
       "<style scoped>\n",
       "    .dataframe tbody tr th:only-of-type {\n",
       "        vertical-align: middle;\n",
       "    }\n",
       "\n",
       "    .dataframe tbody tr th {\n",
       "        vertical-align: top;\n",
       "    }\n",
       "\n",
       "    .dataframe thead th {\n",
       "        text-align: right;\n",
       "    }\n",
       "</style>\n",
       "<table border=\"1\" class=\"dataframe\">\n",
       "  <thead>\n",
       "    <tr style=\"text-align: right;\">\n",
       "      <th></th>\n",
       "      <th>title</th>\n",
       "      <th>summary</th>\n",
       "      <th>link</th>\n",
       "      <th>published</th>\n",
       "    </tr>\n",
       "  </thead>\n",
       "  <tbody>\n",
       "    <tr>\n",
       "      <th>0</th>\n",
       "      <td>ASEAN Roundup สิงคโปร์เดินหน้าสู่ “New Normal”...</td>\n",
       "      <td>ASEAN Roundup ประจำวันที่ 3-9 ตุลาคม 2564 สิงค...</td>\n",
       "      <td>https://thaipublica.org/2021/10/asean-weekly-r...</td>\n",
       "      <td>2021_10_10</td>\n",
       "    </tr>\n",
       "    <tr>\n",
       "      <th>1</th>\n",
       "      <td>ASEAN Roundup EP 53 เส้นทางความสำเร็จของ Vingr...</td>\n",
       "      <td>ThaiPublica · ASEAN Roundup EP53 เส้นทางความสำ...</td>\n",
       "      <td>https://thaipublica.org/2021/10/asean-roundup-...</td>\n",
       "      <td>2021_10_10</td>\n",
       "    </tr>\n",
       "    <tr>\n",
       "      <th>2</th>\n",
       "      <td>“คน” คือคำตอบขององค์กร</td>\n",
       "      <td>คอลัมน์ชั้น 5 ประชาชาติ สาโรจน์ มณีรัตน์ ทุกคร...</td>\n",
       "      <td>https://www.prachachat.net/breaking-news/news-...</td>\n",
       "      <td>2021_10_10</td>\n",
       "    </tr>\n",
       "    <tr>\n",
       "      <th>3</th>\n",
       "      <td>ผ่าทางตัน “แรงงานถูกเลิกจ้าง” ยื่นรัฐ 5 ข้อ สร...</td>\n",
       "      <td>เวทีเสวนาออนไลน์ “วิกฤตแรงงานถูกเลิกจ้าง VS กอ...</td>\n",
       "      <td>https://www.prachachat.net/csr-hr/news-778178</td>\n",
       "      <td>2021_10_10</td>\n",
       "    </tr>\n",
       "    <tr>\n",
       "      <th>4</th>\n",
       "      <td>เรื่องเดียวเท่านั้น ในแต่ละคราว</td>\n",
       "      <td>คอลัมน์ นอกรอบ รณดล นุ่มนนท์ “แนวทางที่ดีที่สุ...</td>\n",
       "      <td>https://www.prachachat.net/columns/news-778363</td>\n",
       "      <td>2021_10_10</td>\n",
       "    </tr>\n",
       "    <tr>\n",
       "      <th>...</th>\n",
       "      <td>...</td>\n",
       "      <td>...</td>\n",
       "      <td>...</td>\n",
       "      <td>...</td>\n",
       "    </tr>\n",
       "    <tr>\n",
       "      <th>566</th>\n",
       "      <td>ผบช.น. ย้ำ ยังต้องอยู่ที่สถานการณ์ ตอบไม่ได้อย...</td>\n",
       "      <td>ผู้บัญชาการตำรวจนครบาล เผย ยังตอบไม่ได้ว่าต้อง...</td>\n",
       "      <td>https://www.thairath.co.th/news/politic/2216145</td>\n",
       "      <td>2021_10_10</td>\n",
       "    </tr>\n",
       "    <tr>\n",
       "      <th>567</th>\n",
       "      <td>คนดวงเฮงบวงสรวงแก้บน &amp;quot;พ่อปู่ศรีสุทโธ&amp;quot...</td>\n",
       "      <td>ปรับตัวยุคโควิด คนดวงเฮงบวงสรวงแก้บน \"พ่อปู่ศร...</td>\n",
       "      <td>https://www.thairath.co.th/lottery/news/2216140</td>\n",
       "      <td>2021_10_10</td>\n",
       "    </tr>\n",
       "    <tr>\n",
       "      <th>568</th>\n",
       "      <td>สุชาติ ลงพื้นที่บางแสน หลังคลายล็อก เปิดรับอาช...</td>\n",
       "      <td>“สุชาติ” รมว.แรงงาน ลงพื้นที่บางแสน จ.ชลบุรี ห...</td>\n",
       "      <td>https://www.thairath.co.th/news/politic/2216122</td>\n",
       "      <td>2021_10_10</td>\n",
       "    </tr>\n",
       "    <tr>\n",
       "      <th>569</th>\n",
       "      <td>รับศพหนุ่มพลเมืองดี โดนเก๋งเมาขับชนดับ บรรยากา...</td>\n",
       "      <td>ญาติติดต่อรับศพหนุ่มพลเมืองดี ที่เข้าช่วย จยย....</td>\n",
       "      <td>https://www.thairath.co.th/news/crime/2216112</td>\n",
       "      <td>2021_10_10</td>\n",
       "    </tr>\n",
       "    <tr>\n",
       "      <th>570</th>\n",
       "      <td>&amp;quot;เลสเตอร์&amp;quot; ทำเก๋ อวดภาพ 2 แข้งดังเขี...</td>\n",
       "      <td>ทีมจิ้งจอกสยามทำเก๋ จับสองแข้งดังของทีมมานั่งห...</td>\n",
       "      <td>https://www.thairath.co.th/sport/eurofootball/...</td>\n",
       "      <td>2021_10_10</td>\n",
       "    </tr>\n",
       "  </tbody>\n",
       "</table>\n",
       "<p>571 rows × 4 columns</p>\n",
       "</div>"
      ],
      "text/plain": [
       "                                                 title  \\\n",
       "0    ASEAN Roundup สิงคโปร์เดินหน้าสู่ “New Normal”...   \n",
       "1    ASEAN Roundup EP 53 เส้นทางความสำเร็จของ Vingr...   \n",
       "2                               “คน” คือคำตอบขององค์กร   \n",
       "3    ผ่าทางตัน “แรงงานถูกเลิกจ้าง” ยื่นรัฐ 5 ข้อ สร...   \n",
       "4                      เรื่องเดียวเท่านั้น ในแต่ละคราว   \n",
       "..                                                 ...   \n",
       "566  ผบช.น. ย้ำ ยังต้องอยู่ที่สถานการณ์ ตอบไม่ได้อย...   \n",
       "567  คนดวงเฮงบวงสรวงแก้บน &quot;พ่อปู่ศรีสุทโธ&quot...   \n",
       "568  สุชาติ ลงพื้นที่บางแสน หลังคลายล็อก เปิดรับอาช...   \n",
       "569  รับศพหนุ่มพลเมืองดี โดนเก๋งเมาขับชนดับ บรรยากา...   \n",
       "570  &quot;เลสเตอร์&quot; ทำเก๋ อวดภาพ 2 แข้งดังเขี...   \n",
       "\n",
       "                                               summary  \\\n",
       "0    ASEAN Roundup ประจำวันที่ 3-9 ตุลาคม 2564 สิงค...   \n",
       "1    ThaiPublica · ASEAN Roundup EP53 เส้นทางความสำ...   \n",
       "2    คอลัมน์ชั้น 5 ประชาชาติ สาโรจน์ มณีรัตน์ ทุกคร...   \n",
       "3    เวทีเสวนาออนไลน์ “วิกฤตแรงงานถูกเลิกจ้าง VS กอ...   \n",
       "4    คอลัมน์ นอกรอบ รณดล นุ่มนนท์ “แนวทางที่ดีที่สุ...   \n",
       "..                                                 ...   \n",
       "566  ผู้บัญชาการตำรวจนครบาล เผย ยังตอบไม่ได้ว่าต้อง...   \n",
       "567  ปรับตัวยุคโควิด คนดวงเฮงบวงสรวงแก้บน \"พ่อปู่ศร...   \n",
       "568  “สุชาติ” รมว.แรงงาน ลงพื้นที่บางแสน จ.ชลบุรี ห...   \n",
       "569  ญาติติดต่อรับศพหนุ่มพลเมืองดี ที่เข้าช่วย จยย....   \n",
       "570  ทีมจิ้งจอกสยามทำเก๋ จับสองแข้งดังของทีมมานั่งห...   \n",
       "\n",
       "                                                  link   published  \n",
       "0    https://thaipublica.org/2021/10/asean-weekly-r...  2021_10_10  \n",
       "1    https://thaipublica.org/2021/10/asean-roundup-...  2021_10_10  \n",
       "2    https://www.prachachat.net/breaking-news/news-...  2021_10_10  \n",
       "3        https://www.prachachat.net/csr-hr/news-778178  2021_10_10  \n",
       "4       https://www.prachachat.net/columns/news-778363  2021_10_10  \n",
       "..                                                 ...         ...  \n",
       "566    https://www.thairath.co.th/news/politic/2216145  2021_10_10  \n",
       "567    https://www.thairath.co.th/lottery/news/2216140  2021_10_10  \n",
       "568    https://www.thairath.co.th/news/politic/2216122  2021_10_10  \n",
       "569      https://www.thairath.co.th/news/crime/2216112  2021_10_10  \n",
       "570  https://www.thairath.co.th/sport/eurofootball/...  2021_10_10  \n",
       "\n",
       "[571 rows x 4 columns]"
      ]
     },
     "execution_count": 9,
     "metadata": {},
     "output_type": "execute_result"
    }
   ],
   "source": [
    "df = pd.read_csv('../assets/SplitData/2021_10_10.csv')\n",
    "df"
   ]
  },
  {
   "cell_type": "code",
   "execution_count": 13,
   "metadata": {},
   "outputs": [],
   "source": [
    "NEWMM = \"newmm\"\n",
    "ATTACUT = \"attacut\"\n",
    "list_column = df.columns.values.tolist()\n",
    "columnName = list_column[1]\n",
    "\n",
    "def word_break(news,engine):\n",
    "    segment = tokenize(news,keep_whitespace=False,engine=engine)\n",
    "    return segment"
   ]
  },
  {
   "cell_type": "markdown",
   "metadata": {},
   "source": [
    "## Word Break Example"
   ]
  },
  {
   "cell_type": "code",
   "execution_count": 19,
   "metadata": {},
   "outputs": [
    {
     "name": "stdout",
     "output_type": "stream",
     "text": [
      "ผู้บัญชาการตำรวจนครบาล เผย ยังตอบไม่ได้ว่าต้องวางกำลังแฟลตดินแดงเป็นเดือนหรือไม่ ชี้ขึ้นอยู่กับสถานการณ์ ส่วนผู้ถูกจับกุม พูดคุยแล้ว 90% เข้าใจการทำงานของตำรวจดี\n",
      "------------------------------------------------------------------------------------------------------------------------\n",
      "ATTACUT : ผู้ | บัญชา | การตำรวจนครบาล | เผย | ยัง | ตอบ | ไม่ | ได้ | ว่า | ต้อง | วาง | กำลัง | แฟลตดินแดง | เป็น | เดือน | หรือ | ไม่ | ชี้ | ขึ้น | อยู่ | กับ | สถานการณ์ | ส่วน | ผู้ | ถูก | จับกุม | พูดคุย | แล้ว | 90 | % | เข้าใจ | การ | ทำ | งาน | ของ | ตำรวจ | ดี\n",
      "------------------------------------------------------------------------------------------------------------------------\n",
      "NEWMM : ผู้บัญชาการ | ตำรวจนครบาล | เผย | ยัง | ตอบ | ไม่ | ได้ | ว่า | ต้อง | วาง | กำลัง | แฟลต | ดินแดง | เป็น | เดือน | หรือไม่ | ชี้ | ขึ้นอยู่กับ | สถานการณ์ | ส่วน | ผู้ | ถูก | จับกุม | พูดคุย | แล้ว | 90 | % | เข้าใจ | การทำงาน | ของ | ตำรวจ | ดี\n"
     ]
    }
   ],
   "source": [
    "text = df[columnName].iloc[566]\n",
    "print(text)\n",
    "print(\"------------------------------------------------------------------------------------------------------------------------\")\n",
    "print(\"ATTACUT : \" + \" | \".join(word_break(text,ATTACUT)))\n",
    "print(\"------------------------------------------------------------------------------------------------------------------------\")\n",
    "print(\"NEWMM : \" + \" | \".join(word_break(text,NEWMM)))"
   ]
  },
  {
   "cell_type": "code",
   "execution_count": 20,
   "metadata": {},
   "outputs": [
    {
     "data": {
      "text/plain": [
       "['ก.', 'ก.ค.', 'ก.ต.', 'ก.ป.ส.', 'ก.พ.']"
      ]
     },
     "execution_count": 20,
     "metadata": {},
     "output_type": "execute_result"
    }
   ],
   "source": [
    "text_file = open(\"../assets/Dict/lexitron.txt\", \"r\",encoding=\"utf-8\")\n",
    "content = text_file.read()\n",
    "dict_lexitron = content.split(\"\\n\")\n",
    "text_file.close()\n",
    "dict_lexitron[:5]"
   ]
  },
  {
   "cell_type": "code",
   "execution_count": 21,
   "metadata": {},
   "outputs": [
    {
     "data": {
      "text/plain": [
       "['the', 'of', 'and', 'to', 'university']"
      ]
     },
     "execution_count": 21,
     "metadata": {},
     "output_type": "execute_result"
    }
   ],
   "source": [
    "text_file = open(\"../assets/Dict/remove_alien_3.txt\", \"r\",encoding=\"utf-8\")\n",
    "content = text_file.read()\n",
    "dict_thai2vec = content.split(\"\\n\")\n",
    "text_file.close()\n",
    "dict_thai2vec[:5]"
   ]
  },
  {
   "cell_type": "code",
   "execution_count": 22,
   "metadata": {},
   "outputs": [],
   "source": [
    "newmmWB = []\n",
    "attacutWB = []"
   ]
  },
  {
   "cell_type": "code",
   "execution_count": 23,
   "metadata": {},
   "outputs": [],
   "source": [
    "def cumulate_wb(df_news,engine):\n",
    "  all = set()\n",
    "  for i in tqdm(range(len(df_news))):\n",
    "    all = all.union(set(word_break(df_news.iloc[i][columnName],engine)))\n",
    "  mylist = list(all)\n",
    "  mylist = [word for word in mylist if isthai(word,ignore_chars='.()-')]\n",
    "  return mylist"
   ]
  },
  {
   "cell_type": "code",
   "execution_count": 29,
   "metadata": {},
   "outputs": [],
   "source": [
    "def accuracy(df_news,engine,dict_list):\n",
    "  result = cumulate_wb(df_news,engine)\n",
    "  amount = len(result)\n",
    "  inDict = [word for word in result if word in dict_list]\n",
    "  isThai = len(inDict)\n",
    "  print('\\n')\n",
    "  print(f'{engine} accuracy : {(isThai / amount)*100:.3f}%')\n",
    "  return result"
   ]
  },
  {
   "cell_type": "code",
   "execution_count": 30,
   "metadata": {},
   "outputs": [
    {
     "name": "stderr",
     "output_type": "stream",
     "text": [
      "100%|██████████| 571/571 [00:01<00:00, 418.65it/s]\n"
     ]
    },
    {
     "name": "stdout",
     "output_type": "stream",
     "text": [
      "\n",
      "\n",
      "newmm accuracy : 88.126%\n"
     ]
    }
   ],
   "source": [
    "newmmWB = accuracy(df,\"newmm\",dict_lexitron)"
   ]
  },
  {
   "cell_type": "code",
   "execution_count": 31,
   "metadata": {},
   "outputs": [
    {
     "data": {
      "text/plain": [
       "7226"
      ]
     },
     "execution_count": 31,
     "metadata": {},
     "output_type": "execute_result"
    }
   ],
   "source": [
    "len(newmmWB)"
   ]
  },
  {
   "cell_type": "code",
   "execution_count": 32,
   "metadata": {},
   "outputs": [
    {
     "name": "stderr",
     "output_type": "stream",
     "text": [
      "100%|██████████| 571/571 [00:18<00:00, 31.61it/s]\n"
     ]
    },
    {
     "name": "stdout",
     "output_type": "stream",
     "text": [
      "\n",
      "\n",
      "attacut accuracy : 63.357%\n"
     ]
    }
   ],
   "source": [
    "attacutWB = accuracy(df,\"attacut\",dict_lexitron)"
   ]
  },
  {
   "cell_type": "code",
   "execution_count": 33,
   "metadata": {},
   "outputs": [
    {
     "data": {
      "text/plain": [
       "5690"
      ]
     },
     "execution_count": 33,
     "metadata": {},
     "output_type": "execute_result"
    }
   ],
   "source": [
    "len(attacutWB)"
   ]
  }
 ],
 "metadata": {
  "interpreter": {
   "hash": "b825cfde57f4fe2b066dee46d870faf19522c56f6a6e540eacd30e52a1215036"
  },
  "kernelspec": {
   "display_name": "Python 3.8.5 64-bit ('base': conda)",
   "name": "python3"
  },
  "language_info": {
   "codemirror_mode": {
    "name": "ipython",
    "version": 3
   },
   "file_extension": ".py",
   "mimetype": "text/x-python",
   "name": "python",
   "nbconvert_exporter": "python",
   "pygments_lexer": "ipython3",
   "version": "3.8.5"
  },
  "orig_nbformat": 4
 },
 "nbformat": 4,
 "nbformat_minor": 2
}

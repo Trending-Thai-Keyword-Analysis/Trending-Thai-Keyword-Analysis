{
 "cells": [
  {
   "cell_type": "markdown",
   "source": [
    "# Word Break Notebook"
   ],
   "metadata": {}
  },
  {
   "cell_type": "code",
   "execution_count": 1,
   "source": [
    "## PyThaiNLP\r\n",
    "import pandas as pd\r\n",
    "from pythainlp import word_tokenize as tokenize\r\n",
    "from pythainlp.util import *\r\n",
    "from tqdm.auto import tqdm\r\n",
    "tqdm.pandas()"
   ],
   "outputs": [
    {
     "output_type": "stream",
     "name": "stderr",
     "text": [
      "C:\\Users\\Alps\\anaconda3\\lib\\site-packages\\tqdm\\std.py:697: FutureWarning: The Panel class is removed from pandas. Accessing it from the top-level namespace will also be removed in the next version\n",
      "  from pandas import Panel\n"
     ]
    }
   ],
   "metadata": {}
  },
  {
   "cell_type": "markdown",
   "source": [
    "## Read DataFrame"
   ],
   "metadata": {}
  },
  {
   "cell_type": "code",
   "execution_count": 4,
   "source": [
    "df = pd.read_csv(\"../asset/CleanedData/ThaiRath/01_07_2021.csv\")\r\n",
    "df"
   ],
   "outputs": [
    {
     "output_type": "execute_result",
     "data": {
      "text/html": [
       "<div>\n",
       "<style scoped>\n",
       "    .dataframe tbody tr th:only-of-type {\n",
       "        vertical-align: middle;\n",
       "    }\n",
       "\n",
       "    .dataframe tbody tr th {\n",
       "        vertical-align: top;\n",
       "    }\n",
       "\n",
       "    .dataframe thead th {\n",
       "        text-align: right;\n",
       "    }\n",
       "</style>\n",
       "<table border=\"1\" class=\"dataframe\">\n",
       "  <thead>\n",
       "    <tr style=\"text-align: right;\">\n",
       "      <th></th>\n",
       "      <th>title</th>\n",
       "      <th>summary</th>\n",
       "      <th>link</th>\n",
       "      <th>published</th>\n",
       "    </tr>\n",
       "  </thead>\n",
       "  <tbody>\n",
       "    <tr>\n",
       "      <th>0</th>\n",
       "      <td>ตรวจหวย 1 กรกฎาคม 2564 ตรวจผลสลากกินแบ่งรัฐบาล...</td>\n",
       "      <td>เช็กผลสลากกินแบ่งรัฐบาล อัปเดตจากกองสลาก \"ตรวจ...</td>\n",
       "      <td>https://www.thairath.co.th/lottery/latest-resu...</td>\n",
       "      <td>01_07_2021</td>\n",
       "    </tr>\n",
       "    <tr>\n",
       "      <th>1</th>\n",
       "      <td>โควิดวันนี้ วิกฤติหนัก นิวไฮวันที่ 2 ดับ 57 ศพ...</td>\n",
       "      <td>ศบค. แถลงสถานการณ์โควิดวันนี้ 1 ก.ค.64 ผู้ติดเ...</td>\n",
       "      <td>https://www.thairath.co.th/news/politic/2129577</td>\n",
       "      <td>01_07_2021</td>\n",
       "    </tr>\n",
       "    <tr>\n",
       "      <th>2</th>\n",
       "      <td>โควิดวันนี้ติดเชื้อเกินครึ่งหมื่น เสียชีวิตสูง...</td>\n",
       "      <td>ศบค. แถลงสถานการณ์โควิดวันนี้ 1 ก.ค. 64 ยอดนิว...</td>\n",
       "      <td>https://www.thairath.co.th/news/politic/2129617</td>\n",
       "      <td>01_07_2021</td>\n",
       "    </tr>\n",
       "    <tr>\n",
       "      <th>3</th>\n",
       "      <td>MEA โชว์ศักยภาพรัฐวิสาหกิจไทย คว้า 2 รางวัลใหญ...</td>\n",
       "      <td>ผู้ว่าการการไฟฟ้านครหลวง หรือ MEA เข้ารับ 2 รา...</td>\n",
       "      <td>https://www.thairath.co.th/news/local/2129505</td>\n",
       "      <td>01_07_2021</td>\n",
       "    </tr>\n",
       "    <tr>\n",
       "      <th>4</th>\n",
       "      <td>ท็อป ดารณีนุช อยู่บ้านว่างมาก แกะช่อดอกไม้เงิน...</td>\n",
       "      <td>ท็อป ดารณีนุช อยู่บ้านว่างมาก แกะช่อดอกไม้เงิน...</td>\n",
       "      <td>https://www.thairath.co.th/entertain/news/2129526</td>\n",
       "      <td>01_07_2021</td>\n",
       "    </tr>\n",
       "    <tr>\n",
       "      <th>...</th>\n",
       "      <td>...</td>\n",
       "      <td>...</td>\n",
       "      <td>...</td>\n",
       "      <td>...</td>\n",
       "    </tr>\n",
       "    <tr>\n",
       "      <th>74</th>\n",
       "      <td>Google ถอนหมุดแผนที่แสดงข้อมูลส่วนตัวของนักเคล...</td>\n",
       "      <td>กูเกิล ลบข้อมูลบนแผนที่ ซึ่งแสดงถึงข้อมูลส่วนต...</td>\n",
       "      <td>https://www.thairath.co.th/news/tech/2129961</td>\n",
       "      <td>01_07_2021</td>\n",
       "    </tr>\n",
       "    <tr>\n",
       "      <th>75</th>\n",
       "      <td>วช. ปิดจ๊อบเสวนา Future Thailand วิจัยและนวัตก...</td>\n",
       "      <td>วช. ปิดจ๊อบเสวนาออนไลน์ Future Thailand สู่อนา...</td>\n",
       "      <td>https://www.thairath.co.th/news/local/bangkok/...</td>\n",
       "      <td>01_07_2021</td>\n",
       "    </tr>\n",
       "    <tr>\n",
       "      <th>76</th>\n",
       "      <td>น้ำชา โพสต์เศร้า ทุกอย่างถูกปิดกั้น โดนมัดมือม...</td>\n",
       "      <td>น้ำชา ชีรณัฐ โพสต์ภาพข้อความเสียดาย ทุกอย่างโด...</td>\n",
       "      <td>https://www.thairath.co.th/entertain/news/2129882</td>\n",
       "      <td>01_07_2021</td>\n",
       "    </tr>\n",
       "    <tr>\n",
       "      <th>77</th>\n",
       "      <td>โฆษก ตร.ยืนยัน จะตามจับแก๊งหลอกฉีดวัคซีน &amp;quot...</td>\n",
       "      <td>โฆษก ตร.เผย กรณีแก๊งกลุ่มไลน์อ้างเป็นหมอหลอกฉี...</td>\n",
       "      <td>https://www.thairath.co.th/news/crime/2129920</td>\n",
       "      <td>01_07_2021</td>\n",
       "    </tr>\n",
       "    <tr>\n",
       "      <th>78</th>\n",
       "      <td>The Old Gays แก๊งเกย์อเมริกันสูงวัย ขวัญใจชาวโ...</td>\n",
       "      <td>คงไม่มีใครคาดคิดว่า หนึ่งใน ‘ขวัญใจ’ ของชาว LG...</td>\n",
       "      <td>https://www.thairath.co.th/entertain/inter/212...</td>\n",
       "      <td>01_07_2021</td>\n",
       "    </tr>\n",
       "  </tbody>\n",
       "</table>\n",
       "<p>79 rows × 4 columns</p>\n",
       "</div>"
      ],
      "text/plain": [
       "                                                title  \\\n",
       "0   ตรวจหวย 1 กรกฎาคม 2564 ตรวจผลสลากกินแบ่งรัฐบาล...   \n",
       "1   โควิดวันนี้ วิกฤติหนัก นิวไฮวันที่ 2 ดับ 57 ศพ...   \n",
       "2   โควิดวันนี้ติดเชื้อเกินครึ่งหมื่น เสียชีวิตสูง...   \n",
       "3   MEA โชว์ศักยภาพรัฐวิสาหกิจไทย คว้า 2 รางวัลใหญ...   \n",
       "4   ท็อป ดารณีนุช อยู่บ้านว่างมาก แกะช่อดอกไม้เงิน...   \n",
       "..                                                ...   \n",
       "74  Google ถอนหมุดแผนที่แสดงข้อมูลส่วนตัวของนักเคล...   \n",
       "75  วช. ปิดจ๊อบเสวนา Future Thailand วิจัยและนวัตก...   \n",
       "76  น้ำชา โพสต์เศร้า ทุกอย่างถูกปิดกั้น โดนมัดมือม...   \n",
       "77  โฆษก ตร.ยืนยัน จะตามจับแก๊งหลอกฉีดวัคซีน &quot...   \n",
       "78  The Old Gays แก๊งเกย์อเมริกันสูงวัย ขวัญใจชาวโ...   \n",
       "\n",
       "                                              summary  \\\n",
       "0   เช็กผลสลากกินแบ่งรัฐบาล อัปเดตจากกองสลาก \"ตรวจ...   \n",
       "1   ศบค. แถลงสถานการณ์โควิดวันนี้ 1 ก.ค.64 ผู้ติดเ...   \n",
       "2   ศบค. แถลงสถานการณ์โควิดวันนี้ 1 ก.ค. 64 ยอดนิว...   \n",
       "3   ผู้ว่าการการไฟฟ้านครหลวง หรือ MEA เข้ารับ 2 รา...   \n",
       "4   ท็อป ดารณีนุช อยู่บ้านว่างมาก แกะช่อดอกไม้เงิน...   \n",
       "..                                                ...   \n",
       "74  กูเกิล ลบข้อมูลบนแผนที่ ซึ่งแสดงถึงข้อมูลส่วนต...   \n",
       "75  วช. ปิดจ๊อบเสวนาออนไลน์ Future Thailand สู่อนา...   \n",
       "76  น้ำชา ชีรณัฐ โพสต์ภาพข้อความเสียดาย ทุกอย่างโด...   \n",
       "77  โฆษก ตร.เผย กรณีแก๊งกลุ่มไลน์อ้างเป็นหมอหลอกฉี...   \n",
       "78  คงไม่มีใครคาดคิดว่า หนึ่งใน ‘ขวัญใจ’ ของชาว LG...   \n",
       "\n",
       "                                                 link   published  \n",
       "0   https://www.thairath.co.th/lottery/latest-resu...  01_07_2021  \n",
       "1     https://www.thairath.co.th/news/politic/2129577  01_07_2021  \n",
       "2     https://www.thairath.co.th/news/politic/2129617  01_07_2021  \n",
       "3       https://www.thairath.co.th/news/local/2129505  01_07_2021  \n",
       "4   https://www.thairath.co.th/entertain/news/2129526  01_07_2021  \n",
       "..                                                ...         ...  \n",
       "74       https://www.thairath.co.th/news/tech/2129961  01_07_2021  \n",
       "75  https://www.thairath.co.th/news/local/bangkok/...  01_07_2021  \n",
       "76  https://www.thairath.co.th/entertain/news/2129882  01_07_2021  \n",
       "77      https://www.thairath.co.th/news/crime/2129920  01_07_2021  \n",
       "78  https://www.thairath.co.th/entertain/inter/212...  01_07_2021  \n",
       "\n",
       "[79 rows x 4 columns]"
      ]
     },
     "metadata": {},
     "execution_count": 4
    }
   ],
   "metadata": {}
  },
  {
   "cell_type": "code",
   "execution_count": 6,
   "source": [
    "NEWMM = \"newmm\"\r\n",
    "ATTACUT = \"attacut\"\r\n",
    "list_column = df.columns.values.tolist()\r\n",
    "columnName = list_column[1]\r\n",
    "\r\n",
    "def word_break(news,engine):\r\n",
    "    segment = tokenize(news,keep_whitespace=False,engine=engine)\r\n",
    "    return segment"
   ],
   "outputs": [],
   "metadata": {}
  },
  {
   "cell_type": "markdown",
   "source": [
    "## Word Break Example"
   ],
   "metadata": {}
  },
  {
   "cell_type": "code",
   "execution_count": 7,
   "source": [
    "text = df[columnName].iloc[2]\r\n",
    "print(text)\r\n",
    "print(\"ATTACUT : \" + \" | \".join(word_break(text,ATTACUT)))\r\n",
    "print(\"NEWMM : \" + \" | \".join(word_break(text,NEWMM)))"
   ],
   "outputs": [
    {
     "output_type": "stream",
     "name": "stdout",
     "text": [
      "ศบค. แถลงสถานการณ์โควิดวันนี้ 1 ก.ค. 64 ยอดนิวไฮ ติดเชื้อพุ่ง 5,533 รายใหม่ เสียชีวิตอีก 57 ศพ ยอดผู้ป่วยยืนยันสะสม 264,834 ราย รักษาหายอีก 3,223 ราย\n",
      "ATTACUT : ศบค. | แถลง | สถานการณ์ | โควิดวัน | นี้ | 1 | ก.ค. | 64 | ยอด | นิวไฮ | ติด | เชื้อ | พุ่ง | 5 | , | 533 | ราย | ใหม่ | เสีย | ชีวิต | อีก | 57 | ศพ | ยอด | ผู้ | ป่วย | ยืนยัน | สะสม | 264 | , | 834 | ราย | รักษา | หาย | อีก | 3 | , | 223 | ราย\n",
      "NEWMM : ศบค. | แถลง | สถานการณ์ | โควิด | วันนี้ | 1 | ก.ค. | 64 | ยอด | นิว | ไฮ | ติดเชื้อ | พุ่ง | 5,533 | ราย | ใหม่ | เสียชีวิต | อีก | 57 | ศพ | ยอด | ผู้ป่วย | ยืนยัน | สะสม | 264,834 | ราย | รักษา | หาย | อีก | 3,223 | ราย\n"
     ]
    }
   ],
   "metadata": {}
  },
  {
   "cell_type": "code",
   "execution_count": 32,
   "source": [
    "text_file = open(\"../asset/Dict/lexitron.txt\", \"r\",encoding=\"utf-8\")\r\n",
    "content = text_file.read()\r\n",
    "dict_lexitron = content.split(\"\\n\")\r\n",
    "text_file.close()\r\n",
    "dict_lexitron[:5]"
   ],
   "outputs": [
    {
     "output_type": "execute_result",
     "data": {
      "text/plain": [
       "['ก.', 'ก.ค.', 'ก.ต.', 'ก.ป.ส.', 'ก.พ.']"
      ]
     },
     "metadata": {},
     "execution_count": 32
    }
   ],
   "metadata": {}
  },
  {
   "cell_type": "code",
   "execution_count": 34,
   "source": [
    "text_file = open(\"../asset/Dict/remove_alien_3.txt\", \"r\",encoding=\"utf-8\")\r\n",
    "content = text_file.read()\r\n",
    "dict_thai2vec = content.split(\"\\n\")\r\n",
    "text_file.close()\r\n",
    "dict_thai2vec[:5]"
   ],
   "outputs": [
    {
     "output_type": "execute_result",
     "data": {
      "text/plain": [
       "['the', 'of', 'and', 'to', 'university']"
      ]
     },
     "metadata": {},
     "execution_count": 34
    }
   ],
   "metadata": {}
  },
  {
   "cell_type": "code",
   "execution_count": 36,
   "source": [
    "newmmWB = []\r\n",
    "attacutWB = []"
   ],
   "outputs": [],
   "metadata": {}
  },
  {
   "cell_type": "code",
   "execution_count": 35,
   "source": [
    "def cumulate_wb(df_news,engine):\r\n",
    "  all = set()\r\n",
    "  for i in tqdm(range(len(df_news))):\r\n",
    "    all = all.union(set(word_break(df_news.iloc[i][columnName],engine)))\r\n",
    "  mylist = list(all)\r\n",
    "  mylist = [word for word in mylist if isthai(word,ignore_chars='.()-')]\r\n",
    "  return mylist"
   ],
   "outputs": [],
   "metadata": {}
  },
  {
   "cell_type": "code",
   "execution_count": 37,
   "source": [
    "def accuracy(df_news,engine,dict_list):\r\n",
    "  result = cumulate_wb(df_news,engine)\r\n",
    "  amount = len(result)\r\n",
    "  inDict = [word for word in result if word in dict_list]\r\n",
    "  isThai = len(inDict)\r\n",
    "  print('\\n')\r\n",
    "  print(str(engine) + ' accuracy : ' + str(round((isThai / amount)*100,3)))\r\n",
    "  return result"
   ],
   "outputs": [],
   "metadata": {}
  },
  {
   "cell_type": "code",
   "execution_count": 38,
   "source": [
    "newmmWB = accuracy(df,\"newmm\",dict_lexitron)"
   ],
   "outputs": [
    {
     "output_type": "stream",
     "name": "stderr",
     "text": [
      "100%|██████████| 79/79 [00:00<00:00, 816.61it/s]\n"
     ]
    },
    {
     "output_type": "stream",
     "name": "stdout",
     "text": [
      "\n",
      "\n",
      "newmm accuracy : 92.461\n"
     ]
    }
   ],
   "metadata": {}
  },
  {
   "cell_type": "code",
   "execution_count": 39,
   "source": [
    "len(newmmWB)"
   ],
   "outputs": [
    {
     "output_type": "execute_result",
     "data": {
      "text/plain": [
       "1207"
      ]
     },
     "metadata": {},
     "execution_count": 39
    }
   ],
   "metadata": {}
  },
  {
   "cell_type": "code",
   "execution_count": 40,
   "source": [
    "attacutWB = accuracy(df,\"attacut\",dict_lexitron)"
   ],
   "outputs": [
    {
     "output_type": "stream",
     "name": "stderr",
     "text": [
      "100%|██████████| 79/79 [00:01<00:00, 44.23it/s]\n"
     ]
    },
    {
     "output_type": "stream",
     "name": "stdout",
     "text": [
      "\n",
      "\n",
      "attacut accuracy : 84.56\n"
     ]
    }
   ],
   "metadata": {}
  },
  {
   "cell_type": "code",
   "execution_count": 41,
   "source": [
    "len(attacutWB)"
   ],
   "outputs": [
    {
     "output_type": "execute_result",
     "data": {
      "text/plain": [
       "965"
      ]
     },
     "metadata": {},
     "execution_count": 41
    }
   ],
   "metadata": {}
  },
  {
   "cell_type": "code",
   "execution_count": 1,
   "source": [
    "print(\"dev puwadol branch\")"
   ],
   "outputs": [
    {
     "output_type": "stream",
     "name": "stdout",
     "text": [
      "dev puwadol branch\n"
     ]
    }
   ],
   "metadata": {}
  }
 ],
 "metadata": {
  "orig_nbformat": 4,
  "language_info": {
   "name": "python",
   "version": "3.8.5",
   "mimetype": "text/x-python",
   "codemirror_mode": {
    "name": "ipython",
    "version": 3
   },
   "pygments_lexer": "ipython3",
   "nbconvert_exporter": "python",
   "file_extension": ".py"
  },
  "kernelspec": {
   "name": "python3",
   "display_name": "Python 3.8.5 64-bit ('base': conda)"
  },
  "interpreter": {
   "hash": "b825cfde57f4fe2b066dee46d870faf19522c56f6a6e540eacd30e52a1215036"
  }
 },
 "nbformat": 4,
 "nbformat_minor": 2
}
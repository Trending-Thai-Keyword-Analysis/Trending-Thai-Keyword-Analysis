{
 "cells": [
  {
   "cell_type": "markdown",
   "metadata": {},
   "source": [
    "# Word Break Notebook"
   ]
  },
  {
   "cell_type": "code",
   "execution_count": 1,
   "metadata": {},
   "outputs": [
    {
     "name": "stderr",
     "output_type": "stream",
     "text": [
      "C:\\Users\\Alps\\anaconda3\\lib\\site-packages\\tqdm\\std.py:697: FutureWarning: The Panel class is removed from pandas. Accessing it from the top-level namespace will also be removed in the next version\n",
      "  from pandas import Panel\n"
     ]
    }
   ],
   "source": [
    "## PyThaiNLP\n",
    "import pandas as pd\n",
    "from pythainlp import word_tokenize as tokenize\n",
    "from pythainlp.util import *\n",
    "from tqdm.auto import tqdm\n",
    "import os\n",
    "tqdm.pandas()"
   ]
  },
  {
   "cell_type": "markdown",
   "metadata": {},
   "source": [
    "## Read DataFrame"
   ]
  },
  {
   "cell_type": "code",
   "execution_count": 2,
   "metadata": {},
   "outputs": [],
   "source": [
    "path = \"../assets/CleanedData\"\n",
    "agent = os.listdir(path)\n",
    "# print(agent)"
   ]
  },
  {
   "cell_type": "code",
   "execution_count": 3,
   "metadata": {},
   "outputs": [
    {
     "data": {
      "text/html": [
       "<div>\n",
       "<style scoped>\n",
       "    .dataframe tbody tr th:only-of-type {\n",
       "        vertical-align: middle;\n",
       "    }\n",
       "\n",
       "    .dataframe tbody tr th {\n",
       "        vertical-align: top;\n",
       "    }\n",
       "\n",
       "    .dataframe thead th {\n",
       "        text-align: right;\n",
       "    }\n",
       "</style>\n",
       "<table border=\"1\" class=\"dataframe\">\n",
       "  <thead>\n",
       "    <tr style=\"text-align: right;\">\n",
       "      <th></th>\n",
       "      <th>title</th>\n",
       "      <th>summary</th>\n",
       "      <th>link</th>\n",
       "      <th>published</th>\n",
       "    </tr>\n",
       "  </thead>\n",
       "  <tbody>\n",
       "    <tr>\n",
       "      <th>0</th>\n",
       "      <td>โอเชี่ยนผนึกไทยสมุทรปั๊มยอดอัดโปรฯซื้อบ้านแถมป...</td>\n",
       "      <td>“โอเชี่ยน พรอพเพอร์ตี้”เร่งปั๊มยอดขายไตรมาส 4 ...</td>\n",
       "      <td>https://bangkok-today.com/%e0%b9%82%e0%b8%ad%e...</td>\n",
       "      <td>01_10_2021</td>\n",
       "    </tr>\n",
       "    <tr>\n",
       "      <th>1</th>\n",
       "      <td>“บ้านเช่าอยุธยา” อีกตัวเลือกหนีความวุ่นวายจากก...</td>\n",
       "      <td>“อยุธยา” อีกหนึ่งจังหวัดที่อยู่ใกล้กรุงเทพฯ สา...</td>\n",
       "      <td>https://bangkok-today.com/%e0%b8%9a%e0%b9%89%e...</td>\n",
       "      <td>01_10_2021</td>\n",
       "    </tr>\n",
       "    <tr>\n",
       "      <th>2</th>\n",
       "      <td>“นาฬิกา” เครื่องประดับเสริมภาพลักษณ์ที่ควรมีไว...</td>\n",
       "      <td>ทุกวันนี้ผู้คนคุ้นเคยกับอุปกรณ์มากมาย เช่น สมา...</td>\n",
       "      <td>https://bangkok-today.com/%e0%b8%99%e0%b8%b2%e...</td>\n",
       "      <td>01_10_2021</td>\n",
       "    </tr>\n",
       "    <tr>\n",
       "      <th>3</th>\n",
       "      <td>อยากทาสีบ้านใหม่ สีรองพื้นปูนเก่าจำเป็นหรือไม่...</td>\n",
       "      <td>ใครที่กำลังคิดจะออกแบบปรับปรุงทาสีบ้านใหม่ จำเ...</td>\n",
       "      <td>https://bangkok-today.com/%e0%b8%ad%e0%b8%a2%e...</td>\n",
       "      <td>01_10_2021</td>\n",
       "    </tr>\n",
       "    <tr>\n",
       "      <th>4</th>\n",
       "      <td>“ค่ายโคลีเซี่ยม” จัดบวงสรวง 2 ละครฟอร์มยักษ์ “...</td>\n",
       "      <td>บริษัท โคลีเซี่ยม อินเตอร์กรุ๊ป จำกัด เปิดบวงส...</td>\n",
       "      <td>https://bangkok-today.com/%e0%b8%84%e0%b9%88%e...</td>\n",
       "      <td>01_10_2021</td>\n",
       "    </tr>\n",
       "    <tr>\n",
       "      <th>...</th>\n",
       "      <td>...</td>\n",
       "      <td>...</td>\n",
       "      <td>...</td>\n",
       "      <td>...</td>\n",
       "    </tr>\n",
       "    <tr>\n",
       "      <th>538</th>\n",
       "      <td>งานวิจัยชี้ ผู้ป่วยโควิด 37% มีโอกาสเกิดอาการร...</td>\n",
       "      <td>ผลการวิจัยของมหาวิทยาลัยอ็อกซ์ฟอร์ด (Oxford Un...</td>\n",
       "      <td>https://www.voathai.com/a/%e0%b8%87%e0%b8%b2%e...</td>\n",
       "      <td>01_10_2021</td>\n",
       "    </tr>\n",
       "    <tr>\n",
       "      <th>539</th>\n",
       "      <td>อินเดียกระตุ้นประเทศร่ำรวยทุ่มเงินแสนล้านต่อสู...</td>\n",
       "      <td>ที่ปรึกษาระดับสูงทางเศรษฐกิจของอินเดีย กล่าวกร...</td>\n",
       "      <td>https://www.voathai.com/a/%e0%b8%ad%e0%b8%b4%e...</td>\n",
       "      <td>01_10_2021</td>\n",
       "    </tr>\n",
       "    <tr>\n",
       "      <th>540</th>\n",
       "      <td>เศรษฐกิจเอเชียระส่ำจากวิกฤตขาดแคลนวัตถุดิบ-แรง...</td>\n",
       "      <td>สภาพเศรษฐกิจในเอเชียกำลังอยู่ในภาวะย่ำแย่ อันเ...</td>\n",
       "      <td>https://www.voathai.com/a/asia-economy-manufac...</td>\n",
       "      <td>01_10_2021</td>\n",
       "    </tr>\n",
       "    <tr>\n",
       "      <th>541</th>\n",
       "      <td>มาเลเซีย ประกาศพร้อมเพิ่มเม็ดเงินผลักดันแผนเศร...</td>\n",
       "      <td>มาเลเซียประกาศความพร้อมที่จะดำเนินแผนกระตุ้นเศ...</td>\n",
       "      <td>https://www.voathai.com/a/malaysia-carbon-neut...</td>\n",
       "      <td>01_10_2021</td>\n",
       "    </tr>\n",
       "    <tr>\n",
       "      <th>542</th>\n",
       "      <td>ก.พาณิชย์สหรัฐฯ เลื่อนประกาศคำสั่งเพิ่มภาษีนำเ...</td>\n",
       "      <td>สหรัฐฯ ตัดสินใจเลื่อนแผนเพิ่มภาษีนำเข้าแผงโซลา...</td>\n",
       "      <td>https://www.voathai.com/a/us-solar-cell-manufa...</td>\n",
       "      <td>01_10_2021</td>\n",
       "    </tr>\n",
       "  </tbody>\n",
       "</table>\n",
       "<p>543 rows × 4 columns</p>\n",
       "</div>"
      ],
      "text/plain": [
       "                                                 title  \\\n",
       "0    โอเชี่ยนผนึกไทยสมุทรปั๊มยอดอัดโปรฯซื้อบ้านแถมป...   \n",
       "1    “บ้านเช่าอยุธยา” อีกตัวเลือกหนีความวุ่นวายจากก...   \n",
       "2    “นาฬิกา” เครื่องประดับเสริมภาพลักษณ์ที่ควรมีไว...   \n",
       "3    อยากทาสีบ้านใหม่ สีรองพื้นปูนเก่าจำเป็นหรือไม่...   \n",
       "4    “ค่ายโคลีเซี่ยม” จัดบวงสรวง 2 ละครฟอร์มยักษ์ “...   \n",
       "..                                                 ...   \n",
       "538  งานวิจัยชี้ ผู้ป่วยโควิด 37% มีโอกาสเกิดอาการร...   \n",
       "539  อินเดียกระตุ้นประเทศร่ำรวยทุ่มเงินแสนล้านต่อสู...   \n",
       "540  เศรษฐกิจเอเชียระส่ำจากวิกฤตขาดแคลนวัตถุดิบ-แรง...   \n",
       "541  มาเลเซีย ประกาศพร้อมเพิ่มเม็ดเงินผลักดันแผนเศร...   \n",
       "542  ก.พาณิชย์สหรัฐฯ เลื่อนประกาศคำสั่งเพิ่มภาษีนำเ...   \n",
       "\n",
       "                                               summary  \\\n",
       "0    “โอเชี่ยน พรอพเพอร์ตี้”เร่งปั๊มยอดขายไตรมาส 4 ...   \n",
       "1    “อยุธยา” อีกหนึ่งจังหวัดที่อยู่ใกล้กรุงเทพฯ สา...   \n",
       "2    ทุกวันนี้ผู้คนคุ้นเคยกับอุปกรณ์มากมาย เช่น สมา...   \n",
       "3    ใครที่กำลังคิดจะออกแบบปรับปรุงทาสีบ้านใหม่ จำเ...   \n",
       "4    บริษัท โคลีเซี่ยม อินเตอร์กรุ๊ป จำกัด เปิดบวงส...   \n",
       "..                                                 ...   \n",
       "538  ผลการวิจัยของมหาวิทยาลัยอ็อกซ์ฟอร์ด (Oxford Un...   \n",
       "539  ที่ปรึกษาระดับสูงทางเศรษฐกิจของอินเดีย กล่าวกร...   \n",
       "540  สภาพเศรษฐกิจในเอเชียกำลังอยู่ในภาวะย่ำแย่ อันเ...   \n",
       "541  มาเลเซียประกาศความพร้อมที่จะดำเนินแผนกระตุ้นเศ...   \n",
       "542  สหรัฐฯ ตัดสินใจเลื่อนแผนเพิ่มภาษีนำเข้าแผงโซลา...   \n",
       "\n",
       "                                                  link   published  \n",
       "0    https://bangkok-today.com/%e0%b9%82%e0%b8%ad%e...  01_10_2021  \n",
       "1    https://bangkok-today.com/%e0%b8%9a%e0%b9%89%e...  01_10_2021  \n",
       "2    https://bangkok-today.com/%e0%b8%99%e0%b8%b2%e...  01_10_2021  \n",
       "3    https://bangkok-today.com/%e0%b8%ad%e0%b8%a2%e...  01_10_2021  \n",
       "4    https://bangkok-today.com/%e0%b8%84%e0%b9%88%e...  01_10_2021  \n",
       "..                                                 ...         ...  \n",
       "538  https://www.voathai.com/a/%e0%b8%87%e0%b8%b2%e...  01_10_2021  \n",
       "539  https://www.voathai.com/a/%e0%b8%ad%e0%b8%b4%e...  01_10_2021  \n",
       "540  https://www.voathai.com/a/asia-economy-manufac...  01_10_2021  \n",
       "541  https://www.voathai.com/a/malaysia-carbon-neut...  01_10_2021  \n",
       "542  https://www.voathai.com/a/us-solar-cell-manufa...  01_10_2021  \n",
       "\n",
       "[543 rows x 4 columns]"
      ]
     },
     "execution_count": 3,
     "metadata": {},
     "output_type": "execute_result"
    }
   ],
   "source": [
    "df = pd.DataFrame()\n",
    "date = \"01_10_2021\"\n",
    "\n",
    "for i in agent:\n",
    "    # print(path + \"/\" + i + \"/\" + date + \".csv\")\n",
    "    try:\n",
    "        df_temp = pd.read_csv(path + \"/\" + i + \"/\" + date + \".csv\")\n",
    "        df = df.append(df_temp, ignore_index=True)\n",
    "        # print(\"success\")\n",
    "    except:\n",
    "        pass\n",
    "\n",
    "df"
   ]
  },
  {
   "cell_type": "code",
   "execution_count": 4,
   "metadata": {},
   "outputs": [],
   "source": [
    "NEWMM = \"newmm\"\n",
    "ATTACUT = \"attacut\"\n",
    "list_column = df.columns.values.tolist()\n",
    "columnName = list_column[1]\n",
    "\n",
    "def word_break(news,engine):\n",
    "    segment = tokenize(news,keep_whitespace=False,engine=engine)\n",
    "    return segment"
   ]
  },
  {
   "cell_type": "markdown",
   "metadata": {},
   "source": [
    "## Word Break Example"
   ]
  },
  {
   "cell_type": "code",
   "execution_count": 5,
   "metadata": {},
   "outputs": [
    {
     "name": "stdout",
     "output_type": "stream",
     "text": [
      "ทุกวันนี้ผู้คนคุ้นเคยกับอุปกรณ์มากมาย เช่น สมาร์ทโฟน แท็บเล็ต คอมพิวเตอร์ แล็ปท็อป และอื่นๆ อีกมากมาย ที่ช่วยบอกเวลาได้ แต่ทำไมถึงยังต้องมีนาฬิกาข้อมือ? เพราะผู้คนใช้นาฬิกาไม่เพียงแต่เพื่อดูเวลาเท่านั้น แต่ยังแสดงถึงทัศนคติ สถานะ รสนิยม และความหลงใหลส่วนตัวอีกด้วย อย่างเช่น นาฬิกา Rolex (Rolex Watches)นาฬิกาสุดหรูสำหรับคนที่ต้องการเสริมภาพลักษณ์ให้กับตัวเองและทำไม Rolex ถึงกลายเป็นแบรนด์นาฬิกาสุดหรูชั้นนำของโลก หากคุณเป็นผู้ที่ชื่นชอบนาฬิกาและกำลังมองหานาฬิกาสักเรือนที่จะช่วยให้คุณดูดีมีรสนิยมยิ่งขึ้นนั้น ลองมาอ่านบทความนี้กัน เหตุผลที่ Rolex Watches เป็นนาฬิกาหรูหราที่ช่วยเสริมภาพลักษณ์ ทุกคนรู้จัก Rolex Watches ว่าเป็นนาฬิกาแบรนด์หรูและมีชื่อเสียงอย่างมาก แต่นอกเหนือไปจากความหรูหรามีระดับแล้วนั้น Rolex ยังเป็นเครื่องประดับที่มีเสน่ห์ และช่วยเสริมภาพลักษณ์ที่ดูดีให้กับผู้สวมใส่อีกด้วย รวมถึงเหตุผลดี ๆ เหล่านี้ เป็นแบรนด์หรูที่เป็นที่รู้จักมากที่สุด Rolex Watches เป็นที่รู้จักมากที่สุดในบรรดาแบรนด์นาฬิกาหรูของโลก โดยพื้นฐานแล้วมีกลุ่มลูกค้า Rolex สองกลุ่มผู้ที่รู้จักดี และผู้ที่รู้น้อยมาก ผู้ที่สนใจซื้อ Rolex นั้นเนื่องจากเป็นนาฬิกาที่มีคุณภาพสูงแล้ว ยังเป็นนาฬิกาที่ใช้งานได้รอบด้านที่ดีที่สุดสำหรับการสวมใส่ในชีวิตประจำวันและช่วยเพิ่มภาพลักษณ์ให้ดูดี ระดับคุณภาพสม่ำเสมอ พื้นฐานสำหรับความสำเร็จของ Rolex คือคุณภาพของผลิตภัณฑ์ที่สูงมากตลอดหลายปีที่ผ่านมา […] The post “นาฬิกา” เครื่องประดับเสริมภาพลักษณ์ที่ควรมีไว้ติดบ้าน first appeared on สำนักข่าว บางกอก ทูเดย์.\n",
      "ATTACUT : ทุก | วัน | นี้ | ผู้คน | คุ้นเคย | กับ | อุปกรณ์ | มากมาย | เช่น | สมาร์ทโฟน | แท็บเล็ต | คอมพิวเตอร์ | แล็ปท็อป | และ | อื่น | ๆ | อีก | มากมาย | ที่ | ช่วย | บอก | เวลา | ได้ | แต่ | ทำไม | ถึง | ยัง | ต้อง | มี | นาฬิกา | ข้อ | มือ | ? | เพราะ | ผู้คน | ใช้ | นาฬิกา | ไม่ | เพียง | แต่ | เพื่อ | ดู | เวลา | เท่า | นั้น | แต่ | ยัง | แสดง | ถึง | ทัศนคติ | สถานะ | รสนิยม | และ | ความ | หลงใหล | ส่วน | ตัว | อีก | ด้วย | อย่าง | เช่น | นาฬิกา | Rolex | ( | Rolex | Watches | ) | นาฬิกา | สุด | หรู | สำหรับ | คน | ที่ | ต้องการ | เสริม | ภาพลักษณ์ | ให้ | กับ | ตัว | เอง | และ | ทำไม | Rolex | ถึง | กลาย | เป็น | แบรนด์ | นาฬิกา | สุด | หรู | ชั้น | นำ | ของ | โลก | หาก | คุณ | เป็น | ผู้ | ที่ | ชื่นชอบ | นาฬิกา | และ | กำลัง | มอง | หา | นาฬิกา | สัก | เรือน | ที่ | จะ | ช่วย | ให้ | คุณ | ดู | ดี | มี | รสนิยม | ยิ่ง | ขึ้น | นั้น | ลอง | มา | อ่าน | บทความ | นี้ | กัน | เหตุผล | ที่ | Rolex | Watches | เป็น | นาฬิกา | หรูหรา | ที่ | ช่วย | เสริม | ภาพลักษณ์ | ทุก | คน | รู้จัก | Rolex | Watches | ว่า | เป็น | นาฬิกา | แบรนด์ | หรู | และ | มี | ชื่อเสียง | อย่าง | มาก | แต่ | นอกเหนือ | ไป | จาก | ความ | หรูหรา | มี | ระดับ | แล้ว | นั้น | Role | x | ยัง | เป็น | เครื่อง | ประดับ | ที่ | มี | เสน่ห์ | และ | ช่วย | เสริม | ภาพลักษณ์ | ที่ | ดู | ดี | ให้ | กับ | ผู้ | สวม | ใส่ | อีก | ด้วย | รวม | ถึง | เหตุผล | ดี | ๆ | เหล่า | นี้ | เป็น | แบรนด์ | หรู | ที่ | เป็น | ที่ | รู้จัก | มาก | ที่สุด | Rolex | Watches | เป็น | ที่ | รู้จัก | มาก | ที่สุด | ใน | บรรดา | แบรนด์ | นาฬิกา | หรู | ของ | โลก | โดย | พื้นฐาน | แล้ว | มี | กลุ่ม | ลูกค้า | Rolex | สอง | กลุ่ม | ผู้ | ที่ | รู้จัก | ดี | และ | ผู้ | ที่ | รู้ | น้อย | มาก | ผู้ | ที่ | สนใจ | ซื้อ | Rolex | นั้น | เนื่อง | จาก | เป็น | นาฬิกา | ที่ | มี | คุณภาพ | สูง | แล้ว | ยัง | เป็น | นาฬิกา | ที่ | ใช้ | งาน | ได้ | รอบ | ด้าน | ที่ | ดี | ที่สุด | สำหรับ | การ | สวมใส่ | ใน | ชีวิต | ประจำ | วัน | และ | ช่วย | เพิ่ม | ภาพลักษณ์ | ให้ | ดู | ดี | ระดับ | คุณภาพ | สม่ำเสมอ | พื้นฐาน | สำหรับ | ความ | สำเร็จ | ของ | Role | x | คือ | คุณภาพ | ของ | ผลิตภัณฑ์ | ที่ | สูง | มาก | ตลอด | หลาย | ปี | ที่ | ผ่าน | มา | [ | … | ] | The | post | “ | นาฬิกา | ” | เครื่อง | ประดับ | เสริม | ภาพลักษณ์ | ที่ | ควร | มี | ไว้ | ติด | บ้าน | first | appeared | on | สำนักข่าว | บางกอก ทู | เดย์ | .\n",
      "NEWMM : ทุกวันนี้ | ผู้ | คนคุ้นเคย | กับ | อุปกรณ์ | มากมาย | เช่น | สมาร์ท | โฟน | แท็บเล็ต | คอมพิวเตอร์ | แล็ปท็อป | และ | อื่นๆ | อีก | มากมาย | ที่ | ช่วย | บอก | เวลา | ได้ | แต่ | ทำไม | ถึง | ยัง | ต้อง | มี | นาฬิกาข้อมือ | ? | เพราะ | ผู้ | คนใช้ | นาฬิกา | ไม่เพียงแต่ | เพื่อ | ดู | เวลา | เท่านั้น | แต่ | ยัง | แสดงถึง | ทัศนคติ | สถานะ | รสนิยม | และ | ความ | หลงใหล | ส่วนตัว | อีกด้วย | อย่างเช่น | นาฬิกา | Rolex | ( | Rolex | Watches | ) | นาฬิกา | สุด | หรู | สำหรับ | คน | ที่ | ต้องการ | เสริม | ภาพลักษณ์ | ให้ | กับ | ตัวเอง | และ | ทำไม | Rolex | ถึง | กลายเป็น | แบรนด์ | นาฬิกา | สุด | หรู | ชั้นนำ | ของ | โลก | หาก | คุณ | เป็น | ผู้ | ที่ | ชื่นชอบ | นาฬิกา | และ | กำลัง | มองหา | นาฬิกา | สัก | เรือน | ที่จะ | ช่วย | ให้ | คุณ | ดูดี | มี | รสนิยม | ยิ่งขึ้น | นั้น | ลอง | มา | อ่าน | บทความ | นี้ | กัน | เหตุผล | ที่ | Rolex | Watches | เป็น | นาฬิกา | หรูหรา | ที่ | ช่วย | เสริม | ภาพลักษณ์ | ทุก | คนรู้จัก | Rolex | Watches | ว่า | เป็น | นาฬิกา | แบรนด์ | หรู | และ | มีชื่อเสียง | อย่าง | มาก | แต่ | นอกเหนือ | ไป | จาก | ความหรูหรา | มีระดับ | แล้ว | นั้น | Rolex | ยัง | เป็น | เครื่องประดับ | ที่ | มีเสน่ห์ | และ | ช่วย | เสริม | ภาพลักษณ์ | ที่ | ดูดี | ให้ | กับ | ผู้ | สวมใส่ | อีกด้วย | รวมถึง | เหตุผล | ดี ๆ | เหล่านี้ | เป็น | แบรนด์ | หรู | ที่ | เป็นที่รู้จัก | มาก | ที่สุด | Rolex | Watches | เป็นที่รู้จัก | มาก | ที่สุด | ใน | บรรดา | แบรนด์ | นาฬิกา | หรู | ของ | โลก | โดย | พื้นฐาน | แล้ว | มี | กลุ่ม | ลูกค้า | Rolex | สอง | กลุ่ม | ผู้ | ที่ | รู้จัก | ดี | และ | ผู้ | ที่ | รู้ | น้อย | มาก | ผู้ | ที่ | สนใจ | ซื้อ | Rolex | นั้น | เนื่องจาก | เป็น | นาฬิกา | ที่ | มี | คุณภาพ | สูง | แล้ว | ยัง | เป็น | นาฬิกา | ที่ | ใช้งาน | ได้ | รอบด้าน | ที่ | ดี | ที่สุด | สำหรับ | การ | สวมใส่ | ใน | ชีวิตประจำวัน | และ | ช่วย | เพิ่ม | ภาพลักษณ์ | ให้ | ดูดี | ระดับ | คุณภาพ | สม่ำเสมอ | พื้นฐาน | สำหรับ | ความสำเร็จ | ของ | Rolex | คือ | คุณภาพ | ของ | ผลิตภัณฑ์ | ที่สูง | มาก | ตลอด | หลาย | ปี | ที่ผ่านมา | […] | The | post | “ | นาฬิกา | ” | เครื่องประดับ | เสริม | ภาพลักษณ์ | ที่ | ควร | มี | ไว้ | ติด | บ้าน | first | appeared | on | สำนักข่าว | บางกอก | ทูเดย์ | .\n"
     ]
    }
   ],
   "source": [
    "text = df[columnName].iloc[2]\n",
    "print(text)\n",
    "print(\"ATTACUT : \" + \" | \".join(word_break(text,ATTACUT)))\n",
    "print(\"NEWMM : \" + \" | \".join(word_break(text,NEWMM)))"
   ]
  },
  {
   "cell_type": "code",
   "execution_count": 7,
   "metadata": {},
   "outputs": [
    {
     "data": {
      "text/plain": [
       "['ก.', 'ก.ค.', 'ก.ต.', 'ก.ป.ส.', 'ก.พ.']"
      ]
     },
     "execution_count": 7,
     "metadata": {},
     "output_type": "execute_result"
    }
   ],
   "source": [
    "text_file = open(\"../assets/Dict/lexitron.txt\", \"r\",encoding=\"utf-8\")\n",
    "content = text_file.read()\n",
    "dict_lexitron = content.split(\"\\n\")\n",
    "text_file.close()\n",
    "dict_lexitron[:5]"
   ]
  },
  {
   "cell_type": "code",
   "execution_count": 8,
   "metadata": {},
   "outputs": [
    {
     "data": {
      "text/plain": [
       "['the', 'of', 'and', 'to', 'university']"
      ]
     },
     "execution_count": 8,
     "metadata": {},
     "output_type": "execute_result"
    }
   ],
   "source": [
    "text_file = open(\"../assets/Dict/remove_alien_3.txt\", \"r\",encoding=\"utf-8\")\n",
    "content = text_file.read()\n",
    "dict_thai2vec = content.split(\"\\n\")\n",
    "text_file.close()\n",
    "dict_thai2vec[:5]"
   ]
  },
  {
   "cell_type": "code",
   "execution_count": 9,
   "metadata": {},
   "outputs": [],
   "source": [
    "newmmWB = []\n",
    "attacutWB = []"
   ]
  },
  {
   "cell_type": "code",
   "execution_count": 10,
   "metadata": {},
   "outputs": [],
   "source": [
    "def cumulate_wb(df_news,engine):\n",
    "  all = set()\n",
    "  for i in tqdm(range(len(df_news))):\n",
    "    all = all.union(set(word_break(df_news.iloc[i][columnName],engine)))\n",
    "  mylist = list(all)\n",
    "  mylist = [word for word in mylist if isthai(word,ignore_chars='.()-')]\n",
    "  return mylist"
   ]
  },
  {
   "cell_type": "code",
   "execution_count": 11,
   "metadata": {},
   "outputs": [],
   "source": [
    "def accuracy(df_news,engine,dict_list):\n",
    "  result = cumulate_wb(df_news,engine)\n",
    "  amount = len(result)\n",
    "  inDict = [word for word in result if word in dict_list]\n",
    "  isThai = len(inDict)\n",
    "  print('\\n')\n",
    "  print(str(engine) + ' accuracy : ' + str(round((isThai / amount)*100,3)))\n",
    "  return result"
   ]
  },
  {
   "cell_type": "code",
   "execution_count": 12,
   "metadata": {},
   "outputs": [
    {
     "name": "stderr",
     "output_type": "stream",
     "text": [
      "100%|██████████| 543/543 [00:01<00:00, 478.82it/s]\n"
     ]
    },
    {
     "name": "stdout",
     "output_type": "stream",
     "text": [
      "\n",
      "\n",
      "newmm accuracy : 88.358\n"
     ]
    }
   ],
   "source": [
    "newmmWB = accuracy(df,\"newmm\",dict_lexitron)"
   ]
  },
  {
   "cell_type": "code",
   "execution_count": 13,
   "metadata": {},
   "outputs": [
    {
     "data": {
      "text/plain": [
       "6571"
      ]
     },
     "execution_count": 13,
     "metadata": {},
     "output_type": "execute_result"
    }
   ],
   "source": [
    "len(newmmWB)"
   ]
  },
  {
   "cell_type": "code",
   "execution_count": 14,
   "metadata": {},
   "outputs": [
    {
     "name": "stderr",
     "output_type": "stream",
     "text": [
      "100%|██████████| 543/543 [00:17<00:00, 30.83it/s]\n"
     ]
    },
    {
     "name": "stdout",
     "output_type": "stream",
     "text": [
      "\n",
      "\n",
      "attacut accuracy : 65.428\n"
     ]
    }
   ],
   "source": [
    "attacutWB = accuracy(df,\"attacut\",dict_lexitron)"
   ]
  },
  {
   "cell_type": "code",
   "execution_count": 15,
   "metadata": {},
   "outputs": [
    {
     "data": {
      "text/plain": [
       "5085"
      ]
     },
     "execution_count": 15,
     "metadata": {},
     "output_type": "execute_result"
    }
   ],
   "source": [
    "len(attacutWB)"
   ]
  }
 ],
 "metadata": {
  "interpreter": {
   "hash": "b825cfde57f4fe2b066dee46d870faf19522c56f6a6e540eacd30e52a1215036"
  },
  "kernelspec": {
   "display_name": "Python 3.8.5 64-bit ('base': conda)",
   "name": "python3"
  },
  "language_info": {
   "codemirror_mode": {
    "name": "ipython",
    "version": 3
   },
   "file_extension": ".py",
   "mimetype": "text/x-python",
   "name": "python",
   "nbconvert_exporter": "python",
   "pygments_lexer": "ipython3",
   "version": "3.8.5"
  },
  "orig_nbformat": 4
 },
 "nbformat": 4,
 "nbformat_minor": 2
}

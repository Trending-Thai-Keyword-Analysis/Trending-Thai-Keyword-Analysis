{
 "cells": [
  {
   "cell_type": "markdown",
   "metadata": {},
   "source": [
    "# Word Break Notebook"
   ]
  },
  {
   "cell_type": "code",
   "execution_count": 1,
   "metadata": {},
   "outputs": [
    {
     "name": "stderr",
     "output_type": "stream",
     "text": [
      "C:\\Users\\Alps\\anaconda3\\lib\\site-packages\\tqdm\\std.py:697: FutureWarning: The Panel class is removed from pandas. Accessing it from the top-level namespace will also be removed in the next version\n",
      "  from pandas import Panel\n"
     ]
    }
   ],
   "source": [
    "## PyThaiNLP\n",
    "import pandas as pd\n",
    "from pythainlp import word_tokenize as tokenize\n",
    "from pythainlp.util import *\n",
    "from tqdm.auto import tqdm\n",
    "import os\n",
    "tqdm.pandas()"
   ]
  },
  {
   "cell_type": "markdown",
   "metadata": {},
   "source": [
    "## Read DataFrame"
   ]
  },
  {
   "cell_type": "code",
   "execution_count": 2,
   "metadata": {},
   "outputs": [],
   "source": [
    "path = \"../assets/CleanedData\"\n",
    "agent = os.listdir(path)\n",
    "# print(agent)"
   ]
  },
  {
   "cell_type": "code",
   "execution_count": 4,
   "metadata": {},
   "outputs": [
    {
     "data": {
      "text/html": [
       "<div>\n",
       "<style scoped>\n",
       "    .dataframe tbody tr th:only-of-type {\n",
       "        vertical-align: middle;\n",
       "    }\n",
       "\n",
       "    .dataframe tbody tr th {\n",
       "        vertical-align: top;\n",
       "    }\n",
       "\n",
       "    .dataframe thead th {\n",
       "        text-align: right;\n",
       "    }\n",
       "</style>\n",
       "<table border=\"1\" class=\"dataframe\">\n",
       "  <thead>\n",
       "    <tr style=\"text-align: right;\">\n",
       "      <th></th>\n",
       "      <th>title</th>\n",
       "      <th>summary</th>\n",
       "      <th>link</th>\n",
       "      <th>published</th>\n",
       "    </tr>\n",
       "  </thead>\n",
       "  <tbody>\n",
       "    <tr>\n",
       "      <th>0</th>\n",
       "      <td>“มิสยูนิเวิร์สไทยแลนด์ 2021” พร้อมใจกันตักบาตร...</td>\n",
       "      <td>กองประกวด “มิสยูนิเวิร์สไทยแลนด์ 2021” (Miss U...</td>\n",
       "      <td>https://bangkok-today.com/%e0%b8%a1%e0%b8%b4%e...</td>\n",
       "      <td>10_10_2021</td>\n",
       "    </tr>\n",
       "    <tr>\n",
       "      <th>1</th>\n",
       "      <td>อดีตในการ “ปราบม็อบ”..มักชอบอ้างมีอาวุธ??</td>\n",
       "      <td>“ร้องไห้คร่ำครวญกลางที่ประชุมครม.” “อดีตรัฐมนต...</td>\n",
       "      <td>https://bangkok-today.com/%e0%b8%ad%e0%b8%94%e...</td>\n",
       "      <td>10_10_2021</td>\n",
       "    </tr>\n",
       "    <tr>\n",
       "      <th>2</th>\n",
       "      <td>ร็อคกิ้งคิดส์ฉลองเปิด Rocking Kids Store ศูนย์...</td>\n",
       "      <td>แบรนด์ Rocking Kids (ร็อคกิ้งคิดส์) จุดพลุฉลอง...</td>\n",
       "      <td>https://bangkok-today.com/%e0%b8%a3%e0%b9%87%e...</td>\n",
       "      <td>10_10_2021</td>\n",
       "    </tr>\n",
       "    <tr>\n",
       "      <th>3</th>\n",
       "      <td>โควิดดันราคารถมือสองไทยปรับขึ้นชั่วคราว จับตาส...</td>\n",
       "      <td>การแพร่ระบาดของโควิดไปทั่วโลก แม้ด้านหนึ่งจะส่...</td>\n",
       "      <td>https://bangkok-today.com/%e0%b9%82%e0%b8%84%e...</td>\n",
       "      <td>10_10_2021</td>\n",
       "    </tr>\n",
       "    <tr>\n",
       "      <th>4</th>\n",
       "      <td>โรงพยาบาลเอกชนปี’ 64 คาดรายได้ฟื้นตัวจากฐานที่...</td>\n",
       "      <td>การระบาดของโควิดที่รุนแรงขึ้นโดยเฉพาะในช่วงเมษ...</td>\n",
       "      <td>https://bangkok-today.com/%e0%b9%82%e0%b8%a3%e...</td>\n",
       "      <td>10_10_2021</td>\n",
       "    </tr>\n",
       "    <tr>\n",
       "      <th>...</th>\n",
       "      <td>...</td>\n",
       "      <td>...</td>\n",
       "      <td>...</td>\n",
       "      <td>...</td>\n",
       "    </tr>\n",
       "    <tr>\n",
       "      <th>573</th>\n",
       "      <td>&amp;quot;ซานโตส&amp;quot; จวก &amp;quot;โซลชาร์&amp;quot; ใช้...</td>\n",
       "      <td>โซลชาร์ โดนด่าอีกแล้ว หลังกุนซือทีมชาติโปรตุเก...</td>\n",
       "      <td>https://www.thairath.co.th/sport/eurofootball/...</td>\n",
       "      <td>10_10_2021</td>\n",
       "    </tr>\n",
       "    <tr>\n",
       "      <th>574</th>\n",
       "      <td>บุหรี่ขาดตลาด สรรพสามิต เร่งหาต้นตอปัญหา คนเริ...</td>\n",
       "      <td>บุหรี่ขาดตลาด หลังปรับโครงสร้างภาษีใหม่ ขณะที่...</td>\n",
       "      <td>https://www.thairath.co.th/business/economics/...</td>\n",
       "      <td>10_10_2021</td>\n",
       "    </tr>\n",
       "    <tr>\n",
       "      <th>575</th>\n",
       "      <td>เกือบเนียน แฟนบอลปารากวัย สวมรอยเป็นนักเตะก่อน...</td>\n",
       "      <td>แฟนบอลปารากวัย ตีเนียนสวมรอยเป็นนักเตะทีมชาติ ...</td>\n",
       "      <td>https://www.thairath.co.th/sport/worldcup/2215752</td>\n",
       "      <td>10_10_2021</td>\n",
       "    </tr>\n",
       "    <tr>\n",
       "      <th>576</th>\n",
       "      <td>เผยคนร้องเรียนถูกหลอกขายของออนไลน์จากเฟซบุ๊กมา...</td>\n",
       "      <td>รัฐบาลเร่งดำเนินคดีฉ้อโกง หลอกขายของออนไลน์ พบ...</td>\n",
       "      <td>https://www.thairath.co.th/news/politic/2215811</td>\n",
       "      <td>10_10_2021</td>\n",
       "    </tr>\n",
       "    <tr>\n",
       "      <th>577</th>\n",
       "      <td>เบื้องหลัง ‘หญิงหน่อย’ เยือนอเมริกา หาช่องเอกช...</td>\n",
       "      <td>‘วีโอเอ ไทย’ สนทนาพิเศษ กับ คุณหญิงสุดารัตน์ เ...</td>\n",
       "      <td>https://www.voathai.com/a/exclusive-interview-...</td>\n",
       "      <td>10_10_2021</td>\n",
       "    </tr>\n",
       "  </tbody>\n",
       "</table>\n",
       "<p>578 rows × 4 columns</p>\n",
       "</div>"
      ],
      "text/plain": [
       "                                                 title  \\\n",
       "0    “มิสยูนิเวิร์สไทยแลนด์ 2021” พร้อมใจกันตักบาตร...   \n",
       "1            อดีตในการ “ปราบม็อบ”..มักชอบอ้างมีอาวุธ??   \n",
       "2    ร็อคกิ้งคิดส์ฉลองเปิด Rocking Kids Store ศูนย์...   \n",
       "3    โควิดดันราคารถมือสองไทยปรับขึ้นชั่วคราว จับตาส...   \n",
       "4    โรงพยาบาลเอกชนปี’ 64 คาดรายได้ฟื้นตัวจากฐานที่...   \n",
       "..                                                 ...   \n",
       "573  &quot;ซานโตส&quot; จวก &quot;โซลชาร์&quot; ใช้...   \n",
       "574  บุหรี่ขาดตลาด สรรพสามิต เร่งหาต้นตอปัญหา คนเริ...   \n",
       "575  เกือบเนียน แฟนบอลปารากวัย สวมรอยเป็นนักเตะก่อน...   \n",
       "576  เผยคนร้องเรียนถูกหลอกขายของออนไลน์จากเฟซบุ๊กมา...   \n",
       "577  เบื้องหลัง ‘หญิงหน่อย’ เยือนอเมริกา หาช่องเอกช...   \n",
       "\n",
       "                                               summary  \\\n",
       "0    กองประกวด “มิสยูนิเวิร์สไทยแลนด์ 2021” (Miss U...   \n",
       "1    “ร้องไห้คร่ำครวญกลางที่ประชุมครม.” “อดีตรัฐมนต...   \n",
       "2    แบรนด์ Rocking Kids (ร็อคกิ้งคิดส์) จุดพลุฉลอง...   \n",
       "3    การแพร่ระบาดของโควิดไปทั่วโลก แม้ด้านหนึ่งจะส่...   \n",
       "4    การระบาดของโควิดที่รุนแรงขึ้นโดยเฉพาะในช่วงเมษ...   \n",
       "..                                                 ...   \n",
       "573  โซลชาร์ โดนด่าอีกแล้ว หลังกุนซือทีมชาติโปรตุเก...   \n",
       "574  บุหรี่ขาดตลาด หลังปรับโครงสร้างภาษีใหม่ ขณะที่...   \n",
       "575  แฟนบอลปารากวัย ตีเนียนสวมรอยเป็นนักเตะทีมชาติ ...   \n",
       "576  รัฐบาลเร่งดำเนินคดีฉ้อโกง หลอกขายของออนไลน์ พบ...   \n",
       "577  ‘วีโอเอ ไทย’ สนทนาพิเศษ กับ คุณหญิงสุดารัตน์ เ...   \n",
       "\n",
       "                                                  link   published  \n",
       "0    https://bangkok-today.com/%e0%b8%a1%e0%b8%b4%e...  10_10_2021  \n",
       "1    https://bangkok-today.com/%e0%b8%ad%e0%b8%94%e...  10_10_2021  \n",
       "2    https://bangkok-today.com/%e0%b8%a3%e0%b9%87%e...  10_10_2021  \n",
       "3    https://bangkok-today.com/%e0%b9%82%e0%b8%84%e...  10_10_2021  \n",
       "4    https://bangkok-today.com/%e0%b9%82%e0%b8%a3%e...  10_10_2021  \n",
       "..                                                 ...         ...  \n",
       "573  https://www.thairath.co.th/sport/eurofootball/...  10_10_2021  \n",
       "574  https://www.thairath.co.th/business/economics/...  10_10_2021  \n",
       "575  https://www.thairath.co.th/sport/worldcup/2215752  10_10_2021  \n",
       "576    https://www.thairath.co.th/news/politic/2215811  10_10_2021  \n",
       "577  https://www.voathai.com/a/exclusive-interview-...  10_10_2021  \n",
       "\n",
       "[578 rows x 4 columns]"
      ]
     },
     "execution_count": 4,
     "metadata": {},
     "output_type": "execute_result"
    }
   ],
   "source": [
    "df = pd.DataFrame()\n",
    "date = \"10_10_2021\"\n",
    "\n",
    "for i in agent:\n",
    "    # print(path + \"/\" + i + \"/\" + date + \".csv\")\n",
    "    try:\n",
    "        df_temp = pd.read_csv(path + \"/\" + i + \"/\" + date + \".csv\")\n",
    "        df = df.append(df_temp, ignore_index=True)\n",
    "        # print(\"success\")\n",
    "    except:\n",
    "        pass\n",
    "\n",
    "df"
   ]
  },
  {
   "cell_type": "code",
   "execution_count": 5,
   "metadata": {},
   "outputs": [],
   "source": [
    "NEWMM = \"newmm\"\n",
    "ATTACUT = \"attacut\"\n",
    "list_column = df.columns.values.tolist()\n",
    "columnName = list_column[1]\n",
    "\n",
    "def word_break(news,engine):\n",
    "    segment = tokenize(news,keep_whitespace=False,engine=engine)\n",
    "    return segment"
   ]
  },
  {
   "cell_type": "markdown",
   "metadata": {},
   "source": [
    "## Word Break Example"
   ]
  },
  {
   "cell_type": "code",
   "execution_count": 6,
   "metadata": {},
   "outputs": [
    {
     "name": "stdout",
     "output_type": "stream",
     "text": [
      "แบรนด์ Rocking Kids (ร็อคกิ้งคิดส์) จุดพลุฉลองเปิด Rocking Kids Store ศูนย์การค้าเมกาบางนาสาขาแรก แกะกล่องผลิตภัณฑ์ใหม่รถเข็นเด็กสุดยอดนวัตกรรมดีไซน์ QTUS OWL สัญชาติเยอรมันนี เน้นเจาะเด็กแรกเกิด -4 ขวบ และคาร์ซีทอันดับ 1 มาตรฐานความปลอดภัยจากยุโรป Apramo Uniques มาพร้อมอุปกรณ์เสริมแบบ Full Options สำหรับโค้งสุดท้าย Q 4 คลายล็อกดาวน์โหมกิจกรรมการตลาดหนัก “Rocking Kids Happy Moms ช้อปเพื่อลูก คุ้มเพื่อแม่” & Happy Halloween ตั้งแต่วันที่ 1-31 ตค ศกนี้ วางหมากกลยุทธ์การตลาดปี 2565 เล็งขยายโชว์รูมทำเลใจกลางเมืองต่อเนื่อง คัดแบรนด์ระดับโลกกระตุ้นยอดขาย มัดใจลูกค้ากลุ่มพรีเมี่ยมคาดยอดขายทะยานกว่า 40 % นายปริญญ์ เสริมพงศ์ ประธานเจ้าหน้าที่บริหาร ( Chief Executive Officer […] The post ร็อคกิ้งคิดส์ฉลองเปิด Rocking Kids Store ศูนย์การค้าเมกาบางนาสาขาแรก แกะกล่องผลิตภัณฑ์ใหม่รถเข็นเด็กสุดยอดนวัตกรรมดีไซน์ QTUS OWL สัญชาติเยอรมันนี first appeared on สำนักข่าว บางกอก ทูเดย์.\n",
      "ATTACUT : แบรนด์ | Rocking | Kids | ( | ร็อคกิ้งคิดส์ | ) | จุด | พลุ | ฉลอง | เปิด | Rocking Kids | Store | ศูนย์การค้าเมกา | บางนา | สา | ขา | แรก | แกะ | กล่อง | ผลิตภัณฑ์ | ใหม่ | รถ | เข็น | เด็ก | สุด | ยอด | นวัตกรรม | ดีไซน์ | QTUS | OWL | สัญชาติ | เยอรมันนี | เน้น | เจาะ | เด็ก | แรก | เกิด | - | 4 | ขวบ | และ | คาร์ซีท | อันดับ | 1 | มาตรฐาน | ความ | ปลอด | ภัย | จาก | ยุโรป | Apramo Uniques | มา | พร้อม | อุปกรณ์ | เสริม | แบบ | Full | Options | สำหรับ | โค้ง | สุดท้าย | Q | 4 | คลาย | ล็อก | ดาวน์โหม | กิจกรรม | การ | ตลาด | หนัก | “ | Rocking Kids | Happy | Moms | ช้อป | เพื่อ | ลูก | คุ้ม | เพื่อ | แม่ | ” | & | Happy | Halloween | ตั้งแต่ | วัน | ที่ | 1 | - | 31 | ตค | ศก | นี้ | วาง | หมาก | กลยุทธ์ | การ | ตลาด | ปี | 2565 | เล็ง | ขยาย | โชว์ | รูม | ทำเล | ใจ | กลาง | เมือง | ต่อเนื่อง | คัด | แบรนด์ | ระดับ | โลก | กระตุ้น | ยอด | ขาย | มัดใจ | ลูกค้า | กลุ่ม | พรีเมี่ยม | คาด | ยอด | ขาย | ทะยาน | กว่า | 40 | % | นายปริญญ์ เสริมพงศ์ | ประธาน | เจ้าหน้าที่ | บริหาร | ( | Chief | Executive | Officer | [ | … | ] | The | post | ร็อคกิ้งคิดส์ | ฉลอง | เปิด | Rocking Kids | Store | ศูนย์การค้าเมกา | บางนา | สา | ขา | แรก | แกะ | กล่อง | ผลิตภัณฑ์ | ใหม่ | รถ | เข็น | เด็ก | สุด | ยอด | นวัตกรรม | ดีไซน์ | QTUS | OWL | สัญชาติ | เยอรมันนี | first | appeared | on | สำนักข่าว | บางกอก ทู | เดย์ | .\n",
      "NEWMM : แบรนด์ | Rocking | Kids | ( | ร็อค | กิ้ง | คิด | ส์) | จุด | พลุ | ฉลอง | เปิด | Rocking | Kids | Store | ศูนย์การค้า | เม | กา | บางนา | สาขา | แรก | แกะ | กล่อง | ผลิตภัณฑ์ | ใหม่ | รถเข็น | เด็ก | สุดยอด | นวัตกรรม | ดีไซน์ | QTUS | OWL | สัญชาติ | เย | อร | มันนี | เน้น | เจาะ | เด็กแรกเกิด | - | 4 | ขวบ | และ | คาร์ | ซี | ท | อันดับ | 1 | มาตรฐาน | ความปลอดภัย | จาก | ยุโรป | Apramo | Uniques | มา | พร้อม | อุปกรณ์ | เสริม | แบบ | Full | Options | สำหรับ | โค้งสุดท้าย | Q | 4 | คลาย | ล็อก | ดาวน์ | โหม | กิจกรรม | การตลาด | หนัก | “ | Rocking | Kids | Happy | Moms | ช้อป | เพื่อ | ลูก | คุ้ม | เพื่อ | แม่ | ” | & | Happy | Halloween | ตั้งแต่ | วันที่ | 1 | - | 31 | ตค | ศกนี้ | วางหมาก | กลยุทธ์ | การตลาด | ปี | 2565 | เล็ง | ขยาย | โชว์รูม | ทำเล | ใจ | กลางเมือง | ต่อเนื่อง | คัด | แบรนด์ | ระดับโลก | กระตุ้น | ยอดขาย | มัด | ใจ | ลูกค้า | กลุ่ม | พรีเมี่ยม | คาด | ยอดขาย | ทะยาน | กว่า | 40 | % | นาย | ปริ | ญญ์ | เสริม | พงศ์ | ประธาน | เจ้าหน้าที่ | บริหาร | ( | Chief | Executive | Officer | […] | The | post | ร็อค | กิ้ง | คิด | ส์ | ฉลอง | เปิด | Rocking | Kids | Store | ศูนย์การค้า | เม | กา | บางนา | สาขา | แรก | แกะ | กล่อง | ผลิตภัณฑ์ | ใหม่ | รถเข็น | เด็ก | สุดยอด | นวัตกรรม | ดีไซน์ | QTUS | OWL | สัญชาติ | เย | อร | มันนี | first | appeared | on | สำนักข่าว | บางกอก | ทูเดย์ | .\n"
     ]
    }
   ],
   "source": [
    "text = df[columnName].iloc[2]\n",
    "print(text)\n",
    "print(\"ATTACUT : \" + \" | \".join(word_break(text,ATTACUT)))\n",
    "print(\"NEWMM : \" + \" | \".join(word_break(text,NEWMM)))"
   ]
  },
  {
   "cell_type": "code",
   "execution_count": 7,
   "metadata": {},
   "outputs": [
    {
     "data": {
      "text/plain": [
       "['ก.', 'ก.ค.', 'ก.ต.', 'ก.ป.ส.', 'ก.พ.']"
      ]
     },
     "execution_count": 7,
     "metadata": {},
     "output_type": "execute_result"
    }
   ],
   "source": [
    "text_file = open(\"../assets/Dict/lexitron.txt\", \"r\",encoding=\"utf-8\")\n",
    "content = text_file.read()\n",
    "dict_lexitron = content.split(\"\\n\")\n",
    "text_file.close()\n",
    "dict_lexitron[:5]"
   ]
  },
  {
   "cell_type": "code",
   "execution_count": 8,
   "metadata": {},
   "outputs": [
    {
     "data": {
      "text/plain": [
       "['the', 'of', 'and', 'to', 'university']"
      ]
     },
     "execution_count": 8,
     "metadata": {},
     "output_type": "execute_result"
    }
   ],
   "source": [
    "text_file = open(\"../assets/Dict/remove_alien_3.txt\", \"r\",encoding=\"utf-8\")\n",
    "content = text_file.read()\n",
    "dict_thai2vec = content.split(\"\\n\")\n",
    "text_file.close()\n",
    "dict_thai2vec[:5]"
   ]
  },
  {
   "cell_type": "code",
   "execution_count": 9,
   "metadata": {},
   "outputs": [],
   "source": [
    "newmmWB = []\n",
    "attacutWB = []"
   ]
  },
  {
   "cell_type": "code",
   "execution_count": 10,
   "metadata": {},
   "outputs": [],
   "source": [
    "def cumulate_wb(df_news,engine):\n",
    "  all = set()\n",
    "  for i in tqdm(range(len(df_news))):\n",
    "    all = all.union(set(word_break(df_news.iloc[i][columnName],engine)))\n",
    "  mylist = list(all)\n",
    "  mylist = [word for word in mylist if isthai(word,ignore_chars='.()-')]\n",
    "  return mylist"
   ]
  },
  {
   "cell_type": "code",
   "execution_count": 11,
   "metadata": {},
   "outputs": [],
   "source": [
    "def accuracy(df_news,engine,dict_list):\n",
    "  result = cumulate_wb(df_news,engine)\n",
    "  amount = len(result)\n",
    "  inDict = [word for word in result if word in dict_list]\n",
    "  isThai = len(inDict)\n",
    "  print('\\n')\n",
    "  print(str(engine) + ' accuracy : ' + str(round((isThai / amount)*100,3)))\n",
    "  return result"
   ]
  },
  {
   "cell_type": "code",
   "execution_count": 12,
   "metadata": {},
   "outputs": [
    {
     "name": "stderr",
     "output_type": "stream",
     "text": [
      "100%|██████████| 578/578 [00:02<00:00, 209.63it/s]\n"
     ]
    },
    {
     "name": "stdout",
     "output_type": "stream",
     "text": [
      "\n",
      "\n",
      "newmm accuracy : 88.022\n"
     ]
    }
   ],
   "source": [
    "newmmWB = accuracy(df,\"newmm\",dict_lexitron)"
   ]
  },
  {
   "cell_type": "code",
   "execution_count": 13,
   "metadata": {},
   "outputs": [
    {
     "data": {
      "text/plain": [
       "7380"
      ]
     },
     "execution_count": 13,
     "metadata": {},
     "output_type": "execute_result"
    }
   ],
   "source": [
    "len(newmmWB)"
   ]
  },
  {
   "cell_type": "code",
   "execution_count": 14,
   "metadata": {},
   "outputs": [
    {
     "name": "stderr",
     "output_type": "stream",
     "text": [
      "100%|██████████| 578/578 [00:27<00:00, 20.80it/s]\n"
     ]
    },
    {
     "name": "stdout",
     "output_type": "stream",
     "text": [
      "\n",
      "\n",
      "attacut accuracy : 63.082\n"
     ]
    }
   ],
   "source": [
    "attacutWB = accuracy(df,\"attacut\",dict_lexitron)"
   ]
  },
  {
   "cell_type": "code",
   "execution_count": 15,
   "metadata": {},
   "outputs": [
    {
     "data": {
      "text/plain": [
       "5821"
      ]
     },
     "execution_count": 15,
     "metadata": {},
     "output_type": "execute_result"
    }
   ],
   "source": [
    "len(attacutWB)"
   ]
  }
 ],
 "metadata": {
  "interpreter": {
   "hash": "b825cfde57f4fe2b066dee46d870faf19522c56f6a6e540eacd30e52a1215036"
  },
  "kernelspec": {
   "display_name": "Python 3.8.5 64-bit ('base': conda)",
   "name": "python3"
  },
  "language_info": {
   "codemirror_mode": {
    "name": "ipython",
    "version": 3
   },
   "file_extension": ".py",
   "mimetype": "text/x-python",
   "name": "python",
   "nbconvert_exporter": "python",
   "pygments_lexer": "ipython3",
   "version": "3.8.5"
  },
  "orig_nbformat": 4
 },
 "nbformat": 4,
 "nbformat_minor": 2
}

{
 "cells": [
  {
   "cell_type": "markdown",
   "source": [
    "# Word Break Notebook"
   ],
   "metadata": {}
  },
  {
   "cell_type": "code",
   "execution_count": 3,
   "source": [
    "## PyThaiNLP\r\n",
    "import pandas as pd\r\n",
    "from pythainlp import word_tokenize as tokenize\r\n",
    "from pythainlp.util import *\r\n",
    "from tqdm.auto import tqdm\r\n",
    "import os\r\n",
    "tqdm.pandas()"
   ],
   "outputs": [],
   "metadata": {}
  },
  {
   "cell_type": "markdown",
   "source": [
    "## Read DataFrame"
   ],
   "metadata": {}
  },
  {
   "cell_type": "code",
   "execution_count": 4,
   "source": [
    "path = \"../asset/CleanedData\"\r\n",
    "agent = os.listdir(path)\r\n",
    "# print(agent)"
   ],
   "outputs": [],
   "metadata": {}
  },
  {
   "cell_type": "code",
   "execution_count": 5,
   "source": [
    "df = pd.DataFrame()\r\n",
    "date = \"01_10_2021\"\r\n",
    "\r\n",
    "for i in agent:\r\n",
    "    # print(path + \"/\" + i + \"/\" + date + \".csv\")\r\n",
    "    try:\r\n",
    "        df_temp = pd.read_csv(path + \"/\" + i + \"/\" + date + \".csv\")\r\n",
    "        df = df.append(df_temp, ignore_index=True)\r\n",
    "        # print(\"success\")\r\n",
    "    except:\r\n",
    "        pass"
   ],
   "outputs": [],
   "metadata": {}
  },
  {
   "cell_type": "code",
   "execution_count": 6,
   "source": [
    "NEWMM = \"newmm\"\r\n",
    "ATTACUT = \"attacut\"\r\n",
    "list_column = df.columns.values.tolist()\r\n",
    "columnName = list_column[1]\r\n",
    "\r\n",
    "def word_break(news,engine):\r\n",
    "    segment = tokenize(news,keep_whitespace=False,engine=engine)\r\n",
    "    return segment"
   ],
   "outputs": [],
   "metadata": {}
  },
  {
   "cell_type": "markdown",
   "source": [
    "## Word Break Example"
   ],
   "metadata": {}
  },
  {
   "cell_type": "code",
   "execution_count": 7,
   "source": [
    "text = df[columnName].iloc[2]\r\n",
    "print(text)\r\n",
    "print(\"ATTACUT : \" + \" | \".join(word_break(text,ATTACUT)))\r\n",
    "print(\"NEWMM : \" + \" | \".join(word_break(text,NEWMM)))"
   ],
   "outputs": [
    {
     "output_type": "stream",
     "name": "stdout",
     "text": [
      "ทุกวันนี้ผู้คนคุ้นเคยกับอุปกรณ์มากมาย เช่น สมาร์ทโฟน แท็บเล็ต คอมพิวเตอร์ แล็ปท็อป และอื่นๆ อีกมากมาย ที่ช่วยบอกเวลาได้ แต่ทำไมถึงยังต้องมีนาฬิกาข้อมือ? เพราะผู้คนใช้นาฬิกาไม่เพียงแต่เพื่อดูเวลาเท่านั้น แต่ยังแสดงถึงทัศนคติ สถานะ รสนิยม และความหลงใหลส่วนตัวอีกด้วย อย่างเช่น นาฬิกา Rolex (Rolex Watches)นาฬิกาสุดหรูสำหรับคนที่ต้องการเสริมภาพลักษณ์ให้กับตัวเองและทำไม Rolex ถึงกลายเป็นแบรนด์นาฬิกาสุดหรูชั้นนำของโลก หากคุณเป็นผู้ที่ชื่นชอบนาฬิกาและกำลังมองหานาฬิกาสักเรือนที่จะช่วยให้คุณดูดีมีรสนิยมยิ่งขึ้นนั้น ลองมาอ่านบทความนี้กัน เหตุผลที่ Rolex Watches เป็นนาฬิกาหรูหราที่ช่วยเสริมภาพลักษณ์ ทุกคนรู้จัก Rolex Watches ว่าเป็นนาฬิกาแบรนด์หรูและมีชื่อเสียงอย่างมาก แต่นอกเหนือไปจากความหรูหรามีระดับแล้วนั้น Rolex ยังเป็นเครื่องประดับที่มีเสน่ห์ และช่วยเสริมภาพลักษณ์ที่ดูดีให้กับผู้สวมใส่อีกด้วย รวมถึงเหตุผลดี ๆ เหล่านี้ เป็นแบรนด์หรูที่เป็นที่รู้จักมากที่สุด Rolex Watches เป็นที่รู้จักมากที่สุดในบรรดาแบรนด์นาฬิกาหรูของโลก โดยพื้นฐานแล้วมีกลุ่มลูกค้า Rolex สองกลุ่มผู้ที่รู้จักดี และผู้ที่รู้น้อยมาก ผู้ที่สนใจซื้อ Rolex นั้นเนื่องจากเป็นนาฬิกาที่มีคุณภาพสูงแล้ว ยังเป็นนาฬิกาที่ใช้งานได้รอบด้านที่ดีที่สุดสำหรับการสวมใส่ในชีวิตประจำวันและช่วยเพิ่มภาพลักษณ์ให้ดูดี ระดับคุณภาพสม่ำเสมอ พื้นฐานสำหรับความสำเร็จของ Rolex คือคุณภาพของผลิตภัณฑ์ที่สูงมากตลอดหลายปีที่ผ่านมา […]\n",
      "The post “นาฬิกา” เครื่องประดับเสริมภาพลักษณ์ที่ควรมีไว้ติดบ้าน first appeared on สำนักข่าว บางกอก ทูเดย์.\n",
      "ATTACUT : ทุก | วัน | นี้ | ผู้คน | คุ้นเคย | กับ | อุปกรณ์ | มากมาย | เช่น | สมาร์ทโฟน | แท็บเล็ต | คอมพิวเตอร์ | แล็ปท็อป | และ | อื่น | ๆ | อีก | มากมาย | ที่ | ช่วย | บอก | เวลา | ได้ | แต่ | ทำไม | ถึง | ยัง | ต้อง | มี | นาฬิกา | ข้อ | มือ | ? | เพราะ | ผู้คน | ใช้ | นาฬิกา | ไม่ | เพียง | แต่ | เพื่อ | ดู | เวลา | เท่า | นั้น | แต่ | ยัง | แสดง | ถึง | ทัศนคติ | สถานะ | รสนิยม | และ | ความ | หลงใหล | ส่วน | ตัว | อีก | ด้วย | อย่าง | เช่น | นาฬิกา | Rolex | ( | Rolex | Watches | ) | นาฬิกา | สุด | หรู | สำหรับ | คน | ที่ | ต้องการ | เสริม | ภาพลักษณ์ | ให้ | กับ | ตัว | เอง | และ | ทำไม | Rolex | ถึง | กลาย | เป็น | แบรนด์ | นาฬิกา | สุด | หรู | ชั้น | นำ | ของ | โลก | หาก | คุณ | เป็น | ผู้ | ที่ | ชื่นชอบ | นาฬิกา | และ | กำลัง | มอง | หา | นาฬิกา | สัก | เรือน | ที่ | จะ | ช่วย | ให้ | คุณ | ดู | ดี | มี | รสนิยม | ยิ่ง | ขึ้น | นั้น | ลอง | มา | อ่าน | บทความ | นี้ | กัน | เหตุผล | ที่ | Rolex | Watches | เป็น | นาฬิกา | หรูหรา | ที่ | ช่วย | เสริม | ภาพลักษณ์ | ทุก | คน | รู้จัก | Rolex | Watches | ว่า | เป็น | นาฬิกา | แบรนด์ | หรู | และ | มี | ชื่อเสียง | อย่าง | มาก | แต่ | นอกเหนือ | ไป | จาก | ความ | หรูหรา | มี | ระดับ | แล้ว | นั้น | Role | x | ยัง | เป็น | เครื่อง | ประดับ | ที่ | มี | เสน่ห์ | และ | ช่วย | เสริม | ภาพลักษณ์ | ที่ | ดู | ดี | ให้ | กับ | ผู้ | สวม | ใส่ | อีก | ด้วย | รวม | ถึง | เหตุผล | ดี | ๆ | เหล่า | นี้ | เป็น | แบรนด์ | หรู | ที่ | เป็น | ที่ | รู้จัก | มาก | ที่สุด | Rolex | Watches | เป็น | ที่ | รู้จัก | มาก | ที่สุด | ใน | บรรดา | แบรนด์ | นาฬิกา | หรู | ของ | โลก | โดย | พื้นฐาน | แล้ว | มี | กลุ่ม | ลูกค้า | Rolex | สอง | กลุ่ม | ผู้ | ที่ | รู้จัก | ดี | และ | ผู้ | ที่ | รู้ | น้อย | มาก | ผู้ | ที่ | สนใจ | ซื้อ | Rolex | นั้น | เนื่อง | จาก | เป็น | นาฬิกา | ที่ | มี | คุณภาพ | สูง | แล้ว | ยัง | เป็น | นาฬิกา | ที่ | ใช้ | งาน | ได้ | รอบ | ด้าน | ที่ | ดี | ที่สุด | สำหรับ | การ | สวมใส่ | ใน | ชีวิต | ประจำ | วัน | และ | ช่วย | เพิ่ม | ภาพลักษณ์ | ให้ | ดู | ดี | ระดับ | คุณภาพ | สม่ำเสมอ | พื้นฐาน | สำหรับ | ความ | สำเร็จ | ของ | Role | x | คือ | คุณภาพ | ของ | ผลิตภัณฑ์ | ที่ | สูง | มาก | ตลอด | หลาย | ปี | ที่ | ผ่าน | มา | [ | … | ] | \n",
      " | The | post | “ | นาฬิกา | ” | เครื่อง | ประดับ | เสริม | ภาพลักษณ์ | ที่ | ควร | มี | ไว้ | ติด | บ้าน | first | appeared | on | สำนักข่าว | บางกอก ทู | เดย์ | .\n",
      "NEWMM : ทุกวันนี้ | ผู้ | คนคุ้นเคย | กับ | อุปกรณ์ | มากมาย | เช่น | สมาร์ท | โฟน | แท็บเล็ต | คอมพิวเตอร์ | แล็ปท็อป | และ | อื่นๆ | อีก | มากมาย | ที่ | ช่วย | บอก | เวลา | ได้ | แต่ | ทำไม | ถึง | ยัง | ต้อง | มี | นาฬิกาข้อมือ | ? | เพราะ | ผู้ | คนใช้ | นาฬิกา | ไม่เพียงแต่ | เพื่อ | ดู | เวลา | เท่านั้น | แต่ | ยัง | แสดงถึง | ทัศนคติ | สถานะ | รสนิยม | และ | ความ | หลงใหล | ส่วนตัว | อีกด้วย | อย่างเช่น | นาฬิกา | Rolex | ( | Rolex | Watches | ) | นาฬิกา | สุด | หรู | สำหรับ | คน | ที่ | ต้องการ | เสริม | ภาพลักษณ์ | ให้ | กับ | ตัวเอง | และ | ทำไม | Rolex | ถึง | กลายเป็น | แบรนด์ | นาฬิกา | สุด | หรู | ชั้นนำ | ของ | โลก | หาก | คุณ | เป็น | ผู้ | ที่ | ชื่นชอบ | นาฬิกา | และ | กำลัง | มองหา | นาฬิกา | สัก | เรือน | ที่จะ | ช่วย | ให้ | คุณ | ดูดี | มี | รสนิยม | ยิ่งขึ้น | นั้น | ลอง | มา | อ่าน | บทความ | นี้ | กัน | เหตุผล | ที่ | Rolex | Watches | เป็น | นาฬิกา | หรูหรา | ที่ | ช่วย | เสริม | ภาพลักษณ์ | ทุก | คนรู้จัก | Rolex | Watches | ว่า | เป็น | นาฬิกา | แบรนด์ | หรู | และ | มีชื่อเสียง | อย่าง | มาก | แต่ | นอกเหนือ | ไป | จาก | ความหรูหรา | มีระดับ | แล้ว | นั้น | Rolex | ยัง | เป็น | เครื่องประดับ | ที่ | มีเสน่ห์ | และ | ช่วย | เสริม | ภาพลักษณ์ | ที่ | ดูดี | ให้ | กับ | ผู้ | สวมใส่ | อีกด้วย | รวมถึง | เหตุผล | ดี ๆ | เหล่านี้ | เป็น | แบรนด์ | หรู | ที่ | เป็นที่รู้จัก | มาก | ที่สุด | Rolex | Watches | เป็นที่รู้จัก | มาก | ที่สุด | ใน | บรรดา | แบรนด์ | นาฬิกา | หรู | ของ | โลก | โดย | พื้นฐาน | แล้ว | มี | กลุ่ม | ลูกค้า | Rolex | สอง | กลุ่ม | ผู้ | ที่ | รู้จัก | ดี | และ | ผู้ | ที่ | รู้ | น้อย | มาก | ผู้ | ที่ | สนใจ | ซื้อ | Rolex | นั้น | เนื่องจาก | เป็น | นาฬิกา | ที่ | มี | คุณภาพ | สูง | แล้ว | ยัง | เป็น | นาฬิกา | ที่ | ใช้งาน | ได้ | รอบด้าน | ที่ | ดี | ที่สุด | สำหรับ | การ | สวมใส่ | ใน | ชีวิตประจำวัน | และ | ช่วย | เพิ่ม | ภาพลักษณ์ | ให้ | ดูดี | ระดับ | คุณภาพ | สม่ำเสมอ | พื้นฐาน | สำหรับ | ความสำเร็จ | ของ | Rolex | คือ | คุณภาพ | ของ | ผลิตภัณฑ์ | ที่สูง | มาก | ตลอด | หลาย | ปี | ที่ผ่านมา | […] | \n",
      " | The | post | “ | นาฬิกา | ” | เครื่องประดับ | เสริม | ภาพลักษณ์ | ที่ | ควร | มี | ไว้ | ติด | บ้าน | first | appeared | on | สำนักข่าว | บางกอก | ทูเดย์ | .\n"
     ]
    }
   ],
   "metadata": {}
  },
  {
   "cell_type": "code",
   "execution_count": 8,
   "source": [
    "text_file = open(\"../asset/Dict/lexitron.txt\", \"r\",encoding=\"utf-8\")\r\n",
    "content = text_file.read()\r\n",
    "dict_lexitron = content.split(\"\\n\")\r\n",
    "text_file.close()\r\n",
    "dict_lexitron[:5]"
   ],
   "outputs": [
    {
     "output_type": "execute_result",
     "data": {
      "text/plain": [
       "['ก.', 'ก.ค.', 'ก.ต.', 'ก.ป.ส.', 'ก.พ.']"
      ]
     },
     "metadata": {},
     "execution_count": 8
    }
   ],
   "metadata": {}
  },
  {
   "cell_type": "code",
   "execution_count": 9,
   "source": [
    "text_file = open(\"../asset/Dict/remove_alien_3.txt\", \"r\",encoding=\"utf-8\")\r\n",
    "content = text_file.read()\r\n",
    "dict_thai2vec = content.split(\"\\n\")\r\n",
    "text_file.close()\r\n",
    "dict_thai2vec[:5]"
   ],
   "outputs": [
    {
     "output_type": "execute_result",
     "data": {
      "text/plain": [
       "['the', 'of', 'and', 'to', 'university']"
      ]
     },
     "metadata": {},
     "execution_count": 9
    }
   ],
   "metadata": {}
  },
  {
   "cell_type": "code",
   "execution_count": 10,
   "source": [
    "newmmWB = []\r\n",
    "attacutWB = []"
   ],
   "outputs": [],
   "metadata": {}
  },
  {
   "cell_type": "code",
   "execution_count": 11,
   "source": [
    "def cumulate_wb(df_news,engine):\r\n",
    "  all = set()\r\n",
    "  for i in tqdm(range(len(df_news))):\r\n",
    "    all = all.union(set(word_break(df_news.iloc[i][columnName],engine)))\r\n",
    "  mylist = list(all)\r\n",
    "  mylist = [word for word in mylist if isthai(word,ignore_chars='.()-')]\r\n",
    "  return mylist"
   ],
   "outputs": [],
   "metadata": {}
  },
  {
   "cell_type": "code",
   "execution_count": 12,
   "source": [
    "def accuracy(df_news,engine,dict_list):\r\n",
    "  result = cumulate_wb(df_news,engine)\r\n",
    "  amount = len(result)\r\n",
    "  inDict = [word for word in result if word in dict_list]\r\n",
    "  isThai = len(inDict)\r\n",
    "  print('\\n')\r\n",
    "  print(str(engine) + ' accuracy : ' + str(round((isThai / amount)*100,3)))\r\n",
    "  return result"
   ],
   "outputs": [],
   "metadata": {}
  },
  {
   "cell_type": "code",
   "execution_count": 13,
   "source": [
    "newmmWB = accuracy(df,\"newmm\",dict_lexitron)"
   ],
   "outputs": [
    {
     "output_type": "stream",
     "name": "stderr",
     "text": [
      "100%|██████████| 543/543 [00:01<00:00, 381.62it/s]\n"
     ]
    },
    {
     "output_type": "stream",
     "name": "stdout",
     "text": [
      "\n",
      "\n",
      "newmm accuracy : 88.358\n"
     ]
    }
   ],
   "metadata": {}
  },
  {
   "cell_type": "code",
   "execution_count": 14,
   "source": [
    "len(newmmWB)"
   ],
   "outputs": [
    {
     "output_type": "execute_result",
     "data": {
      "text/plain": [
       "6571"
      ]
     },
     "metadata": {},
     "execution_count": 14
    }
   ],
   "metadata": {}
  },
  {
   "cell_type": "code",
   "execution_count": 15,
   "source": [
    "attacutWB = accuracy(df,\"attacut\",dict_lexitron)"
   ],
   "outputs": [
    {
     "output_type": "stream",
     "name": "stderr",
     "text": [
      "100%|██████████| 543/543 [00:21<00:00, 24.94it/s]\n"
     ]
    },
    {
     "output_type": "stream",
     "name": "stdout",
     "text": [
      "\n",
      "\n",
      "attacut accuracy : 65.404\n"
     ]
    }
   ],
   "metadata": {}
  },
  {
   "cell_type": "code",
   "execution_count": 16,
   "source": [
    "len(attacutWB)"
   ],
   "outputs": [
    {
     "output_type": "execute_result",
     "data": {
      "text/plain": [
       "5096"
      ]
     },
     "metadata": {},
     "execution_count": 16
    }
   ],
   "metadata": {}
  }
 ],
 "metadata": {
  "orig_nbformat": 4,
  "language_info": {
   "name": "python",
   "version": "3.8.5",
   "mimetype": "text/x-python",
   "codemirror_mode": {
    "name": "ipython",
    "version": 3
   },
   "pygments_lexer": "ipython3",
   "nbconvert_exporter": "python",
   "file_extension": ".py"
  },
  "kernelspec": {
   "name": "python3",
   "display_name": "Python 3.8.5 64-bit ('base': conda)"
  },
  "interpreter": {
   "hash": "b825cfde57f4fe2b066dee46d870faf19522c56f6a6e540eacd30e52a1215036"
  }
 },
 "nbformat": 4,
 "nbformat_minor": 2
}
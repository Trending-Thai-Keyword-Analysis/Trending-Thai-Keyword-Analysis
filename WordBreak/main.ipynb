{
 "cells": [
  {
   "cell_type": "markdown",
   "source": [
    "# Word Break Notebook"
   ],
   "metadata": {}
  },
  {
   "cell_type": "code",
   "execution_count": 14,
   "source": [
    "## PyThaiNLP\r\n",
    "import pythainlp as pt\r\n",
    "from pythainlp import word_tokenize as tokenize"
   ],
   "outputs": [],
   "metadata": {}
  },
  {
   "cell_type": "code",
   "execution_count": 12,
   "source": [
    "NEWMM = \"newmm\"\r\n",
    "ATTACUT = \"attacut\"\r\n",
    "\r\n",
    "def word_break(news,engine):\r\n",
    "    segment = tokenize(news,keep_whitespace=False,engine=engine)\r\n",
    "    return segment\r\n"
   ],
   "outputs": [],
   "metadata": {}
  },
  {
   "cell_type": "code",
   "execution_count": 21,
   "source": [
    "## Test Engine\r\n",
    "text = \"สวัสดีครับอาจารย์ทุกท่าน\"\r\n",
    "print(\"ATTACUT : \" + \" | \".join(word_break(text,ATTACUT)))\r\n",
    "print(\"NEWMM : \" + \" | \".join(word_break(text,NEWMM)))"
   ],
   "outputs": [
    {
     "output_type": "stream",
     "name": "stdout",
     "text": [
      "ATTACUT : สวัสดี | ครับ | อาจารย์ | ทุก | ท่าน\n",
      "NEWMM : สวัสดี | ครับ | อาจารย์ | ทุกท่าน\n"
     ]
    }
   ],
   "metadata": {}
  }
 ],
 "metadata": {
  "orig_nbformat": 4,
  "language_info": {
   "name": "python",
   "version": "3.7.9",
   "mimetype": "text/x-python",
   "codemirror_mode": {
    "name": "ipython",
    "version": 3
   },
   "pygments_lexer": "ipython3",
   "nbconvert_exporter": "python",
   "file_extension": ".py"
  },
  "kernelspec": {
   "name": "python3",
   "display_name": "Python 3.7.9 64-bit"
  },
  "interpreter": {
   "hash": "79e31fca8912b52a24e38fd1bb3098dbc875f72cd4b82e079863a26457044337"
  }
 },
 "nbformat": 4,
 "nbformat_minor": 2
}
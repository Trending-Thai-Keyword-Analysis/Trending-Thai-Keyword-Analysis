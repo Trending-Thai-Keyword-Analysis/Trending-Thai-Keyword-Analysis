{
 "cells": [
  {
   "cell_type": "markdown",
   "source": [
    "# This is RSS Feed Notebook"
   ],
   "metadata": {}
  },
  {
   "cell_type": "code",
   "execution_count": 1,
   "source": [
    "import feedparser\r\n",
    "from time import time, sleep\r\n",
    "import pandas as pd\r\n",
    "import numpy as np\r\n",
    "from tqdm.auto import tqdm\r\n",
    "tqdm.pandas()"
   ],
   "outputs": [],
   "metadata": {}
  },
  {
   "cell_type": "code",
   "execution_count": 2,
   "source": [
    "all_agent = {\r\n",
    "    'ThaiPublica' : 'https://thaipublica.org/feed/',\r\n",
    "    'PracharChat' : 'https://www.prachachat.net/feed',\r\n",
    "    'Sanook' : 'http://rssfeeds.sanook.com/rss/feeds/sanook/news.index.xml',\r\n",
    "    'KhaoSod' : 'https://www.khaosod.co.th/feed',\r\n",
    "    'Manager' : 'http://www.manager.co.th/RSS/Home/Breakingnews.xml',\r\n",
    "    'NaewNa' : 'https://www.naewna.com/rss.php',\r\n",
    "    'Matichon' : 'https://www.matichon.co.th/feed',\r\n",
    "    'VoaThai' : 'https://www.voathai.com/api/zykyoeqmvp',\r\n",
    "    'BangkokToday' : 'https://bangkok-today.com/feed/',\r\n",
    "    'Mcot' : 'https://tna.mcot.net/feed',\r\n",
    "    'Mono29' : 'https://mono29.com/news/feed',\r\n",
    "    'Infoquest' : 'https://www.infoquest.co.th/feed',\r\n",
    "    'PrachaTai' : 'https://feeds2.feedburner.com/prachatai?format=xml',\r\n",
    "    'Thaiware' : 'https://www.thaiware.com/rss/rss_latestPost_news.php',\r\n",
    "    'Investing' : 'https://th.investing.com/rss/news.rss',\r\n",
    "    'Goethe' : 'https://www.goethe.de/ins/th/th/rss/ver.rss',\r\n",
    "    'ThaiPBS' : 'https://news.thaipbs.or.th/rss/breakingnews.xml',\r\n",
    "    'SiamBlockchain' : 'https://siamblockchain.com/?call_custom_simple_rss=1',\r\n",
    "    'PostToday' : 'https://www.posttoday.com/rss/src/breakingnews.xml',\r\n",
    "    'ThaiRath' : 'https://www.thairath.co.th/rss/news.xml'\r\n",
    "\r\n",
    "}\r\n",
    "    "
   ],
   "outputs": [],
   "metadata": {}
  },
  {
   "cell_type": "code",
   "execution_count": 3,
   "source": [
    "keys = [\r\n",
    "    'title_detail', \r\n",
    "    'links', \r\n",
    "    'id', \r\n",
    "    'authors', \r\n",
    "    'author', \r\n",
    "    'author_detail', \r\n",
    "    'published_parsed', \r\n",
    "    'tags', \r\n",
    "    'guidislink', \r\n",
    "    'summary_detail', \r\n",
    "    'content']"
   ],
   "outputs": [],
   "metadata": {}
  },
  {
   "cell_type": "code",
   "execution_count": 4,
   "source": [
    "while True:\r\n",
    "    for i in all_agent.keys():\r\n",
    "        df_news = []\r\n",
    "        try:\r\n",
    "            with open('../Data/'+i+'.csv'):\r\n",
    "                df_news = pd.read_csv('../Data/'+i+'.csv')\r\n",
    "        except:\r\n",
    "            create = pd.DataFrame([], columns=['title', 'summary','link','published'])\r\n",
    "            create.to_csv('../Data/'+i+'.csv',index=False)\r\n",
    "            df_news = pd.read_csv('../Data/'+i+'.csv')\r\n",
    "\r\n",
    "        feed = feedparser.parse(all_agent[i])\r\n",
    "        all = [feed.entries[j] for j in range(len(feed.entries))]\r\n",
    "        for x in range(len(all)):\r\n",
    "            for y in keys:\r\n",
    "                if y in all[x].keys():\r\n",
    "                    all[x].pop(y)\r\n",
    "        temp = []\r\n",
    "        for j in all:\r\n",
    "            if not df_news['link'].str.contains(j['link']).any():\r\n",
    "                temp.append(j)\r\n",
    "        \r\n",
    "        new = pd.DataFrame(temp, columns=['title', 'summary','link','published'])\r\n",
    "        csv = pd.concat([df_news,new],ignore_index=True)\r\n",
    "        csv.to_csv('../Data/'+i+'.csv',index=False)\r\n",
    "    sleep(600)\r\n"
   ],
   "outputs": [],
   "metadata": {}
  }
 ],
 "metadata": {
  "orig_nbformat": 4,
  "language_info": {
   "name": "python",
   "version": "3.7.9",
   "mimetype": "text/x-python",
   "codemirror_mode": {
    "name": "ipython",
    "version": 3
   },
   "pygments_lexer": "ipython3",
   "nbconvert_exporter": "python",
   "file_extension": ".py"
  },
  "kernelspec": {
   "name": "python3",
   "display_name": "Python 3.7.9 64-bit"
  },
  "interpreter": {
   "hash": "79e31fca8912b52a24e38fd1bb3098dbc875f72cd4b82e079863a26457044337"
  }
 },
 "nbformat": 4,
 "nbformat_minor": 2
}
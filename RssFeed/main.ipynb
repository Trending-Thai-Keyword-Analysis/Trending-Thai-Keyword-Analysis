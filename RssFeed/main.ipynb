{
 "cells": [
  {
   "cell_type": "markdown",
   "metadata": {},
   "source": [
    "# This is RSS Feed Notebook"
   ]
  },
  {
   "cell_type": "code",
   "execution_count": 1,
   "metadata": {},
   "outputs": [],
   "source": [
    "import feedparser\n",
    "from time import time, sleep\n",
    "import pandas as pd\n",
    "import numpy as np\n",
    "from tqdm.auto import tqdm\n",
    "tqdm.pandas()"
   ]
  },
  {
   "cell_type": "code",
   "execution_count": 2,
   "metadata": {},
   "outputs": [],
   "source": [
    "all_agent = {\n",
    "    'ThaiPublica' : 'https://thaipublica.org/feed/',\n",
    "    'PracharChat' : 'https://www.prachachat.net/feed',\n",
    "    'Sanook' : 'http://rssfeeds.sanook.com/rss/feeds/sanook/news.index.xml',\n",
    "    'KhaoSod' : 'https://www.khaosod.co.th/feed',\n",
    "    'Manager' : 'http://www.manager.co.th/RSS/Home/Breakingnews.xml',\n",
    "    'NaewNa' : 'https://www.naewna.com/rss.php',\n",
    "    'Matichon' : 'https://www.matichon.co.th/feed',\n",
    "    'VoaThai' : 'https://www.voathai.com/api/zykyoeqmvp',\n",
    "    'BangkokToday' : 'https://bangkok-today.com/feed/',\n",
    "    'Mcot' : 'https://tna.mcot.net/feed',\n",
    "    'Mono29' : 'https://mono29.com/news/feed',\n",
    "    'Infoquest' : 'https://www.infoquest.co.th/feed',\n",
    "    'PrachaTai' : 'https://feeds2.feedburner.com/prachatai?format=xml',\n",
    "    'Thaiware' : 'https://www.thaiware.com/rss/rss_latestPost_news.php',\n",
    "    'Investing' : 'https://th.investing.com/rss/news.rss',\n",
    "    'Goethe' : 'https://www.goethe.de/ins/th/th/rss/ver.rss',\n",
    "    'ThaiPBS' : 'https://news.thaipbs.or.th/rss/breakingnews.xml',\n",
    "    'SiamBlockchain' : 'https://siamblockchain.com/?call_custom_simple_rss=1',\n",
    "    'PostToday' : 'https://www.posttoday.com/rss/src/breakingnews.xml',\n",
    "    'ThaiRath' : 'https://www.thairath.co.th/rss/news.xml'\n",
    "\n",
    "}\n",
    "    "
   ]
  },
  {
   "cell_type": "code",
   "execution_count": 3,
   "metadata": {},
   "outputs": [],
   "source": [
    "keys = [\n",
    "    'title_detail', \n",
    "    'links', \n",
    "    'id', \n",
    "    'authors', \n",
    "    'author', \n",
    "    'author_detail', \n",
    "    'published_parsed', \n",
    "    'tags', \n",
    "    'guidislink', \n",
    "    'summary_detail', \n",
    "    'content']"
   ]
  },
  {
   "cell_type": "code",
   "execution_count": 4,
   "metadata": {},
   "outputs": [],
   "source": [
    "while True:\n",
    "    for i in all_agent.keys():\n",
    "        df_news = []\n",
    "        try:\n",
    "            with open('../assets/Data/'+i+'.csv'):\n",
    "                df_news = pd.read_csv('../assets/Data/'+i+'.csv')\n",
    "        except:\n",
    "            create = pd.DataFrame([], columns=['title', 'summary','link','published'])\n",
    "            create.to_csv('../assets/Data/'+i+'.csv',index=False)\n",
    "            df_news = pd.read_csv('../assets/Data/'+i+'.csv')\n",
    "\n",
    "        # print(i)\n",
    "        feed = feedparser.parse(all_agent[i])\n",
    "        all = [feed.entries[j] for j in range(len(feed.entries))]\n",
    "        for x in range(len(all)):\n",
    "            for y in keys:\n",
    "                if y in all[x].keys():\n",
    "                    all[x].pop(y)\n",
    "        temp = []\n",
    "        for j in all:\n",
    "            if not df_news['link'].str.contains(j['link']).any():\n",
    "                temp.append(j)\n",
    "        \n",
    "        new = pd.DataFrame(temp, columns=['title', 'summary','link','published'])\n",
    "        csv = pd.concat([df_news,new],ignore_index=True)\n",
    "        csv.to_csv('../assets/Data/'+i+'.csv',index=False)\n",
    "    sleep(600)\n"
   ]
  }
 ],
 "metadata": {
  "interpreter": {
   "hash": "79e31fca8912b52a24e38fd1bb3098dbc875f72cd4b82e079863a26457044337"
  },
  "kernelspec": {
   "display_name": "Python 3.7.9 64-bit",
   "name": "python3"
  },
  "language_info": {
   "codemirror_mode": {
    "name": "ipython",
    "version": 3
   },
   "file_extension": ".py",
   "mimetype": "text/x-python",
   "name": "python",
   "nbconvert_exporter": "python",
   "pygments_lexer": "ipython3",
   "version": "3.8.5"
  },
  "orig_nbformat": 4
 },
 "nbformat": 4,
 "nbformat_minor": 2
}

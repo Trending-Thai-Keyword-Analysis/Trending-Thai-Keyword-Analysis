{
 "cells": [
  {
   "cell_type": "markdown",
   "metadata": {},
   "source": [
    "# Import Library"
   ]
  },
  {
   "cell_type": "code",
   "execution_count": 1,
   "metadata": {},
   "outputs": [
    {
     "data": {
      "text/plain": [
       "['e:\\\\work\\\\Trending-Thai-Keyword-Analysis\\\\LongestCommonSubstring',\n",
       " 'c:\\\\Users\\\\Alps\\\\.vscode\\\\extensions\\\\ms-toolsai.jupyter-2021.10.1101450599\\\\pythonFiles',\n",
       " 'c:\\\\Users\\\\Alps\\\\.vscode\\\\extensions\\\\ms-toolsai.jupyter-2021.10.1101450599\\\\pythonFiles\\\\lib\\\\python',\n",
       " 'C:\\\\Users\\\\Alps\\\\anaconda3\\\\python38.zip',\n",
       " 'C:\\\\Users\\\\Alps\\\\anaconda3\\\\DLLs',\n",
       " 'C:\\\\Users\\\\Alps\\\\anaconda3\\\\lib',\n",
       " 'C:\\\\Users\\\\Alps\\\\anaconda3',\n",
       " '',\n",
       " 'C:\\\\Users\\\\Alps\\\\AppData\\\\Roaming\\\\Python\\\\Python38\\\\site-packages',\n",
       " 'C:\\\\Users\\\\Alps\\\\anaconda3\\\\lib\\\\site-packages',\n",
       " 'C:\\\\Users\\\\Alps\\\\anaconda3\\\\lib\\\\site-packages\\\\win32',\n",
       " 'C:\\\\Users\\\\Alps\\\\anaconda3\\\\lib\\\\site-packages\\\\win32\\\\lib',\n",
       " 'C:\\\\Users\\\\Alps\\\\anaconda3\\\\lib\\\\site-packages\\\\Pythonwin',\n",
       " 'C:\\\\Users\\\\Alps\\\\anaconda3\\\\lib\\\\site-packages\\\\IPython\\\\extensions',\n",
       " 'C:\\\\Users\\\\Alps\\\\.ipython']"
      ]
     },
     "execution_count": 1,
     "metadata": {},
     "output_type": "execute_result"
    }
   ],
   "source": [
    "import sys\n",
    "sys.path"
   ]
  },
  {
   "cell_type": "code",
   "execution_count": null,
   "metadata": {},
   "outputs": [],
   "source": [
    "import pandas as pd\n",
    "from pythainlp import word_tokenize as tokenize\n",
    "from pythainlp.util import *\n",
    "from tqdm.auto import tqdm\n",
    "from collections import Counter\n",
    "# sys.path.append('../Cython')\n",
    "from Method import *\n",
    "tqdm.pandas()"
   ]
  },
  {
   "cell_type": "markdown",
   "metadata": {},
   "source": [
    "# Load Data"
   ]
  },
  {
   "cell_type": "code",
   "execution_count": null,
   "metadata": {},
   "outputs": [],
   "source": [
    "df = pd.read_csv('../assets/SplitData/2021_10_24.csv')\n",
    "df"
   ]
  },
  {
   "cell_type": "markdown",
   "metadata": {},
   "source": [
    "# Read Stop-Word Method"
   ]
  },
  {
   "cell_type": "code",
   "execution_count": null,
   "metadata": {},
   "outputs": [],
   "source": [
    "def read_stop_word(filename):\n",
    "    text_file = open(f\"../assets/StopWordList/{filename}.txt\", \"r\", encoding='utf-8')\n",
    "    content = text_file.read()\n",
    "    dict_list = content.split(\"\\n\")\n",
    "    text_file.close()\n",
    "    return dict_list"
   ]
  },
  {
   "cell_type": "code",
   "execution_count": null,
   "metadata": {},
   "outputs": [],
   "source": [
    "newmm_stopword = read_stop_word(\"newmm_stopword_m10_th20\")"
   ]
  },
  {
   "cell_type": "code",
   "execution_count": null,
   "metadata": {},
   "outputs": [],
   "source": [
    "attacut_stopword = read_stop_word(\"attacut_stopword_m10_th20\")"
   ]
  },
  {
   "cell_type": "markdown",
   "metadata": {},
   "source": [
    "# Word Break Method"
   ]
  },
  {
   "cell_type": "code",
   "execution_count": null,
   "metadata": {},
   "outputs": [],
   "source": [
    "NEWMM = \"newmm\"\n",
    "ATTACUT = \"attacut\"\n",
    "list_column = df.columns.values.tolist()\n",
    "column_name = list_column[1]\n",
    "\n",
    "def word_break(news,engine):\n",
    "    segment = tokenize(str(news),keep_whitespace=False,engine=engine)\n",
    "    return segment"
   ]
  },
  {
   "cell_type": "code",
   "execution_count": null,
   "metadata": {},
   "outputs": [],
   "source": [
    "atta_list = []\n",
    "newmm_list = []\n",
    "\n",
    "def wordBreak(df):\n",
    "    l = len(df)\n",
    "    for i in tqdm(range(l)):\n",
    "        wb_list = word_break(df.iloc[i][column_name],ATTACUT)\n",
    "        remove_sw = [word for word in wb_list  if word not in attacut_stopword]\n",
    "        atta_list.append(remove_sw)\n",
    "        wb_list = word_break(df.iloc[i][column_name],NEWMM)\n",
    "        remove_sw = [word for word in wb_list  if word not in newmm_stopword]\n",
    "        newmm_list.append(remove_sw)\n",
    "\n",
    "wordBreak(df)"
   ]
  },
  {
   "cell_type": "code",
   "execution_count": null,
   "metadata": {},
   "outputs": [],
   "source": [
    "atta_list"
   ]
  },
  {
   "cell_type": "markdown",
   "metadata": {},
   "source": [
    "# LSC Method"
   ]
  },
  {
   "cell_type": "code",
   "execution_count": null,
   "metadata": {},
   "outputs": [],
   "source": [
    "# def LCS(atta_list, newmm_list):\n",
    "#     l = len(atta_list)\n",
    "#     lcs_atta = []\n",
    "#     lcs_newmm = []\n",
    "#     for i in tqdm(range(l-1)):\n",
    "#         w1_atta = atta_list[i]\n",
    "#         len_w1_atta = len(w1_atta)\n",
    "#         w1_newmm = newmm_list[i]\n",
    "#         len_w1_newmm = len(w1_newmm)\n",
    "#         for j in range(i+1,l):\n",
    "#             w2_atta = atta_list[j]\n",
    "#             len_w2_atta = len(w2_atta)\n",
    "#             w2_newmm = newmm_list[j]\n",
    "#             len_w2_newmm = len(w2_newmm)\n",
    "#             lcs_atta_list,maxl_atta = [],0\n",
    "#             lcs_newmm_list,maxl_newmm = [],0\n",
    "#             if i != j:\n",
    "#                 lcs_atta_list,maxl_atta = lcs(w1_atta,w2_atta,len_w1_atta,len_w2_atta)\n",
    "#                 lcs_newmm_list,maxl_newmm = lcs(w1_newmm,w2_newmm,len_w1_newmm,len_w2_newmm)\n",
    "#                 if lcs_atta_list != []:\n",
    "#                     lcs_atta.extend(lcs_atta_list)\n",
    "#                 if lcs_newmm_list != []:\n",
    "#                     lcs_newmm.extend(lcs_newmm_list)\n",
    "\n",
    "#     lcs_atta_counter = Counter(lcs_atta)\n",
    "#     lcs_newmm_counter = Counter(lcs_newmm)\n",
    "#     return lcs_atta_counter, lcs_newmm_counter"
   ]
  },
  {
   "cell_type": "code",
   "execution_count": null,
   "metadata": {},
   "outputs": [],
   "source": [
    "def LCS_result(data):\n",
    "    # print(\"result\")\n",
    "    df_result = pd.DataFrame(data.items(), columns=['LCS', 'round'])\n",
    "    df_result['total_round'] = df_result['round'].sum()\n",
    "    df_result.sort_values(['round'], ascending=False, inplace=True, ignore_index=True)\n",
    "    return df_result"
   ]
  },
  {
   "cell_type": "markdown",
   "metadata": {},
   "source": [
    "# Result"
   ]
  },
  {
   "cell_type": "code",
   "execution_count": null,
   "metadata": {},
   "outputs": [],
   "source": [
    "lcs()"
   ]
  },
  {
   "cell_type": "code",
   "execution_count": null,
   "metadata": {},
   "outputs": [],
   "source": [
    "lcs_atta, lcs_newmm = find_lcs(atta_list, newmm_list)"
   ]
  },
  {
   "cell_type": "code",
   "execution_count": null,
   "metadata": {},
   "outputs": [],
   "source": [
    "lcs_newmm"
   ]
  },
  {
   "cell_type": "code",
   "execution_count": null,
   "metadata": {},
   "outputs": [],
   "source": [
    "lcs_atta"
   ]
  },
  {
   "cell_type": "code",
   "execution_count": null,
   "metadata": {},
   "outputs": [],
   "source": [
    "result_newmm = LCS_result(lcs_newmm)\n",
    "result_newmm[:20]"
   ]
  },
  {
   "cell_type": "code",
   "execution_count": null,
   "metadata": {},
   "outputs": [],
   "source": [
    "len(result_newmm)"
   ]
  },
  {
   "cell_type": "code",
   "execution_count": null,
   "metadata": {},
   "outputs": [],
   "source": [
    "trend = result_newmm[result_newmm[\"LCS\"].str.contains(\"แอนชิลี\")]\n",
    "trend"
   ]
  },
  {
   "cell_type": "code",
   "execution_count": null,
   "metadata": {},
   "outputs": [],
   "source": [
    "news = df[df[\"summary\"].str.contains(\"แอนชิลี\")]\n",
    "news"
   ]
  },
  {
   "cell_type": "code",
   "execution_count": null,
   "metadata": {},
   "outputs": [],
   "source": [
    "result_atta = LCS_result(lcs_atta)\n",
    "result_atta.head(20)"
   ]
  }
 ],
 "metadata": {
  "interpreter": {
   "hash": "b825cfde57f4fe2b066dee46d870faf19522c56f6a6e540eacd30e52a1215036"
  },
  "kernelspec": {
   "display_name": "Python 3.8.5 64-bit ('base': conda)",
   "name": "python3"
  },
  "language_info": {
   "codemirror_mode": {
    "name": "ipython",
    "version": 3
   },
   "file_extension": ".py",
   "mimetype": "text/x-python",
   "name": "python",
   "nbconvert_exporter": "python",
   "pygments_lexer": "ipython3",
   "version": "3.8.5"
  },
  "orig_nbformat": 4
 },
 "nbformat": 4,
 "nbformat_minor": 2
}

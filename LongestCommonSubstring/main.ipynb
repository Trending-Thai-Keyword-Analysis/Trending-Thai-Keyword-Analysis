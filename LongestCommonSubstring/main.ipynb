{
 "cells": [
  {
   "cell_type": "markdown",
   "source": [
    "# Longest Common Substring Notebook"
   ],
   "metadata": {}
  }
 ],
 "metadata": {
  "orig_nbformat": 4,
  "language_info": {
   "name": "python"
  }
 },
 "nbformat": 4,
 "nbformat_minor": 2
}